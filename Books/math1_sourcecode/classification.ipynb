{
 "cells": [
  {
   "cell_type": "markdown",
   "metadata": {},
   "source": [
    "分類（パーセプトロン）"
   ]
  },
  {
   "cell_type": "markdown",
   "metadata": {},
   "source": [
    "重みベクトル暫定式"
   ]
  },
  {
   "cell_type": "markdown",
   "metadata": {},
   "source": [
    "$\n",
    "w := \\left\\{ \\begin{array}{l}\n",
    "\\displaystyle w + y^{(i)}x~{(i)}  &\\;\\;\\; (f_w(x^{(i)})  \\neq y^{(i)}) \\\\\n",
    "w &\\;\\;\\;( f_w(x^{(i)})  = y^{(i)}) )\n",
    "\\end{array} \\right.\n",
    "$"
   ]
  },
  {
   "cell_type": "code",
   "execution_count": null,
   "metadata": {},
   "outputs": [],
   "source": [
    "import numpy as np\n",
    "import matplotlib.pyplot as plt\n",
    "\n",
    "# 学習データを読み込む\n",
    "train = np.loadtxt('./images1.csv', delimiter=',', skiprows=1)\n",
    "train_x = train[:,0:2]\n",
    "train_y = train[:,2]\n",
    "\n",
    "# 重みの初期化\n",
    "w = np.random.rand(2)\n",
    "\n",
    "# 識別関数\n",
    "def f(x):\n",
    "    if np.dot(w, x) >= 0:\n",
    "        return 1\n",
    "    else:\n",
    "        return -1\n",
    "\n",
    "# 繰り返し回数\n",
    "epoch = 10\n",
    "\n",
    "# 更新回数\n",
    "count = 0\n",
    "\n",
    "# 重みを学習する\n",
    "for _ in range(epoch):\n",
    "    for x, y in zip(train_x, train_y):\n",
    "        if f(x) != y:\n",
    "            w = w + y * x\n",
    "\n",
    "            # ログの出力\n",
    "            count += 1\n",
    "            print('{}回目: w = {}'.format(count, w))\n",
    "\n"
   ]
  },
  {
   "cell_type": "code",
   "execution_count": 2,
   "metadata": {},
   "outputs": [
    {
     "data": {
      "image/png": "[encoded data removed]",
      "text/plain": [
       "<Figure size 432x288 with 1 Axes>"
      ]
     },
     "metadata": {
      "needs_background": "light"
     },
     "output_type": "display_data"
    }
   ],
   "source": [
    "# プロットして確認\n",
    "x1 = np.arange(0, 500)\n",
    "plt.plot(train_x[train_y ==  1, 0], train_x[train_y ==  1, 1], 'o')\n",
    "plt.plot(train_x[train_y == -1, 0], train_x[train_y == -1, 1], 'x')\n",
    "plt.plot(x1, -w[0] / w[1] * x1, linestyle='dashed')\n",
    "plt.show()"
   ]
  },
  {
   "cell_type": "code",
   "execution_count": null,
   "metadata": {},
   "outputs": [],
   "source": []
  }
 ],
 "metadata": {
  "kernelspec": {
   "display_name": "Python 3",
   "language": "python",
   "name": "python3"
  },
  "language_info": {
   "codemirror_mode": {
    "name": "ipython",
    "version": 3
   },
   "file_extension": ".py",
   "mimetype": "text/x-python",
   "name": "python",
   "nbconvert_exporter": "python",
   "pygments_lexer": "ipython3",
   "version": "3.7.2"
  }
 },
 "nbformat": 4,
 "nbformat_minor": 2
}
