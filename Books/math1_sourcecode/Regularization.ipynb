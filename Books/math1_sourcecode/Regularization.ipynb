{
 "cells": [
  {
   "cell_type": "markdown",
   "metadata": {},
   "source": [
    "正則化"
   ]
  },
  {
   "cell_type": "code",
   "execution_count": 1,
   "metadata": {},
   "outputs": [],
   "source": [
    "import numpy as np\n",
    "import matplotlib.pyplot as plt\n",
    "\n",
    "# 真の関数\n",
    "def g(x):\n",
    "    return 0.1 * (x ** 3 + x ** 2 + x)\n",
    "\n",
    "# 真の関数にノイズを加えた学習データを適当な数だけ用意する\n",
    "train_x = np.linspace(-2, 2, 8)\n",
    "train_y = g(train_x) + np.random.randn(train_x.size) * 0.05\n",
    "\n",
    "# 標準化\n",
    "mu = train_x.mean()\n",
    "sigma = train_x.std()\n",
    "def standardize(x):\n",
    "    return (x - mu) / sigma\n",
    "\n",
    "train_z = standardize(train_x)"
   ]
  },
  {
   "cell_type": "code",
   "execution_count": 2,
   "metadata": {},
   "outputs": [],
   "source": [
    "# 学習データの行列を作る\n",
    "def to_matrix(x):\n",
    "    return np.vstack([\n",
    "        np.ones(x.size),\n",
    "        x,\n",
    "        x ** 2,\n",
    "        x ** 3,\n",
    "        x ** 4,\n",
    "        x ** 5,\n",
    "        x ** 6,\n",
    "        x ** 7,\n",
    "        x ** 8,\n",
    "        x ** 9,\n",
    "        x ** 10\n",
    "    ]).T\n",
    "\n",
    "X = to_matrix(train_z)"
   ]
  },
  {
   "cell_type": "code",
   "execution_count": 3,
   "metadata": {},
   "outputs": [],
   "source": [
    "# パラメータの初期化\n",
    "theta = np.random.randn(X.shape[1])\n",
    "\n",
    "# 予測関数\n",
    "def f(x):\n",
    "    return np.dot(x, theta)\n",
    "\n",
    "# 目的関数\n",
    "def E(x, y):\n",
    "    return 0.5 * np.sum((y - f(x)) ** 2)\n",
    "\n",
    "# 正則化定数\n",
    "LAMBDA = 0.5\n",
    "\n",
    "# 学習率\n",
    "ETA = 1e-4\n",
    "\n",
    "# 誤差\n",
    "diff = 1"
   ]
  },
  {
   "cell_type": "code",
   "execution_count": 4,
   "metadata": {},
   "outputs": [
    {
     "data": {
      "image/png": "[encoded data removed]",
      "text/plain": [
       "<Figure size 432x288 with 1 Axes>"
      ]
     },
     "metadata": {
      "needs_background": "light"
     },
     "output_type": "display_data"
    }
   ],
   "source": [
    "# 正則化を適用せずに学習を繰り返す\n",
    "error = E(X, train_y)\n",
    "while diff > 1e-6:\n",
    "    theta = theta - ETA * (np.dot(f(X) - train_y, X))\n",
    "\n",
    "    current_error = E(X, train_y)\n",
    "    diff = error - current_error\n",
    "    error = current_error\n",
    "\n",
    "theta1 = theta\n",
    "\n",
    "# 正則化を適用して学習を繰り返す\n",
    "theta = np.random.randn(X.shape[1])\n",
    "diff = 1\n",
    "error = E(X, train_y)\n",
    "while diff > 1e-6:\n",
    "    reg_term = LAMBDA * np.hstack([0, theta[1:]])\n",
    "    theta = theta - ETA * (np.dot(f(X) - train_y, X) + reg_term)\n",
    "\n",
    "    current_error = E(X, train_y)\n",
    "    diff = error - current_error\n",
    "    error = current_error\n",
    "\n",
    "theta2 = theta\n",
    "\n",
    "# プロットして確認\n",
    "plt.plot(train_z, train_y, 'o')\n",
    "z = standardize(np.linspace(-2, 2, 100))\n",
    "theta = theta1 # 正則化なし\n",
    "plt.plot(z, f(to_matrix(z)), linestyle='dashed')\n",
    "theta = theta2 # 正則化あり\n",
    "plt.plot(z, f(to_matrix(z)))\n",
    "plt.show()"
   ]
  },
  {
   "cell_type": "code",
   "execution_count": null,
   "metadata": {},
   "outputs": [],
   "source": []
  }
 ],
 "metadata": {
  "kernelspec": {
   "display_name": "Python 3",
   "language": "python",
   "name": "python3"
  },
  "language_info": {
   "codemirror_mode": {
    "name": "ipython",
    "version": 3
   },
   "file_extension": ".py",
   "mimetype": "text/x-python",
   "name": "python",
   "nbconvert_exporter": "python",
   "pygments_lexer": "ipython3",
   "version": "3.7.2"
  }
 },
 "nbformat": 4,
 "nbformat_minor": 2
}
