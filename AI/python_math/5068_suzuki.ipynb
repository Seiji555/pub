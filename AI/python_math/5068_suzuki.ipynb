{
 "cells": [
  {
   "cell_type": "markdown",
   "metadata": {},
   "source": [
    "## 24期　5068 鈴木"
   ]
  },
  {
   "cell_type": "markdown",
   "metadata": {},
   "source": [
    "## 基礎"
   ]
  },
  {
   "cell_type": "markdown",
   "metadata": {},
   "source": [
    "★（１）1 + 2 × 3 ÷ 2 - 1を計算せよ"
   ]
  },
  {
   "cell_type": "code",
   "execution_count": null,
   "metadata": {
    "collapsed": true
   },
   "outputs": [],
   "source": []
  },
  {
   "cell_type": "markdown",
   "metadata": {},
   "source": [
    "★（２）以下の型を確認せよ  \n",
    "1  \n",
    "\"1\"  \n",
    "'1'  \n",
    "1.0  \n",
    "True"
   ]
  },
  {
   "cell_type": "code",
   "execution_count": null,
   "metadata": {
    "collapsed": true
   },
   "outputs": [],
   "source": []
  },
  {
   "cell_type": "markdown",
   "metadata": {},
   "source": [
    "★（３）整数に変換して計算せよ  \n",
    "\"1\"  + 2 + '3'"
   ]
  },
  {
   "cell_type": "code",
   "execution_count": 1,
   "metadata": {},
   "outputs": [
    {
     "data": {
      "text/plain": [
       "6"
      ]
     },
     "execution_count": 1,
     "metadata": {},
     "output_type": "execute_result"
    }
   ],
   "source": [
    "int(\"1\")  + int(2) + int('3')"
   ]
  },
  {
   "cell_type": "markdown",
   "metadata": {},
   "source": [
    "★（４）aとbが等しい値か判定する式を書け  \n",
    "a = 10  \n",
    "b = 5 * 5 / 5 + 5"
   ]
  },
  {
   "cell_type": "code",
   "execution_count": null,
   "metadata": {
    "collapsed": true
   },
   "outputs": [],
   "source": []
  },
  {
   "cell_type": "markdown",
   "metadata": {},
   "source": [
    "★（５）実行すると\"hello!\"と表示される関数を作れ"
   ]
  },
  {
   "cell_type": "code",
   "execution_count": null,
   "metadata": {
    "collapsed": true
   },
   "outputs": [],
   "source": []
  },
  {
   "cell_type": "markdown",
   "metadata": {},
   "source": [
    "★（６）２つの引数を取り合計を返す関数を作れ"
   ]
  },
  {
   "cell_type": "code",
   "execution_count": null,
   "metadata": {
    "collapsed": true
   },
   "outputs": [],
   "source": []
  },
  {
   "cell_type": "markdown",
   "metadata": {},
   "source": [
    "★（７）整数を引数に取り、100以上の場合はTrueを、それ以外の場合はFalseを返す関数を作れ"
   ]
  },
  {
   "cell_type": "code",
   "execution_count": 3,
   "metadata": {},
   "outputs": [
    {
     "name": "stdout",
     "output_type": "stream",
     "text": [
      "101 True\n",
      "88 Flase\n"
     ]
    }
   ],
   "source": [
    "def greater_100(x):\n",
    "    if x >= 100:\n",
    "        return(\"True\")\n",
    "    else:\n",
    "        return(\"Flase\")\n",
    "        \n",
    "print(\"101\", greater_100(101))\n",
    "print(\"88\", greater_100(88))\n"
   ]
  },
  {
   "cell_type": "markdown",
   "metadata": {},
   "source": [
    "★（８）引数をprintする関数を作れ。もし引数がない場合は、「引数がないです」と表示せよ"
   ]
  },
  {
   "cell_type": "code",
   "execution_count": null,
   "metadata": {
    "collapsed": true
   },
   "outputs": [],
   "source": []
  },
  {
   "cell_type": "markdown",
   "metadata": {},
   "source": [
    "★★（９）文字列または整数を引数に取り、文字列の場合は文字列の長さを、整数の場合は桁数を返す関数を作れ"
   ]
  },
  {
   "cell_type": "code",
   "execution_count": 14,
   "metadata": {},
   "outputs": [
    {
     "name": "stdout",
     "output_type": "stream",
     "text": [
      "hello 5\n",
      "12345 5\n"
     ]
    }
   ],
   "source": [
    "def len_digit(word):\n",
    "    if type(word) == str:\n",
    "        return(len(word))\n",
    "    elif type(word) == int:\n",
    "        return(len(str(word)))\n",
    "   \n",
    "               \n",
    "print(\"hello\", len_digit(\"hello\"))\n",
    "print(12345, len_digit(12345))\n",
    "      "
   ]
  },
  {
   "cell_type": "markdown",
   "metadata": {},
   "source": [
    "★（１０）２つの引数を取り合計を返す関数をlambda式を用いて作れ"
   ]
  },
  {
   "cell_type": "code",
   "execution_count": null,
   "metadata": {
    "collapsed": true
   },
   "outputs": [],
   "source": []
  },
  {
   "cell_type": "markdown",
   "metadata": {},
   "source": [
    "★（１１）xが100以上の場合に100と、それ以下の場合はxの値を出力するコードを書け"
   ]
  },
  {
   "cell_type": "code",
   "execution_count": null,
   "metadata": {
    "collapsed": true
   },
   "outputs": [],
   "source": []
  },
  {
   "cell_type": "markdown",
   "metadata": {},
   "source": [
    "★★（１２）f(0) = 0, f(1) = 1, f(n) = f(n-1) + f(n-2), n>=2 を満たす数列をフィボナッチ数列と言う。引数としてnを取り、フィボナッチ数列のn番目を返す関数を作れ  \n",
    "ヒント  \n",
    "f(2) = 1 + 0 = 1  \n",
    "f(3) = 1 + 1 = 2  \n",
    "f(4) = 2 + 1 = 3  \n",
    "f(5) = 3 + 2 = 5"
   ]
  },
  {
   "cell_type": "code",
   "execution_count": 25,
   "metadata": {},
   "outputs": [
    {
     "data": {
      "text/plain": [
       "3"
      ]
     },
     "execution_count": 25,
     "metadata": {},
     "output_type": "execute_result"
    }
   ],
   "source": [
    "def fibo(n):\n",
    "    if n == 0:\n",
    "        return(0)\n",
    "    if n == 1:\n",
    "        return(1)\n",
    "#    return(5)\n",
    "    return(fibo(n-1) + fibo(n-2))\n",
    "           \n",
    "fibo(4)"
   ]
  },
  {
   "cell_type": "markdown",
   "metadata": {},
   "source": [
    "★（１３）xを引数として受け取り、xが100以上の場合にAと、xが80以上の場合はBと、それ以下の場合はCと出力する関数を作れ"
   ]
  },
  {
   "cell_type": "code",
   "execution_count": null,
   "metadata": {
    "collapsed": true
   },
   "outputs": [],
   "source": []
  },
  {
   "cell_type": "markdown",
   "metadata": {},
   "source": [
    "★（１４）0から4まで表示するfor文を書け"
   ]
  },
  {
   "cell_type": "code",
   "execution_count": null,
   "metadata": {
    "collapsed": true
   },
   "outputs": [],
   "source": []
  },
  {
   "cell_type": "markdown",
   "metadata": {},
   "source": [
    "★（１５）1から5まで表示するfor文を書け"
   ]
  },
  {
   "cell_type": "code",
   "execution_count": 28,
   "metadata": {},
   "outputs": [
    {
     "name": "stdout",
     "output_type": "stream",
     "text": [
      "1\n",
      "2\n",
      "3\n",
      "4\n",
      "5\n"
     ]
    }
   ],
   "source": [
    "i = 0\n",
    "for i in range(5):\n",
    "    i = i+1\n",
    "    print(i)\n",
    "    "
   ]
  },
  {
   "cell_type": "markdown",
   "metadata": {},
   "source": [
    "★（１６）0から4まで表示するfor文を書け。ただし、2の時は表示しないようにせよ"
   ]
  },
  {
   "cell_type": "code",
   "execution_count": null,
   "metadata": {
    "collapsed": true
   },
   "outputs": [],
   "source": []
  },
  {
   "cell_type": "markdown",
   "metadata": {},
   "source": [
    "★（１７）0から4までのリストを作成せよ"
   ]
  },
  {
   "cell_type": "code",
   "execution_count": null,
   "metadata": {
    "collapsed": true
   },
   "outputs": [],
   "source": []
  },
  {
   "cell_type": "markdown",
   "metadata": {},
   "source": [
    "★（１８）0から4までのリストを作成し、1番目（インデックス0）の要素を切り出せ"
   ]
  },
  {
   "cell_type": "code",
   "execution_count": 1,
   "metadata": {},
   "outputs": [
    {
     "data": {
      "text/plain": [
       "0"
      ]
     },
     "execution_count": 1,
     "metadata": {},
     "output_type": "execute_result"
    }
   ],
   "source": [
    "list_c = list(range(5))\n",
    "# list_c = [0, 1, 2, 3, 4]\n",
    "list_c[0]"
   ]
  },
  {
   "cell_type": "markdown",
   "metadata": {},
   "source": [
    "★（１９）0から4までのリストを作成し、2番目と3番目の要素を切り出せ"
   ]
  },
  {
   "cell_type": "code",
   "execution_count": null,
   "metadata": {
    "collapsed": true
   },
   "outputs": [],
   "source": []
  },
  {
   "cell_type": "markdown",
   "metadata": {},
   "source": [
    "★（２０）0から4までのリストを作成し、その後、最後に5を追加せよ"
   ]
  },
  {
   "cell_type": "code",
   "execution_count": 45,
   "metadata": {},
   "outputs": [
    {
     "data": {
      "text/plain": [
       "[0, 1, 2, 3, 4, 3]"
      ]
     },
     "execution_count": 45,
     "metadata": {},
     "output_type": "execute_result"
    }
   ],
   "source": [
    "list_c = [0, 1, 2, 3, 4]\n",
    "list_c.append(5)\n",
    "\n",
    "\n",
    "list_c"
   ]
  },
  {
   "cell_type": "markdown",
   "metadata": {},
   "source": [
    "★（２１）0から4までのリストを作成し、後ろから２つの要素を切り出せ"
   ]
  },
  {
   "cell_type": "code",
   "execution_count": null,
   "metadata": {
    "collapsed": true
   },
   "outputs": [],
   "source": [
    "list_c = [0, 1, 2, 3, 4]\n"
   ]
  },
  {
   "cell_type": "markdown",
   "metadata": {},
   "source": [
    "★（２２）0から4までのリストを作成し、リストの要素数を表示せよ"
   ]
  },
  {
   "cell_type": "code",
   "execution_count": 46,
   "metadata": {},
   "outputs": [
    {
     "data": {
      "text/plain": [
       "[0, 1, 2, 3, 4]"
      ]
     },
     "execution_count": 46,
     "metadata": {},
     "output_type": "execute_result"
    }
   ],
   "source": [
    "list_c = [0, 1, 2, 3, 4]\n",
    "list_c"
   ]
  },
  {
   "cell_type": "markdown",
   "metadata": {},
   "source": [
    "★（２３）0から4までのリストを作成し、2が含まれるか確認せよ"
   ]
  },
  {
   "cell_type": "code",
   "execution_count": 3,
   "metadata": {},
   "outputs": [
    {
     "name": "stdout",
     "output_type": "stream",
     "text": [
      "True\n"
     ]
    }
   ],
   "source": [
    "list_c = [0, 1, 2, 3, 4]\n",
    "\n",
    "for i in list_c:\n",
    "    if list_c[i] == 2:\n",
    "        print(\"True\")\n",
    "        \n",
    "        "
   ]
  },
  {
   "cell_type": "markdown",
   "metadata": {},
   "source": [
    "★（２４）1から100までの合計を求めよ"
   ]
  },
  {
   "cell_type": "code",
   "execution_count": 10,
   "metadata": {},
   "outputs": [
    {
     "name": "stdout",
     "output_type": "stream",
     "text": [
      "1\n",
      "2\n",
      "3\n",
      "4\n",
      "5\n",
      "6\n",
      "7\n",
      "8\n",
      "9\n",
      "10\n",
      "55\n"
     ]
    }
   ],
   "source": [
    "list_c = list(range(1,11))\n",
    "total = 0\n",
    "\n",
    "for i  in list_c:\n",
    "    print(i)\n",
    "    i = i - 1\n",
    "    total = total + list_c[i]\n",
    "\n",
    "\n",
    "print(total)"
   ]
  },
  {
   "cell_type": "code",
   "execution_count": 14,
   "metadata": {},
   "outputs": [
    {
     "name": "stdout",
     "output_type": "stream",
     "text": [
      "0\n",
      "1\n",
      "2\n",
      "3\n",
      "4\n",
      "5\n",
      "6\n",
      "7\n",
      "8\n",
      "9\n",
      "55\n"
     ]
    }
   ],
   "source": [
    "list_c = list(range(1,11))\n",
    "total = 0\n",
    "\n",
    "for i  in range(len(list_c) ):\n",
    "    print(i)\n",
    "    total = total + list_c[i]\n",
    "\n",
    "\n",
    "print(total)"
   ]
  },
  {
   "cell_type": "markdown",
   "metadata": {},
   "source": [
    "★（２５）リスト[1,3,2,4,5]を昇順に並べ替えよ"
   ]
  },
  {
   "cell_type": "code",
   "execution_count": null,
   "metadata": {
    "collapsed": true
   },
   "outputs": [],
   "source": []
  },
  {
   "cell_type": "markdown",
   "metadata": {},
   "source": [
    "★（２６）リスト[1,3,2,4,5]を降順に並べ替えよ"
   ]
  },
  {
   "cell_type": "code",
   "execution_count": null,
   "metadata": {
    "collapsed": true
   },
   "outputs": [],
   "source": []
  },
  {
   "cell_type": "markdown",
   "metadata": {},
   "source": [
    "★（２７）enumerateを使ったfor文を作れ"
   ]
  },
  {
   "cell_type": "code",
   "execution_count": null,
   "metadata": {
    "collapsed": true
   },
   "outputs": [],
   "source": []
  },
  {
   "cell_type": "markdown",
   "metadata": {},
   "source": [
    "★（２８）zipを使ったfor文を作れ"
   ]
  },
  {
   "cell_type": "code",
   "execution_count": null,
   "metadata": {
    "collapsed": true
   },
   "outputs": [],
   "source": []
  },
  {
   "cell_type": "markdown",
   "metadata": {},
   "source": [
    "★★★（２９）リストを引数に与えると昇順に並び替える自作関数を実装せよ（組み込み関数のsortは用いてはならない）"
   ]
  },
  {
   "cell_type": "code",
   "execution_count": 7,
   "metadata": {},
   "outputs": [
    {
     "ename": "IndexError",
     "evalue": "list index out of range",
     "output_type": "error",
     "traceback": [
      "\u001b[0;31m---------------------------------------------------------------------------\u001b[0m",
      "\u001b[0;31mIndexError\u001b[0m                                Traceback (most recent call last)",
      "\u001b[0;32m<ipython-input-7-533964eabacb>\u001b[0m in \u001b[0;36m<module>\u001b[0;34m\u001b[0m\n\u001b[1;32m     13\u001b[0m \u001b[0;34m\u001b[0m\u001b[0m\n\u001b[1;32m     14\u001b[0m \u001b[0mlist_c\u001b[0m \u001b[0;34m=\u001b[0m \u001b[0;34m[\u001b[0m\u001b[0;36m5\u001b[0m\u001b[0;34m,\u001b[0m \u001b[0;36m1\u001b[0m\u001b[0;34m,\u001b[0m \u001b[0;36m0\u001b[0m\u001b[0;34m,\u001b[0m \u001b[0;36m9\u001b[0m\u001b[0;34m,\u001b[0m \u001b[0;36m8\u001b[0m\u001b[0;34m]\u001b[0m\u001b[0;34m\u001b[0m\u001b[0;34m\u001b[0m\u001b[0m\n\u001b[0;32m---> 15\u001b[0;31m \u001b[0mascend\u001b[0m\u001b[0;34m(\u001b[0m\u001b[0mlist_c\u001b[0m\u001b[0;34m)\u001b[0m\u001b[0;34m\u001b[0m\u001b[0;34m\u001b[0m\u001b[0m\n\u001b[0m\u001b[1;32m     16\u001b[0m \u001b[0;34m\u001b[0m\u001b[0m\n",
      "\u001b[0;32m<ipython-input-7-533964eabacb>\u001b[0m in \u001b[0;36mascend\u001b[0;34m(arg_list)\u001b[0m\n\u001b[1;32m      4\u001b[0m     \u001b[0;32mfor\u001b[0m \u001b[0mj\u001b[0m \u001b[0;32min\u001b[0m \u001b[0marg_list\u001b[0m\u001b[0;34m:\u001b[0m\u001b[0;34m\u001b[0m\u001b[0;34m\u001b[0m\u001b[0m\n\u001b[1;32m      5\u001b[0m         \u001b[0;32mfor\u001b[0m \u001b[0mi\u001b[0m \u001b[0;32min\u001b[0m \u001b[0marg_list\u001b[0m\u001b[0;34m:\u001b[0m\u001b[0;34m\u001b[0m\u001b[0;34m\u001b[0m\u001b[0m\n\u001b[0;32m----> 6\u001b[0;31m             \u001b[0;32mif\u001b[0m \u001b[0marg_list\u001b[0m\u001b[0;34m[\u001b[0m\u001b[0mi\u001b[0m\u001b[0;34m-\u001b[0m\u001b[0;36m1\u001b[0m\u001b[0;34m]\u001b[0m \u001b[0;34m<=\u001b[0m \u001b[0mmi\u001b[0m \u001b[0;34m:\u001b[0m\u001b[0;34m\u001b[0m\u001b[0;34m\u001b[0m\u001b[0m\n\u001b[0m\u001b[1;32m      7\u001b[0m                 \u001b[0mmi\u001b[0m \u001b[0;34m=\u001b[0m \u001b[0marg_list\u001b[0m\u001b[0;34m[\u001b[0m\u001b[0mi\u001b[0m\u001b[0;34m-\u001b[0m\u001b[0;36m1\u001b[0m\u001b[0;34m]\u001b[0m\u001b[0;34m\u001b[0m\u001b[0;34m\u001b[0m\u001b[0m\n\u001b[1;32m      8\u001b[0m                 \u001b[0mcount\u001b[0m \u001b[0;34m=\u001b[0m \u001b[0mi\u001b[0m \u001b[0;34m-\u001b[0m\u001b[0;36m1\u001b[0m\u001b[0;34m\u001b[0m\u001b[0;34m\u001b[0m\u001b[0m\n",
      "\u001b[0;31mIndexError\u001b[0m: list index out of range"
     ]
    }
   ],
   "source": [
    "def ascend(arg_list):\n",
    "    mi = 10\n",
    "    #count = 0\n",
    "    for j in arg_list:\n",
    "        for i in arg_list:\n",
    "            if arg_list[i-1] <= mi :\n",
    "                mi = arg_list[i-1]\n",
    "                count = i -1\n",
    "        arg_list[count] = arg_list[j-1] \n",
    "        arg_list[j-1] = mi\n",
    "    return(arg_list)\n",
    "        \n",
    "\n",
    "list_c = [5, 1, 0, 9, 8]\n",
    "ascend(list_c)\n",
    "            "
   ]
  },
  {
   "cell_type": "code",
   "execution_count": 9,
   "metadata": {},
   "outputs": [
    {
     "name": "stdout",
     "output_type": "stream",
     "text": [
      "0\n",
      "1\n",
      "2\n",
      "3\n",
      "0\n",
      "1\n",
      "2\n",
      "3\n",
      "0\n",
      "1\n",
      "2\n",
      "3\n"
     ]
    },
    {
     "data": {
      "text/plain": [
       "[0, 1, 5, 8, 9]"
      ]
     },
     "execution_count": 9,
     "metadata": {},
     "output_type": "execute_result"
    }
   ],
   "source": [
    "def bubble_sort(arr):\n",
    "    change = True\n",
    "    while change:\n",
    "        change = False\n",
    "        for i in range(len(arr) - 1):\n",
    "            print(i)\n",
    "            if arr[i] > arr[i + 1]:\n",
    "                arr[i], arr[i + 1] = arr[i + 1], arr[i]\n",
    "                change = True\n",
    "    return arr\n",
    "\n",
    "list_c = [5, 1, 0, 9, 8]\n",
    "bubble_sort(list_c)"
   ]
  },
  {
   "cell_type": "code",
   "execution_count": 12,
   "metadata": {},
   "outputs": [
    {
     "ename": "TypeError",
     "evalue": "'int' object is not iterable",
     "output_type": "error",
     "traceback": [
      "\u001b[0;31m---------------------------------------------------------------------------\u001b[0m",
      "\u001b[0;31mTypeError\u001b[0m                                 Traceback (most recent call last)",
      "\u001b[0;32m<ipython-input-12-230379509bae>\u001b[0m in \u001b[0;36m<module>\u001b[0;34m\u001b[0m\n\u001b[0;32m----> 1\u001b[0;31m \u001b[0;32mfor\u001b[0m \u001b[0mi\u001b[0m \u001b[0;32min\u001b[0m \u001b[0mint\u001b[0m\u001b[0;34m(\u001b[0m\u001b[0;36m5\u001b[0m\u001b[0;34m)\u001b[0m\u001b[0;34m:\u001b[0m\u001b[0;34m\u001b[0m\u001b[0;34m\u001b[0m\u001b[0m\n\u001b[0m\u001b[1;32m      2\u001b[0m        \u001b[0mprint\u001b[0m\u001b[0;34m(\u001b[0m\u001b[0mi\u001b[0m\u001b[0;34m)\u001b[0m\u001b[0;34m\u001b[0m\u001b[0;34m\u001b[0m\u001b[0m\n",
      "\u001b[0;31mTypeError\u001b[0m: 'int' object is not iterable"
     ]
    }
   ],
   "source": [
    " for i in int(5):\n",
    "        print(i)"
   ]
  },
  {
   "cell_type": "markdown",
   "metadata": {},
   "source": [
    "★（３０）リストを与えると、全ての要素を3倍して返す関数を作れ（ただし、リスト内包表記を用いないこと）  \n",
    "例:[1,2,3]→[3,6,9]"
   ]
  },
  {
   "cell_type": "code",
   "execution_count": null,
   "metadata": {
    "collapsed": true
   },
   "outputs": [],
   "source": []
  },
  {
   "cell_type": "markdown",
   "metadata": {},
   "source": [
    "★（３１）リストを与えると、全ての要素を3倍して返す関数を作れ（ただし、リスト内包表記を用いること） "
   ]
  },
  {
   "cell_type": "code",
   "execution_count": null,
   "metadata": {
    "collapsed": true
   },
   "outputs": [],
   "source": []
  },
  {
   "cell_type": "markdown",
   "metadata": {},
   "source": [
    "★（３２）整数と整数の文字列の混じる要素のリストを与えると、全ての要素を整数にして返す関数を作れ（ただし、リスト内包表記を用いないこと）  \n",
    "例:[1,\"2\",3]→[1,2,3]"
   ]
  },
  {
   "cell_type": "code",
   "execution_count": null,
   "metadata": {
    "collapsed": true
   },
   "outputs": [],
   "source": []
  },
  {
   "cell_type": "markdown",
   "metadata": {},
   "source": [
    "★（３３）整数と整数の文字列の混じる要素のリストを与えると、全ての要素を整数にして返す関数を作れ（ただし、リスト内包表記を用いること）  "
   ]
  },
  {
   "cell_type": "code",
   "execution_count": null,
   "metadata": {
    "collapsed": true
   },
   "outputs": [],
   "source": []
  },
  {
   "cell_type": "markdown",
   "metadata": {},
   "source": [
    "★（３４）整数と整数の文字列の混じる要素のリストを与えると、文字列を取り除いたリストを返す関数を作れ（ただし、リスト内包表記を用いないこと）   \n",
    "例:[1,\"2\",3]→[1,3]  \n",
    "ヒント:文字列の判別はisinstance(\"a\", str)でできる"
   ]
  },
  {
   "cell_type": "code",
   "execution_count": null,
   "metadata": {
    "collapsed": true
   },
   "outputs": [],
   "source": []
  },
  {
   "cell_type": "markdown",
   "metadata": {},
   "source": [
    "★（３５）整数と整数の文字列の混じる要素のリストを与えると、文字列を取り除いたリストを返す関数を作れ（ただし、リスト内包表記を用いること）  "
   ]
  },
  {
   "cell_type": "code",
   "execution_count": null,
   "metadata": {
    "collapsed": true
   },
   "outputs": [],
   "source": []
  },
  {
   "cell_type": "markdown",
   "metadata": {},
   "source": [
    "★（３６）リストを与えるとタプルに変換して返す関数を作れ"
   ]
  },
  {
   "cell_type": "code",
   "execution_count": null,
   "metadata": {
    "collapsed": true
   },
   "outputs": [],
   "source": []
  },
  {
   "cell_type": "markdown",
   "metadata": {},
   "source": [
    "★（３７）リスト[1,2,3]とリスト[3,4,5]の重複する要素をセットを用いて出力せよ"
   ]
  },
  {
   "cell_type": "code",
   "execution_count": null,
   "metadata": {
    "collapsed": true
   },
   "outputs": [],
   "source": []
  },
  {
   "cell_type": "markdown",
   "metadata": {},
   "source": [
    "★★（３８）リストを与えると重複要素を削除して返す関数を作れ。なお、出力するリストは昇順に並び替えるものとする"
   ]
  },
  {
   "cell_type": "code",
   "execution_count": null,
   "metadata": {
    "collapsed": true
   },
   "outputs": [],
   "source": []
  },
  {
   "cell_type": "markdown",
   "metadata": {},
   "source": [
    "★（３９）A:1, B:2, C:3のディクトを作れ"
   ]
  },
  {
   "cell_type": "code",
   "execution_count": null,
   "metadata": {
    "collapsed": true
   },
   "outputs": [],
   "source": []
  },
  {
   "cell_type": "markdown",
   "metadata": {},
   "source": [
    "★（４０）A:1, B:2, C:3のディクトを作り、Bのvalueを取得せよ"
   ]
  },
  {
   "cell_type": "code",
   "execution_count": null,
   "metadata": {
    "collapsed": true
   },
   "outputs": [],
   "source": []
  },
  {
   "cell_type": "markdown",
   "metadata": {},
   "source": [
    "★（４１）A:1, B:2, C:3のディクトを作り、Cのvalueを10倍せよ"
   ]
  },
  {
   "cell_type": "code",
   "execution_count": null,
   "metadata": {
    "collapsed": true
   },
   "outputs": [],
   "source": []
  },
  {
   "cell_type": "markdown",
   "metadata": {},
   "source": [
    "★（４２）A:1, B:2, C:3のディクトに対して、keyを引数で受け取り、valueが存在すればvalueを返し、存在しない場合は「存在しません」と表示する関数を作れ"
   ]
  },
  {
   "cell_type": "code",
   "execution_count": null,
   "metadata": {
    "collapsed": true
   },
   "outputs": [],
   "source": []
  },
  {
   "cell_type": "markdown",
   "metadata": {},
   "source": [
    "★★（４３）リスト[1,2,3]の要素をkeyとし、値は各要素の２倍のdictを作れ"
   ]
  },
  {
   "cell_type": "code",
   "execution_count": null,
   "metadata": {
    "collapsed": true
   },
   "outputs": [],
   "source": []
  },
  {
   "cell_type": "markdown",
   "metadata": {},
   "source": [
    "★（４４）A:1, B:2, C:3のディクトを作り、for文でkeyを全てprintせよ"
   ]
  },
  {
   "cell_type": "code",
   "execution_count": null,
   "metadata": {
    "collapsed": true
   },
   "outputs": [],
   "source": []
  },
  {
   "cell_type": "markdown",
   "metadata": {},
   "source": [
    "★（４５）A:1, B:2, C:3のディクトを作り、for文でvalueを全てprintせよ"
   ]
  },
  {
   "cell_type": "code",
   "execution_count": null,
   "metadata": {
    "collapsed": true
   },
   "outputs": [],
   "source": []
  },
  {
   "cell_type": "markdown",
   "metadata": {},
   "source": [
    "★（４６）A:1, B:2, C:3のディクトを作り、for文でkey,valueを全てprintせよ"
   ]
  },
  {
   "cell_type": "code",
   "execution_count": null,
   "metadata": {
    "collapsed": true
   },
   "outputs": [],
   "source": []
  },
  {
   "cell_type": "markdown",
   "metadata": {},
   "source": [
    "★（４７）名字と名前を保持するNameという名前のクラスを作り、インスタンスを作成して各メソッドを実行せよ   \n",
    "・インスタンス変数にlast_nameとfirst_nameを持ち、コンストラクタで受け取る  \n",
    "・インスタンスメソッドでlast_nameを表示できるshow_last_nameという名前のメソッドを持つ  \n",
    "・インスタンスメソッドでfirst_nameを表示できるshow_last_nameという名前のメソッドを持つ  \n",
    "・インスタンスメソッドでlast_nameとfirst_nameを結合して表示できるshow_nameという名前のメソッドを持つ"
   ]
  },
  {
   "cell_type": "code",
   "execution_count": null,
   "metadata": {
    "collapsed": true
   },
   "outputs": [],
   "source": []
  },
  {
   "cell_type": "markdown",
   "metadata": {},
   "source": [
    "★（４８）Calcという名前のクラスを作り、インスタンスを作成して各メソッドを実行せよ  \n",
    "・インスタンスメソッドで2つの引数を受け取り、合計して表示するplusと言う名前のメソッドを持つ  \n",
    "・インスタンスメソッドでリストの引数を受け取り、要素を合計して表示するtotalと言う名前のメソッドを持つ\n"
   ]
  },
  {
   "cell_type": "code",
   "execution_count": null,
   "metadata": {
    "collapsed": true
   },
   "outputs": [],
   "source": []
  },
  {
   "cell_type": "markdown",
   "metadata": {},
   "source": [
    "★★（４９）まとめ問題  \n",
    "以下の設計図を元に計算機クラスを実装せよ  \n",
    "\n",
    "クラス名 Calculator  \n",
    "\n",
    "クラス変数 OPERATORS  \n",
    "リスト[\"+\", \"-\", \"\\*\", \"/\"]を登録しておく\n",
    "\n",
    "コンストラクタ  \n",
    "・数字の引数があればインスタンス変数current_numに保存する  \n",
    "・数字以外を受け取った場合、\"エラー：引数は数字に限られます。0を保存しました。\"と表示してcurrent_numに0をセットする  \n",
    "・引数がない場合、current_numに0を保存する  \n",
    "・インスタンス変数has_operatorにFalseを保存する\n",
    "\n",
    "メソッド名 key  \n",
    "＜has_operatorがFalseの場合＞  \n",
    "・\"+\", \"-\", \"\\*\", \"/\"のどれかの文字列を受け取り、それ以外の値を受け取った場合、\"+,-,\\*,/を入力してください。\"と表示する  \n",
    "・\"+\", \"-\", \"\\*\", \"/\"のどれかの文字列を受け取った場合、インスタンス変数operatorに当該文字列を保存し、has_operatorをTrueにする  \n",
    "＜has_operatorがTrueの場合＞  \n",
    "・数字を受け取り、それ以外の値を受け取った場合、\"数字を入力してください。\"と表示する  \n",
    "・数字を受け取った場合、current_numと当該数字を登録されているoperatorで計算してcurrent_numに保存する。また、has_operatorをFalseにする  \n",
    "例：current_num=\"3\", operator=\"+\", 引数=5 → current_num=8\n",
    "\n",
    "メソッド名 result  \n",
    "current_numを出力する  \n",
    "\n",
    "メソッド名  clear  \n",
    "current_numを0にし、has_operatorをFalseにする  \n",
    "\n",
    "ヒント  \n",
    "引数が数字が否か判定する: isinstance(num, (int, float))"
   ]
  },
  {
   "cell_type": "code",
   "execution_count": null,
   "metadata": {
    "collapsed": true
   },
   "outputs": [],
   "source": []
  },
  {
   "cell_type": "markdown",
   "metadata": {},
   "source": [
    "★★★（５０）以下のRateDataManagerクラスはget_lastest_idメソッドがfor文ごとに呼び出され、無駄にreadが発生している。get_lastest_idをfor文の外に出して1度しか呼ばれないように改修せよ  "
   ]
  },
  {
   "cell_type": "code",
   "execution_count": 53,
   "metadata": {
    "collapsed": true
   },
   "outputs": [],
   "source": [
    "# 問題\n",
    "import os\n",
    "import requests\n",
    "import json\n",
    "\n",
    "class RateDataManager:\n",
    "    \"\"\"\n",
    "    APIでビットコインのレートを取得し、csvに保存する\n",
    "    https://coincheck.com/ja/documents/exchange/api\n",
    "    \"\"\"\n",
    "    \n",
    "    REQ_URL = \"https://coincheck.com/api/trades?pair=btc_jpy\"\n",
    "    DATA_DIR = \"./data\"\n",
    "    COLUMNS = \"pair,rate,amount,created_at,id,order_type\"\n",
    "    \n",
    "    def __init__(self):\n",
    "        self.initialize_data_dir()\n",
    "        self.update_rate_list()\n",
    "\n",
    "\n",
    "    def initialize_data_dir(self):\n",
    "        if not os.path.exists(self.DATA_DIR):\n",
    "            os.makedirs(self.DATA_DIR)\n",
    "            print(\"make dir: {}\".format(self.DATA_DIR))\n",
    "    \n",
    "    \n",
    "    def initialize_data_file(self, target_file):        \n",
    "        if not os.path.exists(\"{}/{}\".format(self.DATA_DIR, target_file)):\n",
    "                with open(\"{}/{}\".format(self.DATA_DIR, target_file), mode=\"w\") as f:\n",
    "                    f.write(self.COLUMNS + \"\\n\")\n",
    "                print(\"make file: {}/{}\".format(self.DATA_DIR, target_file))\n",
    "    \n",
    "    \n",
    "    def update_rate_list(self):    \n",
    "        self.current_rate_list =  json.loads(requests.get(self.REQ_URL).text)[\"data\"]    \n",
    "        \n",
    "    \n",
    "    def get_output_dict(self):\n",
    "        output_dict = {}\n",
    "        for rate in reversed(self.current_rate_list):\n",
    "            rate[\"created_at\"] = rate[\"created_at\"].replace(\"T\",\" \")[:19]\n",
    "            target_file = \"{}_{}.csv\".format(rate[\"pair\"],rate[\"created_at\"][:10])\n",
    "            if not output_dict.get(target_file):\n",
    "                output_dict[target_file] = []\n",
    "            output_dict[target_file].append(rate)\n",
    "        return output_dict\n",
    "    \n",
    "    \n",
    "    def get_lastest_id(self, target_file):        \n",
    "        with open(\"{}/{}\".format(self.DATA_DIR, target_file), mode=\"r\") as f:    \n",
    "            for row in f:\n",
    "                if row == \"\":\n",
    "                    break\n",
    "                last_row = row\n",
    "            latest_id = last_row.split(\",\")[4]\n",
    "            if latest_id == \"id\":\n",
    "                latest_id = 0\n",
    "            else: \n",
    "                latest_id = int(latest_id)        \n",
    "        return latest_id\n",
    "    \n",
    "\n",
    "    def run(self, update=True): \n",
    "        \n",
    "        if update:\n",
    "            self.update_rate_list()\n",
    "        \n",
    "        for target_file, rate_list in  self.get_output_dict().items():\n",
    "            \n",
    "            self.initialize_data_file(target_file)\n",
    "            \n",
    "            text = \"\"\n",
    "            for rate in rate_list:\n",
    "                if int(rate[\"id\"]) > self.get_lastest_id(target_file):  # 無駄にreadしている\n",
    "                    text += \",\".join([str(x) for x in rate.values()]) + \"\\n\"\n",
    "            \n",
    "            if text != \"\":\n",
    "                with open(\"{}/{}\".format(self.DATA_DIR, target_file), mode=\"a\") as f:\n",
    "                    f.write(text)\n",
    "                print(\"write text:\\n\" + text)\n"
   ]
  },
  {
   "cell_type": "code",
   "execution_count": null,
   "metadata": {
    "collapsed": true
   },
   "outputs": [],
   "source": []
  }
 ],
 "metadata": {
  "anaconda-cloud": {},
  "kernelspec": {
   "display_name": "Python 3",
   "language": "python",
   "name": "python3"
  },
  "language_info": {
   "codemirror_mode": {
    "name": "ipython",
    "version": 3
   },
   "file_extension": ".py",
   "mimetype": "text/x-python",
   "name": "python",
   "nbconvert_exporter": "python",
   "pygments_lexer": "ipython3",
   "version": "3.7.2"
  }
 },
 "nbformat": 4,
 "nbformat_minor": 1
}
