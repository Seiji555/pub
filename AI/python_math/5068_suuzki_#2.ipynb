{
 "cells": [
  {
   "cell_type": "markdown",
   "metadata": {},
   "source": [
    "## numpy"
   ]
  },
  {
   "cell_type": "code",
   "execution_count": 1,
   "metadata": {},
   "outputs": [],
   "source": [
    "import numpy as np"
   ]
  },
  {
   "cell_type": "markdown",
   "metadata": {},
   "source": [
    "Q.1.1  \n",
    "★ 1,2,3,4の配列を作れ"
   ]
  },
  {
   "cell_type": "code",
   "execution_count": 3,
   "metadata": {},
   "outputs": [
    {
     "data": {
      "text/plain": [
       "array([1, 2, 3, 4])"
      ]
     },
     "execution_count": 3,
     "metadata": {},
     "output_type": "execute_result"
    }
   ],
   "source": [
    "import numpy as np\n",
    "\n",
    "arrary_1 = np.array([1,2,3,4])\n",
    "\n",
    "arrary_1"
   ]
  },
  {
   "cell_type": "markdown",
   "metadata": {},
   "source": [
    "Q.1.2  \n",
    "★以下の２次元配列を作れ  \n",
    "1,2,4  \n",
    "8,16,32"
   ]
  },
  {
   "cell_type": "code",
   "execution_count": 5,
   "metadata": {},
   "outputs": [
    {
     "data": {
      "text/plain": [
       "array([list([1, 2, 3, 4]), list([8, 16, 32])], dtype=object)"
      ]
     },
     "execution_count": 5,
     "metadata": {},
     "output_type": "execute_result"
    }
   ],
   "source": [
    "arrary_1 = np.array([[1,2,3,4], [8, 16, 32]])\n",
    "\n",
    "arrary_1"
   ]
  },
  {
   "cell_type": "markdown",
   "metadata": {},
   "source": [
    "Q.1.3  \n",
    "★1,2,3,4,5,6の配列を作り、2行3列に変換せよ"
   ]
  },
  {
   "cell_type": "code",
   "execution_count": 6,
   "metadata": {},
   "outputs": [
    {
     "data": {
      "text/plain": [
       "array([[1, 2, 3],\n",
       "       [4, 5, 6]])"
      ]
     },
     "execution_count": 6,
     "metadata": {},
     "output_type": "execute_result"
    }
   ],
   "source": [
    "lis = np.array([1,2,3,4,5,6])\n",
    "\n",
    "array_1 = np.array(lis).reshape(2,3)\n",
    "\n",
    "array_1"
   ]
  },
  {
   "cell_type": "markdown",
   "metadata": {},
   "source": [
    "Q.1.4  \n",
    "★1,2,3,4,5,6の配列を作り、6行1列に変換せよ"
   ]
  },
  {
   "cell_type": "code",
   "execution_count": 9,
   "metadata": {},
   "outputs": [
    {
     "data": {
      "text/plain": [
       "array([[1],\n",
       "       [2],\n",
       "       [3],\n",
       "       [4],\n",
       "       [5],\n",
       "       [6]])"
      ]
     },
     "execution_count": 9,
     "metadata": {},
     "output_type": "execute_result"
    }
   ],
   "source": [
    "lis = np.array([1,2,3,4,5,6])\n",
    "\n",
    "array_1 = np.array(lis).reshape(6,1)\n",
    "\n",
    "array_1"
   ]
  },
  {
   "cell_type": "markdown",
   "metadata": {},
   "source": [
    "Q.1.5  \n",
    "★以下の２次元配列を作り、1次元配列に変換せよ  \n",
    "1,2,4  \n",
    "8,16,32"
   ]
  },
  {
   "cell_type": "code",
   "execution_count": 10,
   "metadata": {},
   "outputs": [
    {
     "name": "stdout",
     "output_type": "stream",
     "text": [
      "[ 1  2  4  8 16 32]\n"
     ]
    }
   ],
   "source": [
    "lis = np.array([[1,2,4], [8,16,32]])\n",
    "array = lis.flatten()\n",
    "print(array)"
   ]
  },
  {
   "cell_type": "markdown",
   "metadata": {},
   "source": [
    "Q.1.6  \n",
    "★以下の２次元配列を作り、何行何列か調べよ  \n",
    "1,2,4  \n",
    "8,16,32"
   ]
  },
  {
   "cell_type": "code",
   "execution_count": null,
   "metadata": {
    "collapsed": true
   },
   "outputs": [],
   "source": []
  },
  {
   "cell_type": "markdown",
   "metadata": {},
   "source": [
    "Q.1.7  \n",
    "★以下の２次元配列を作り、次元数を調べよ  \n",
    "1,2,4  \n",
    "8,16,32"
   ]
  },
  {
   "cell_type": "code",
   "execution_count": 11,
   "metadata": {},
   "outputs": [
    {
     "data": {
      "text/plain": [
       "(2, 3)"
      ]
     },
     "execution_count": 11,
     "metadata": {},
     "output_type": "execute_result"
    }
   ],
   "source": [
    "lis = np.array([[1,2,4], [8,16,32]])\n",
    "lis.shape"
   ]
  },
  {
   "cell_type": "markdown",
   "metadata": {},
   "source": [
    "Q.1.8  \n",
    "★以下の２次元配列を作り、要素数を調べよ  \n",
    "1,2,4  \n",
    "8,16,32"
   ]
  },
  {
   "cell_type": "code",
   "execution_count": null,
   "metadata": {
    "collapsed": true
   },
   "outputs": [],
   "source": []
  },
  {
   "cell_type": "markdown",
   "metadata": {},
   "source": [
    "Q.2.1  \n",
    "★1-100までの配列を作成せよ"
   ]
  },
  {
   "cell_type": "code",
   "execution_count": 2,
   "metadata": {},
   "outputs": [
    {
     "data": {
      "text/plain": [
       "array([  1,   2,   3,   4,   5,   6,   7,   8,   9,  10,  11,  12,  13,\n",
       "        14,  15,  16,  17,  18,  19,  20,  21,  22,  23,  24,  25,  26,\n",
       "        27,  28,  29,  30,  31,  32,  33,  34,  35,  36,  37,  38,  39,\n",
       "        40,  41,  42,  43,  44,  45,  46,  47,  48,  49,  50,  51,  52,\n",
       "        53,  54,  55,  56,  57,  58,  59,  60,  61,  62,  63,  64,  65,\n",
       "        66,  67,  68,  69,  70,  71,  72,  73,  74,  75,  76,  77,  78,\n",
       "        79,  80,  81,  82,  83,  84,  85,  86,  87,  88,  89,  90,  91,\n",
       "        92,  93,  94,  95,  96,  97,  98,  99, 100])"
      ]
     },
     "execution_count": 2,
     "metadata": {},
     "output_type": "execute_result"
    }
   ],
   "source": [
    "import numpy as np\n",
    "array = np.arange(1,101,1)\n",
    "\n",
    "array"
   ]
  },
  {
   "cell_type": "markdown",
   "metadata": {},
   "source": [
    "Q.2.2  \n",
    "★以下の２次元配列を作れ  \n",
    "0,0,0,0,0  \n",
    "0,0,0,0,0"
   ]
  },
  {
   "cell_type": "code",
   "execution_count": 11,
   "metadata": {},
   "outputs": [
    {
     "name": "stdout",
     "output_type": "stream",
     "text": [
      "[[0. 0. 0. 0. 0.]\n",
      " [0. 0. 0. 0. 0.]]\n"
     ]
    }
   ],
   "source": [
    "array = np.zeros((2,5))\n",
    "\n",
    "array = np.zeros((2,5))\n",
    "print(array)  "
   ]
  },
  {
   "cell_type": "markdown",
   "metadata": {},
   "source": [
    "Q.2.3  \n",
    "★3行4列の0-1の乱数の配列を作れ"
   ]
  },
  {
   "cell_type": "code",
   "execution_count": 12,
   "metadata": {},
   "outputs": [
    {
     "name": "stdout",
     "output_type": "stream",
     "text": [
      "[[0.23394062 0.97341312 0.31270821 0.74396788]\n",
      " [0.92578752 0.74351263 0.02028723 0.79548726]\n",
      " [0.96810317 0.26898337 0.04722327 0.55365859]]\n"
     ]
    }
   ],
   "source": [
    "array = np.random.rand(3, 4)\n",
    "print(array)"
   ]
  },
  {
   "cell_type": "markdown",
   "metadata": {},
   "source": [
    "Q.3.1  \n",
    "★1,2,4の配列と8,16,32の配列を作り、2つの配列を結合し1,2,4,8,16,32の配列を作れ"
   ]
  },
  {
   "cell_type": "code",
   "execution_count": 3,
   "metadata": {},
   "outputs": [
    {
     "data": {
      "text/plain": [
       "array([ 1,  2,  4,  8, 16, 32])"
      ]
     },
     "execution_count": 3,
     "metadata": {},
     "output_type": "execute_result"
    }
   ],
   "source": [
    "array = np.array([[1,2,4], [8, 16, 32]])\n",
    "array = array.flatten()\n",
    "array"
   ]
  },
  {
   "cell_type": "markdown",
   "metadata": {},
   "source": [
    "Q.3.2  \n",
    "★以下の２次元配列を作り、2行1列の要素を切り出せ  \n",
    "1,2,3  \n",
    "4,5,6  \n",
    "7,8,9"
   ]
  },
  {
   "cell_type": "code",
   "execution_count": 18,
   "metadata": {},
   "outputs": [
    {
     "name": "stdout",
     "output_type": "stream",
     "text": [
      "[[1 2 3]\n",
      " [4 5 6]\n",
      " [7 8 9]]\n",
      "4\n"
     ]
    }
   ],
   "source": [
    "array = np.array([[1,2,3], [4,5,6], [7,8,9]])\n",
    "print(array)\n",
    "\n",
    "print(array[1, 0])"
   ]
  },
  {
   "cell_type": "markdown",
   "metadata": {},
   "source": [
    "Q.3.3    \n",
    "★以下の２次元配列を作り、最終行最終列の要素を切り出せ  \n",
    "1,2,3  \n",
    "4,5,6  \n",
    "7,8,9"
   ]
  },
  {
   "cell_type": "code",
   "execution_count": 4,
   "metadata": {},
   "outputs": [
    {
     "name": "stdout",
     "output_type": "stream",
     "text": [
      "[[1 2 3]\n",
      " [4 5 6]\n",
      " [7 8 9]]\n",
      "9\n"
     ]
    }
   ],
   "source": [
    "array = np.array([[1,2,3], [4,5,6], [7,8,9]])\n",
    "print(array)\n",
    "print(array[-1, -1])\n"
   ]
  },
  {
   "cell_type": "markdown",
   "metadata": {},
   "source": [
    "Q.3.4    \n",
    "★以下の２次元配列を作り、1行目の要素を切り出せ  \n",
    "1,2,3  \n",
    "4,5,6  \n",
    "7,8,9"
   ]
  },
  {
   "cell_type": "code",
   "execution_count": 8,
   "metadata": {},
   "outputs": [
    {
     "name": "stdout",
     "output_type": "stream",
     "text": [
      "[1 2 3]\n"
     ]
    }
   ],
   "source": [
    "array = np.array([[1,2,3], [4,5,6], [7,8,9]])\n",
    "print(array[0, :])"
   ]
  },
  {
   "cell_type": "markdown",
   "metadata": {},
   "source": [
    "Q.3.5    \n",
    "★以下の２次元配列を作り、3行1-2列の要素を切り出せ  \n",
    "1,2,3  \n",
    "4,5,6  \n",
    "7,8,9"
   ]
  },
  {
   "cell_type": "code",
   "execution_count": null,
   "metadata": {
    "collapsed": true
   },
   "outputs": [],
   "source": []
  },
  {
   "cell_type": "markdown",
   "metadata": {},
   "source": [
    "Q.4.1  \n",
    "★ 以下の計算をせよ（ブロードキャストを利用しても良い）  \n",
    "\n",
    "$\\displaystyle \\left(\\begin{array}{ccc} 1 & 2 & 3\\\\ 4 & 5 & 6 \\\\ \\end{array}\\right) + \\left(\\begin{array}{ccc} 1 & 1 & 1\\\\ 1 & 1 & 1 \\\\ \\end{array}\\right)$"
   ]
  },
  {
   "cell_type": "code",
   "execution_count": 20,
   "metadata": {},
   "outputs": [
    {
     "data": {
      "text/plain": [
       "array([[2, 3, 4],\n",
       "       [5, 6, 7]])"
      ]
     },
     "execution_count": 20,
     "metadata": {},
     "output_type": "execute_result"
    }
   ],
   "source": [
    "np.arange(1, 7).reshape(2, 3) + 1"
   ]
  },
  {
   "cell_type": "markdown",
   "metadata": {},
   "source": [
    "Q.4.2  \n",
    "★ 以下の計算をせよ（ブロードキャストを利用しても良い）  \n",
    "\n",
    "$\\displaystyle \\left(\\begin{array}{ccc} 1 & 2 & 3\\\\ 4 & 5 & 6 \\\\ \\end{array}\\right) - \\left(\\begin{array}{ccc} 1 & 2 & 3\\\\ 1 & 2 & 3 \\\\ \\end{array}\\right)$"
   ]
  },
  {
   "cell_type": "code",
   "execution_count": 22,
   "metadata": {},
   "outputs": [
    {
     "data": {
      "text/plain": [
       "array([[0, 0, 0],\n",
       "       [3, 3, 3]])"
      ]
     },
     "execution_count": 22,
     "metadata": {},
     "output_type": "execute_result"
    }
   ],
   "source": [
    "np.arange(1, 7).reshape(2, 3) - np.array([[1,2,3],[1,2,3]])"
   ]
  },
  {
   "cell_type": "markdown",
   "metadata": {},
   "source": [
    "Q.4.3  \n",
    "★ 以下の計算をせよ（ブロードキャストを利用しても良い）  \n",
    "\n",
    "$\\displaystyle 3\\left(\\begin{array}{ccc} 1 & 2 & 3\\\\ 4 & 5 & 6 \\\\ \\end{array}\\right) - 2\\left(\\begin{array}{ccc} 1 & 2 & 3\\\\ 1 & 2 & 3 \\\\ \\end{array}\\right)$"
   ]
  },
  {
   "cell_type": "code",
   "execution_count": 23,
   "metadata": {},
   "outputs": [
    {
     "data": {
      "text/plain": [
       "array([[ 1,  2,  3],\n",
       "       [10, 11, 12]])"
      ]
     },
     "execution_count": 23,
     "metadata": {},
     "output_type": "execute_result"
    }
   ],
   "source": [
    "3 * np.arange(1, 7).reshape(2,3) - 2* np.arange(1, 4).reshape(1, 3)"
   ]
  },
  {
   "cell_type": "code",
   "execution_count": 10,
   "metadata": {},
   "outputs": [
    {
     "data": {
      "text/plain": [
       "array([[1, 2, 3]])"
      ]
     },
     "execution_count": 10,
     "metadata": {},
     "output_type": "execute_result"
    }
   ],
   "source": [
    "np.arange(1, 4).reshape(1, 3)"
   ]
  },
  {
   "cell_type": "code",
   "execution_count": 26,
   "metadata": {},
   "outputs": [
    {
     "data": {
      "text/plain": [
       "array([[ 1,  2,  3],\n",
       "       [10, 11, 12]])"
      ]
     },
     "execution_count": 26,
     "metadata": {},
     "output_type": "execute_result"
    }
   ],
   "source": [
    "3*np.arange(1,7).reshape(2,3) - 2*np.arange(1,4).reshape(1,3)"
   ]
  },
  {
   "cell_type": "markdown",
   "metadata": {},
   "source": [
    "Q.4.4  \n",
    "★ 以下の内積を計算せよ  \n",
    "\n",
    "$\\displaystyle \\left(\\begin{array}{ccc} 1 & 2 & 3\\\\ 4 & 5 & 6 \\\\ \\end{array}\\right) \\left(\\begin{array}{ccc} 1 & 2 \\\\ 3 & 4 \\\\ 5 & 6 \\end{array}\\right)$"
   ]
  },
  {
   "cell_type": "code",
   "execution_count": 7,
   "metadata": {},
   "outputs": [
    {
     "data": {
      "text/plain": [
       "array([[22, 28],\n",
       "       [49, 64]])"
      ]
     },
     "execution_count": 7,
     "metadata": {},
     "output_type": "execute_result"
    }
   ],
   "source": [
    "A = np.arange(1, 7).reshape(2, 3)\n",
    "B = np.arange(1, 7).reshape(3, 2)\n",
    "\n",
    "np.dot(A, B)"
   ]
  },
  {
   "cell_type": "markdown",
   "metadata": {},
   "source": [
    "Q.5.1  \n",
    "★ 以下の2次元配列をそれぞれ行方向と列方向に合計した１次元配列を求めよ \n",
    "\n",
    "$\\displaystyle \\left(\\begin{array}{ccc} 1 & 2 & 3\\\\ 4 & 5 & 6 \\\\ \\end{array}\\right)$"
   ]
  },
  {
   "cell_type": "code",
   "execution_count": 30,
   "metadata": {},
   "outputs": [
    {
     "name": "stdout",
     "output_type": "stream",
     "text": [
      "[5 7 9]\n"
     ]
    }
   ],
   "source": [
    "array = np.arange(1,7).reshape(2,3)\n",
    "print(np.sum(array, axis=0))"
   ]
  },
  {
   "cell_type": "markdown",
   "metadata": {},
   "source": [
    "Q.6.1  \n",
    "★★引数を配列で受け取り、各要素について以下の関数の結果を返す関数を実装せよ（シグモイド関数）  \n",
    "$\\displaystyle{f(x)=\\frac{1}{(1+\\exp(-x))}}$"
   ]
  },
  {
   "cell_type": "code",
   "execution_count": 3,
   "metadata": {},
   "outputs": [
    {
     "name": "stdout",
     "output_type": "stream",
     "text": [
      "[1.         2.71828183 7.3890561 ]\n"
     ]
    }
   ],
   "source": [
    "# ヒント  \n",
    "array = np.array([0,1,2])\n",
    "print(np.exp(array))\n"
   ]
  },
  {
   "cell_type": "code",
   "execution_count": 34,
   "metadata": {},
   "outputs": [
    {
     "name": "stderr",
     "output_type": "stream",
     "text": [
      "/Users/seijisuzuki/.pyenv/versions/anaconda3-5.3.1/lib/python3.7/site-packages/ipykernel_launcher.py:2: RuntimeWarning: divide by zero encountered in true_divide\n",
      "  \n"
     ]
    },
    {
     "data": {
      "text/plain": [
       "array([        inf, -0.58197671, -0.15651764])"
      ]
     },
     "execution_count": 34,
     "metadata": {},
     "output_type": "execute_result"
    }
   ],
   "source": [
    "array = np.array([0,1,2])\n",
    "array = 1/(1+np.exp(array)*-1)\n",
    "array"
   ]
  },
  {
   "cell_type": "code",
   "execution_count": null,
   "metadata": {
    "collapsed": true
   },
   "outputs": [],
   "source": []
  },
  {
   "cell_type": "markdown",
   "metadata": {},
   "source": [
    "Q.6.2  \n",
    "★★引数を配列で受け取り、各要素について以下の関数の結果を返す関数を実装せよ（ステップ関数）  \n",
    "$f(x)=1  (x>0)$  \n",
    "$f(x)=0  (x\\le0)$"
   ]
  },
  {
   "cell_type": "code",
   "execution_count": null,
   "metadata": {},
   "outputs": [],
   "source": [
    "# ヒント\n",
    "array = np.array([-1,0,1,2])\n",
    "print(array > 0)\n",
    "print(np.array([True, False]).astype(int))"
   ]
  },
  {
   "cell_type": "code",
   "execution_count": null,
   "metadata": {
    "collapsed": true
   },
   "outputs": [],
   "source": []
  },
  {
   "cell_type": "markdown",
   "metadata": {},
   "source": [
    "Q.6.3  \n",
    "★★引数を配列で受け取り、各要素について以下の関数の結果を返す関数を実装せよ（ReLU関数）  \n",
    "$f(x)=x  (x>0)$  \n",
    "$f(x)=0  (x\\le0)$"
   ]
  },
  {
   "cell_type": "code",
   "execution_count": null,
   "metadata": {},
   "outputs": [],
   "source": [
    "# ヒント\n",
    "array = np.array([-1,0,1,2])\n",
    "print(np.maximum(1, array))"
   ]
  },
  {
   "cell_type": "code",
   "execution_count": null,
   "metadata": {
    "collapsed": true
   },
   "outputs": [],
   "source": []
  },
  {
   "cell_type": "markdown",
   "metadata": {},
   "source": [
    "Q.6.4  \n",
    "★★1次元の引数を配列で受け取り、各要素について以下の関数の結果を返す関数を実装せよ（ソフトマックス関数）  \n",
    "$\\displaystyle f(x_k)=\\frac{\\exp(x_k)}{\\sum_{i=1}^{n}\\exp(x_i)}$  \n"
   ]
  },
  {
   "cell_type": "code",
   "execution_count": null,
   "metadata": {},
   "outputs": [],
   "source": [
    "# ヒント\n",
    "array = np.array([1,2,3])\n",
    "np.sum(array)"
   ]
  },
  {
   "cell_type": "code",
   "execution_count": null,
   "metadata": {
    "collapsed": true
   },
   "outputs": [],
   "source": []
  },
  {
   "cell_type": "markdown",
   "metadata": {},
   "source": [
    "Q.6.5  \n",
    "★★引数を配列で受け取り、各要素について以下の関数の結果を返す関数を実装せよ（ソフトマックス関数）  \n",
    "$\\displaystyle f(x_k)=\\frac{\\exp(x_k)}{\\sum_{i=1}^{n}\\exp(x_i)}$  \n"
   ]
  },
  {
   "cell_type": "code",
   "execution_count": null,
   "metadata": {},
   "outputs": [],
   "source": [
    "# ヒント\n",
    "array = np.array([[1,2,3],[4,5,6]])\n",
    "np.sum(array, axis=1)"
   ]
  },
  {
   "cell_type": "code",
   "execution_count": null,
   "metadata": {
    "collapsed": true
   },
   "outputs": [],
   "source": []
  },
  {
   "cell_type": "markdown",
   "metadata": {},
   "source": [
    "Q.6.6  \n",
    "★★★引数を配列で受け取り、各要素について以下の関数の結果を返す関数を実装せよ（ソフトマックス関数）  \n",
    "$\\displaystyle f(x_k)=\\frac{\\exp(x_k)}{\\sum_{i=1}^{n}\\exp(x_i)}$  \n",
    "ただし、要素が大きいと上記数式のソフトマックス関数はオーバーフローしてしまう。  \n",
    "配列から配列の最大値を引くオーバーフロー対策をせよ。"
   ]
  },
  {
   "cell_type": "code",
   "execution_count": null,
   "metadata": {
    "collapsed": true
   },
   "outputs": [],
   "source": []
  },
  {
   "cell_type": "markdown",
   "metadata": {},
   "source": [
    "Q.7.1  \n",
    "★★まとめ問題  \n",
    "文章の単語の共起行列からコサイン類似度を求めたい  \n",
    "参考：https://public-constructor.com/co-occurence-matrix-and-vector-cosine-similarity/  \n",
    "以下の数式を参考に、ベクトルを2つ引数で取り、コサイン類似度を求めるget_cos_similarity関数を実装せよ。  \n",
    "\n",
    "<コサイン類似度>  \n",
    "$\\displaystyle \\overrightarrow{a}=(a_1,a_2,\\cdots,a_n)$,$\\overrightarrow{b}=(b_1,b_2,\\cdots,b_n)$の時、  \n",
    "\n",
    "$\\displaystyle \\dfrac{a_1b_1+\\cdots +a_nb_n}{\\sqrt{a_1^2+\\cdots +a_n^2}\\sqrt{b_1^2+\\cdots +b_n^2}}$\n",
    "\n",
    "\n",
    "また、以下の設計図とjupyterのコードを参考にして、コサイン類似度を求めるクラスを作成せよ  "
   ]
  },
  {
   "cell_type": "code",
   "execution_count": null,
   "metadata": {},
   "outputs": [],
   "source": [
    "# ヒント  \n",
    "print(\"abc\".replace(\"b\", \"z\")) # replaceで置き換えることができる　　\n",
    "print()\n",
    "print(\"a,b,c\".split(\",\")) # splitで分割したリストを作成することができる  \n",
    "print()\n",
    "\n",
    "array = np.array([1,2,3])\n",
    "print(np.sqrt(array)) # ルートを計算できる　　\n",
    "print()\n",
    "print(array**2) # 二乗を計算できる"
   ]
  },
  {
   "cell_type": "code",
   "execution_count": null,
   "metadata": {
    "collapsed": true
   },
   "outputs": [],
   "source": [
    "# 設計図  \n",
    "#class CoOccurrenceMatrix:\n",
    "    \n",
    "    # ＜コンストラクタ＞\n",
    "    # 文章を引数として受け取り、共起行列を作成してインスタンス変数に保存する\n",
    "    \n",
    "    #＜メソッド＞\n",
    "    #  2つの単語を引数としてとり、コサイン類似度を計算して返却する    "
   ]
  },
  {
   "cell_type": "code",
   "execution_count": null,
   "metadata": {
    "collapsed": true
   },
   "outputs": [],
   "source": [
    "# 以下、jupyterコード"
   ]
  },
  {
   "cell_type": "code",
   "execution_count": null,
   "metadata": {
    "collapsed": true
   },
   "outputs": [],
   "source": [
    "text = \"If you can dream it, you can do it.\""
   ]
  },
  {
   "cell_type": "code",
   "execution_count": null,
   "metadata": {},
   "outputs": [],
   "source": [
    "# 文章の前処理\n",
    "words = text.lower().replace(\".\", \" .\").replace(\",\", \" ,\").split(\" \")\n",
    "print(words)"
   ]
  },
  {
   "cell_type": "code",
   "execution_count": null,
   "metadata": {},
   "outputs": [],
   "source": [
    "# コーパスの作成\n",
    "word_to_id = {}\n",
    "id_to_word = {}\n",
    "corpus = []\n",
    "for word in words:\n",
    "    if word not in word_to_id:\n",
    "        idx = len(word_to_id)\n",
    "        word_to_id[word] = idx\n",
    "        id_to_word[idx] = word\n",
    "        \n",
    "    corpus.append(word_to_id[word])\n",
    "\n",
    "print(word_to_id)\n",
    "print(id_to_word)\n",
    "print(corpus)"
   ]
  },
  {
   "cell_type": "code",
   "execution_count": null,
   "metadata": {},
   "outputs": [],
   "source": [
    "# 共起行列を作成\n",
    "word_size = len(set(corpus))\n",
    "matrix = np.zeros((word_size, word_size))\n",
    "\n",
    "for idx, word_id in enumerate(corpus):\n",
    "    \n",
    "    left_idx = idx - 1\n",
    "    right_idx = idx + 1\n",
    "    \n",
    "    if left_idx >= 0:\n",
    "        left_word_id = corpus[left_idx]\n",
    "        matrix[word_id, left_word_id] += 1\n",
    "\n",
    "    if right_idx < len(corpus):\n",
    "        right_word_id = corpus[right_idx]\n",
    "        matrix[word_id, right_word_id] += 1\n",
    "\n",
    "print(matrix)"
   ]
  },
  {
   "cell_type": "code",
   "execution_count": null,
   "metadata": {},
   "outputs": [],
   "source": [
    "# 詳細に確認\n",
    "header = \"\"\n",
    "detail = \"\"\n",
    "for idx, row in enumerate(matrix):\n",
    "    header = header + id_to_word[idx] + \" \"\n",
    "    detail = detail + \"{}\\n{}\\n\".format(id_to_word[idx], row) \n",
    "\n",
    "print(words)\n",
    "print()\n",
    "print(header)\n",
    "print()\n",
    "print(detail)    "
   ]
  },
  {
   "cell_type": "code",
   "execution_count": null,
   "metadata": {
    "collapsed": true
   },
   "outputs": [],
   "source": [
    "def get_cos_similarity(a, b):\n",
    "    ### ここに実装せよ\n",
    "    "
   ]
  },
  {
   "cell_type": "code",
   "execution_count": null,
   "metadata": {},
   "outputs": [],
   "source": [
    "# コサイン類似度を求める\n",
    "vec_a = matrix[word_to_id[\"you\"]]\n",
    "vec_b = matrix[word_to_id[\"it\"]]\n",
    "\n",
    "get_cos_similarity(vec_a, vec_b)"
   ]
  },
  {
   "cell_type": "code",
   "execution_count": null,
   "metadata": {
    "collapsed": true
   },
   "outputs": [],
   "source": []
  },
  {
   "cell_type": "code",
   "execution_count": null,
   "metadata": {
    "collapsed": true
   },
   "outputs": [],
   "source": [
    "### 以下にクラスを書け"
   ]
  },
  {
   "cell_type": "code",
   "execution_count": null,
   "metadata": {
    "collapsed": true
   },
   "outputs": [],
   "source": [
    "\n",
    "        "
   ]
  }
 ],
 "metadata": {
  "anaconda-cloud": {},
  "kernelspec": {
   "display_name": "Python 3",
   "language": "python",
   "name": "python3"
  },
  "language_info": {
   "codemirror_mode": {
    "name": "ipython",
    "version": 3
   },
   "file_extension": ".py",
   "mimetype": "text/x-python",
   "name": "python",
   "nbconvert_exporter": "python",
   "pygments_lexer": "ipython3",
   "version": "3.7.2"
  }
 },
 "nbformat": 4,
 "nbformat_minor": 1
}
