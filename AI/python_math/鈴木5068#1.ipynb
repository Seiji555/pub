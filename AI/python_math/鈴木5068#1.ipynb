{
 "cells": [
  {
   "cell_type": "markdown",
   "metadata": {},
   "source": [
    "## 24期　5068 鈴木"
   ]
  },
  {
   "cell_type": "markdown",
   "metadata": {},
   "source": [
    "## 基礎"
   ]
  },
  {
   "cell_type": "markdown",
   "metadata": {},
   "source": [
    "★（１）1 + 2 × 3 ÷ 2 - 1を計算せよ"
   ]
  },
  {
   "cell_type": "code",
   "execution_count": null,
   "metadata": {
    "collapsed": true
   },
   "outputs": [],
   "source": []
  },
  {
   "cell_type": "markdown",
   "metadata": {},
   "source": [
    "★（２）以下の型を確認せよ  \n",
    "1  \n",
    "\"1\"  \n",
    "'1'  \n",
    "1.0  \n",
    "True"
   ]
  },
  {
   "cell_type": "code",
   "execution_count": null,
   "metadata": {
    "collapsed": true
   },
   "outputs": [],
   "source": []
  },
  {
   "cell_type": "markdown",
   "metadata": {},
   "source": [
    "★（３）整数に変換して計算せよ  \n",
    "\"1\"  + 2 + '3'"
   ]
  },
  {
   "cell_type": "code",
   "execution_count": null,
   "metadata": {
    "collapsed": true
   },
   "outputs": [],
   "source": []
  },
  {
   "cell_type": "markdown",
   "metadata": {},
   "source": [
    "★（４）aとbが等しい値か判定する式を書け  \n",
    "a = 10  \n",
    "b = 5 * 5 / 5 + 5"
   ]
  },
  {
   "cell_type": "code",
   "execution_count": null,
   "metadata": {
    "collapsed": true
   },
   "outputs": [],
   "source": []
  },
  {
   "cell_type": "markdown",
   "metadata": {},
   "source": [
    "★（５）実行すると\"hello!\"と表示される関数を作れ"
   ]
  },
  {
   "cell_type": "code",
   "execution_count": null,
   "metadata": {
    "collapsed": true
   },
   "outputs": [],
   "source": []
  },
  {
   "cell_type": "markdown",
   "metadata": {},
   "source": [
    "★（６）２つの引数を取り合計を返す関数を作れ"
   ]
  },
  {
   "cell_type": "code",
   "execution_count": null,
   "metadata": {
    "collapsed": true
   },
   "outputs": [],
   "source": []
  },
  {
   "cell_type": "markdown",
   "metadata": {},
   "source": [
    "★（７）整数を引数に取り、100以上の場合はTrueを、それ以外の場合はFalseを返す関数を作れ"
   ]
  },
  {
   "cell_type": "code",
   "execution_count": null,
   "metadata": {
    "collapsed": true
   },
   "outputs": [],
   "source": []
  },
  {
   "cell_type": "markdown",
   "metadata": {},
   "source": [
    "★（８）引数をprintする関数を作れ。もし引数がない場合は、「引数がないです」と表示せよ"
   ]
  },
  {
   "cell_type": "code",
   "execution_count": null,
   "metadata": {
    "collapsed": true
   },
   "outputs": [],
   "source": []
  },
  {
   "cell_type": "markdown",
   "metadata": {},
   "source": [
    "★★（９）文字列または整数を引数に取り、文字列の場合は文字列の長さを、整数の場合は桁数を返す関数を作れ"
   ]
  },
  {
   "cell_type": "code",
   "execution_count": null,
   "metadata": {
    "collapsed": true
   },
   "outputs": [],
   "source": []
  },
  {
   "cell_type": "markdown",
   "metadata": {},
   "source": [
    "★（１０）２つの引数を取り合計を返す関数をlambda式を用いて作れ"
   ]
  },
  {
   "cell_type": "code",
   "execution_count": null,
   "metadata": {
    "collapsed": true
   },
   "outputs": [],
   "source": []
  },
  {
   "cell_type": "markdown",
   "metadata": {},
   "source": [
    "★（１１）xが100以上の場合に100と、それ以下の場合はxの値を出力するコードを書け"
   ]
  },
  {
   "cell_type": "code",
   "execution_count": null,
   "metadata": {
    "collapsed": true
   },
   "outputs": [],
   "source": []
  },
  {
   "cell_type": "markdown",
   "metadata": {},
   "source": [
    "★★（１２）f(0) = 0, f(1) = 1, f(n) = f(n-1) + f(n-2), n>=2 を満たす数列をフィボナッチ数列と言う。引数としてnを取り、フィボナッチ数列のn番目を返す関数を作れ  \n",
    "ヒント  \n",
    "f(2) = 1 + 0 = 1  \n",
    "f(3) = 1 + 1 = 2  \n",
    "f(4) = 2 + 1 = 3  \n",
    "f(5) = 3 + 2 = 5"
   ]
  },
  {
   "cell_type": "code",
   "execution_count": null,
   "metadata": {
    "collapsed": true
   },
   "outputs": [],
   "source": []
  },
  {
   "cell_type": "markdown",
   "metadata": {},
   "source": [
    "★（１３）xを引数として受け取り、xが100以上の場合にAと、xが80以上の場合はBと、それ以下の場合はCと出力する関数を作れ"
   ]
  },
  {
   "cell_type": "code",
   "execution_count": null,
   "metadata": {
    "collapsed": true
   },
   "outputs": [],
   "source": []
  },
  {
   "cell_type": "markdown",
   "metadata": {},
   "source": [
    "★（１４）0から4まで表示するfor文を書け"
   ]
  },
  {
   "cell_type": "code",
   "execution_count": null,
   "metadata": {
    "collapsed": true
   },
   "outputs": [],
   "source": []
  },
  {
   "cell_type": "markdown",
   "metadata": {},
   "source": [
    "★（１５）1から5まで表示するfor文を書け"
   ]
  },
  {
   "cell_type": "code",
   "execution_count": null,
   "metadata": {
    "collapsed": true
   },
   "outputs": [],
   "source": []
  },
  {
   "cell_type": "markdown",
   "metadata": {},
   "source": [
    "★（１６）0から4まで表示するfor文を書け。ただし、2の時は表示しないようにせよ"
   ]
  },
  {
   "cell_type": "code",
   "execution_count": null,
   "metadata": {
    "collapsed": true
   },
   "outputs": [],
   "source": []
  },
  {
   "cell_type": "markdown",
   "metadata": {},
   "source": [
    "★（１７）0から4までのリストを作成せよ"
   ]
  },
  {
   "cell_type": "code",
   "execution_count": null,
   "metadata": {
    "collapsed": true
   },
   "outputs": [],
   "source": []
  },
  {
   "cell_type": "markdown",
   "metadata": {},
   "source": [
    "★（１８）0から4までのリストを作成し、1番目（インデックス0）の要素を切り出せ"
   ]
  },
  {
   "cell_type": "code",
   "execution_count": null,
   "metadata": {
    "collapsed": true
   },
   "outputs": [],
   "source": []
  },
  {
   "cell_type": "markdown",
   "metadata": {},
   "source": [
    "★（１９）0から4までのリストを作成し、2番目と3番目の要素を切り出せ"
   ]
  },
  {
   "cell_type": "code",
   "execution_count": null,
   "metadata": {
    "collapsed": true
   },
   "outputs": [],
   "source": []
  },
  {
   "cell_type": "markdown",
   "metadata": {},
   "source": [
    "★（２０）0から4までのリストを作成し、その後、最後に5を追加せよ"
   ]
  },
  {
   "cell_type": "code",
   "execution_count": 10,
   "metadata": {},
   "outputs": [
    {
     "name": "stdout",
     "output_type": "stream",
     "text": [
      "[0, 1, 2, 3, 4]\n",
      "[0, 1, 2, 3, 4, 5]\n"
     ]
    }
   ],
   "source": [
    "list_a = list(range(5))\n",
    "print(list_a)\n",
    "\n",
    "list_b = [5]\n",
    "\n",
    "list_a = list_a + list_b\n",
    "\n",
    "print(list_a)"
   ]
  },
  {
   "cell_type": "markdown",
   "metadata": {},
   "source": [
    "★（２１）0から4までのリストを作成し、後ろから２つの要素を切り出せ"
   ]
  },
  {
   "cell_type": "code",
   "execution_count": 14,
   "metadata": {},
   "outputs": [
    {
     "name": "stdout",
     "output_type": "stream",
     "text": [
      "[0, 1, 2, 3, 4]\n",
      "4 3\n"
     ]
    }
   ],
   "source": [
    "list_a = list(range(5))\n",
    "print(list_a)\n",
    "\n",
    "print(list_a[-1], list_a[-2])"
   ]
  },
  {
   "cell_type": "markdown",
   "metadata": {},
   "source": [
    "★（２２）0から4までのリストを作成し、リストの要素数を表示せよ"
   ]
  },
  {
   "cell_type": "code",
   "execution_count": 15,
   "metadata": {},
   "outputs": [
    {
     "name": "stdout",
     "output_type": "stream",
     "text": [
      "[0, 1, 2, 3, 4]\n"
     ]
    }
   ],
   "source": [
    "list_a = list(range(5))\n",
    "print(list_a)"
   ]
  },
  {
   "cell_type": "markdown",
   "metadata": {},
   "source": [
    "★（２３）0から4までのリストを作成し、2が含まれるか確認せよ"
   ]
  },
  {
   "cell_type": "code",
   "execution_count": 16,
   "metadata": {},
   "outputs": [
    {
     "name": "stdout",
     "output_type": "stream",
     "text": [
      "[0, 1, 2, 3, 4]\n"
     ]
    },
    {
     "data": {
      "text/plain": [
       "True"
      ]
     },
     "execution_count": 16,
     "metadata": {},
     "output_type": "execute_result"
    }
   ],
   "source": [
    "list_a = list(range(5))\n",
    "print(list_a)\n",
    "\n",
    "2 in list_a"
   ]
  },
  {
   "cell_type": "markdown",
   "metadata": {},
   "source": [
    "★（２４）1から100までの合計を求めよ"
   ]
  },
  {
   "cell_type": "code",
   "execution_count": 18,
   "metadata": {},
   "outputs": [
    {
     "name": "stdout",
     "output_type": "stream",
     "text": [
      "500500\n"
     ]
    }
   ],
   "source": [
    "list_a = list(range(1, 1001))\n",
    "print(sum(list_a))"
   ]
  },
  {
   "cell_type": "markdown",
   "metadata": {},
   "source": [
    "★（２５）リスト[1,3,2,4,5]を昇順に並べ替えよ"
   ]
  },
  {
   "cell_type": "code",
   "execution_count": 101,
   "metadata": {},
   "outputs": [
    {
     "data": {
      "text/plain": [
       "[1, 2, 3, 4, 5]"
      ]
     },
     "execution_count": 101,
     "metadata": {},
     "output_type": "execute_result"
    }
   ],
   "source": [
    "lis=[1,3,2,4,5]\n",
    "lis.sort()\n",
    "lis"
   ]
  },
  {
   "cell_type": "markdown",
   "metadata": {},
   "source": [
    "★（２６）リスト[1,3,2,4,5]を降順に並べ替えよ"
   ]
  },
  {
   "cell_type": "code",
   "execution_count": 102,
   "metadata": {},
   "outputs": [
    {
     "data": {
      "text/plain": [
       "[5, 4, 3, 2, 1]"
      ]
     },
     "execution_count": 102,
     "metadata": {},
     "output_type": "execute_result"
    }
   ],
   "source": [
    "lis=[1,3,2,4,5]\n",
    "lis.sort(reverse=True)\n",
    "lis"
   ]
  },
  {
   "cell_type": "markdown",
   "metadata": {},
   "source": [
    "★（２７）enumerateを使ったfor文を作れ"
   ]
  },
  {
   "cell_type": "code",
   "execution_count": 107,
   "metadata": {},
   "outputs": [
    {
     "name": "stdout",
     "output_type": "stream",
     "text": [
      "0 A\n",
      "1 B\n",
      "2 C\n"
     ]
    }
   ],
   "source": [
    "words =[\"A\", \"B\", \"C\"]\n",
    "\n",
    "for i, x in enumerate(words):\n",
    "    print(i, x)"
   ]
  },
  {
   "cell_type": "markdown",
   "metadata": {},
   "source": [
    "★（２８）zipを使ったfor文を作れ"
   ]
  },
  {
   "cell_type": "code",
   "execution_count": 105,
   "metadata": {},
   "outputs": [
    {
     "name": "stdout",
     "output_type": "stream",
     "text": [
      "1 A\n",
      "3 B\n",
      "2 C\n"
     ]
    }
   ],
   "source": [
    "lis=[1,3,2,4,5]\n",
    "words =[\"A\", \"B\", \"C\"]\n",
    "\n",
    "for i, j in zip(lis, words):\n",
    "        print(i, j)"
   ]
  },
  {
   "cell_type": "markdown",
   "metadata": {},
   "source": [
    "★★★（２９）リストを引数に与えると昇順に並び替える自作関数を実装せよ（組み込み関数のsortは用いてはならない）"
   ]
  },
  {
   "cell_type": "code",
   "execution_count": null,
   "metadata": {
    "collapsed": true
   },
   "outputs": [],
   "source": []
  },
  {
   "cell_type": "markdown",
   "metadata": {},
   "source": [
    "★（３０）リストを与えると、全ての要素を3倍して返す関数を作れ（ただし、リスト内包表記を用いないこと）  \n",
    "例:[1,2,3]→[3,6,9]"
   ]
  },
  {
   "cell_type": "code",
   "execution_count": 30,
   "metadata": {},
   "outputs": [
    {
     "name": "stdout",
     "output_type": "stream",
     "text": [
      "[0, 3, 6, 9]\n"
     ]
    }
   ],
   "source": [
    "def func(list_a):\n",
    "    return [n *3  for n in list_a]\n",
    "           \n",
    "print(func(list(range(4))))"
   ]
  },
  {
   "cell_type": "markdown",
   "metadata": {},
   "source": [
    "★（３１）リストを与えると、全ての要素を3倍して返す関数を作れ（ただし、リスト内包表記を用いること） "
   ]
  },
  {
   "cell_type": "code",
   "execution_count": null,
   "metadata": {
    "collapsed": true
   },
   "outputs": [],
   "source": []
  },
  {
   "cell_type": "markdown",
   "metadata": {},
   "source": [
    "★（３２）整数と整数の文字列の混じる要素のリストを与えると、全ての要素を整数にして返す関数を作れ（ただし、リスト内包表記を用いないこと）  \n",
    "例:[1,\"2\",3]→[1,2,3]"
   ]
  },
  {
   "cell_type": "code",
   "execution_count": 115,
   "metadata": {},
   "outputs": [
    {
     "data": {
      "text/plain": [
       "[1, 2, 3]"
      ]
     },
     "execution_count": 115,
     "metadata": {},
     "output_type": "execute_result"
    }
   ],
   "source": [
    "def func(lis):\n",
    "    ret = []\n",
    "    for i in range(len(lis)):\n",
    "        ret.append(int(lis[i]))\n",
    "    return ret\n",
    "                   \n",
    "list_a = [1,\"2\",3]\n",
    "func(list_a)\n",
    "                   \n",
    "                   \n",
    "       "
   ]
  },
  {
   "cell_type": "markdown",
   "metadata": {},
   "source": [
    "★（３３）整数と整数の文字列の混じる要素のリストを与えると、全ての要素を整数にして返す関数を作れ（ただし、リスト内包表記を用いること）  "
   ]
  },
  {
   "cell_type": "code",
   "execution_count": 121,
   "metadata": {},
   "outputs": [
    {
     "data": {
      "text/plain": [
       "[1, 2, 3]"
      ]
     },
     "execution_count": 121,
     "metadata": {},
     "output_type": "execute_result"
    }
   ],
   "source": [
    "def func(lis):\n",
    "    return [int(i) for i in lis]\n",
    "\n",
    "list_a = [1,\"2\",3]\n",
    "func(list_a)\n",
    "                   "
   ]
  },
  {
   "cell_type": "markdown",
   "metadata": {},
   "source": [
    "★（３４）整数と整数の文字列の混じる要素のリストを与えると、文字列を取り除いたリストを返す関数を作れ（ただし、リスト内包表記を用いないこと）   \n",
    "例:[1,\"2\",3]→[1,3]  \n",
    "ヒント:文字列の判別はisinstance(\"a\", str)でできる"
   ]
  },
  {
   "cell_type": "code",
   "execution_count": 6,
   "metadata": {},
   "outputs": [
    {
     "data": {
      "text/plain": [
       "[1, 3, 4]"
      ]
     },
     "execution_count": 6,
     "metadata": {},
     "output_type": "execute_result"
    }
   ],
   "source": [
    "def func(lis):\n",
    "    ret = []\n",
    "    for i in lis:\n",
    "        if not isinstance(i, str):\n",
    "            ret.append(i)\n",
    "    return ret\n",
    "        \n",
    "lis = [1,\"2\",3, 4]\n",
    "func(lis)           "
   ]
  },
  {
   "cell_type": "markdown",
   "metadata": {},
   "source": [
    "★（３５）整数と整数の文字列の混じる要素のリストを与えると、文字列を取り除いたリストを返す関数を作れ（ただし、リスト内包表記を用いること）  "
   ]
  },
  {
   "cell_type": "code",
   "execution_count": 7,
   "metadata": {},
   "outputs": [
    {
     "name": "stdout",
     "output_type": "stream",
     "text": [
      "[1, 2, 4]\n"
     ]
    }
   ],
   "source": [
    "def func(lis):\n",
    "    return [i for i in lis if not isinstance(i, str)]\n",
    "\n",
    "    \n",
    "lis = [1, 2, \"W\", 4]\n",
    "\n",
    "print(func(lis))\n",
    "\n",
    "        "
   ]
  },
  {
   "cell_type": "markdown",
   "metadata": {},
   "source": [
    "★（３６）リストを与えるとタプルに変換して返す関数を作れ"
   ]
  },
  {
   "cell_type": "code",
   "execution_count": 33,
   "metadata": {},
   "outputs": [
    {
     "name": "stdout",
     "output_type": "stream",
     "text": [
      "(0, 1, 2, 3)\n"
     ]
    }
   ],
   "source": [
    "def func(lis):\n",
    "    return tuple(lis)\n",
    "\n",
    "list_a = list(range(4))\n",
    "    \n",
    "print(func(list_a))"
   ]
  },
  {
   "cell_type": "markdown",
   "metadata": {},
   "source": [
    "★（３７）リスト[1,2,3]とリスト[3,4,5]の重複する要素をセットを用いて出力せよ"
   ]
  },
  {
   "cell_type": "code",
   "execution_count": null,
   "metadata": {
    "collapsed": true
   },
   "outputs": [],
   "source": []
  },
  {
   "cell_type": "markdown",
   "metadata": {},
   "source": [
    "★★（３８）リストを与えると重複要素を削除して返す関数を作れ。なお、出力するリストは昇順に並び替えるものとする"
   ]
  },
  {
   "cell_type": "code",
   "execution_count": 8,
   "metadata": {},
   "outputs": [
    {
     "data": {
      "text/plain": [
       "[1, 2, 3, 5]"
      ]
     },
     "execution_count": 8,
     "metadata": {},
     "output_type": "execute_result"
    }
   ],
   "source": [
    "def func(lis):\n",
    "    ret = list(set(lis))\n",
    "    ret.sort()\n",
    "    return ret\n",
    "\n",
    "func([1,2,2,3,5,5,5,2])\n",
    "        "
   ]
  },
  {
   "cell_type": "markdown",
   "metadata": {},
   "source": [
    "★（３９）A:1, B:2, C:3のディクトを作れ"
   ]
  },
  {
   "cell_type": "code",
   "execution_count": 35,
   "metadata": {},
   "outputs": [
    {
     "name": "stdout",
     "output_type": "stream",
     "text": [
      "A\n",
      "B\n",
      "C\n",
      "\n",
      "1\n",
      "2\n",
      "3\n",
      "\n",
      "A 1\n",
      "B 2\n",
      "C 3\n"
     ]
    }
   ],
   "source": [
    "ABC = dict(A=1, B=2, C=3)\n",
    "\n",
    "# for文で用いる\n",
    "for k in ABC: # デフォルトではkeyが取り出される\n",
    "    print(k)\n",
    "print()\n",
    "    \n",
    "for v in ABC.values():\n",
    "    print(v)\n",
    "print()\n",
    "    \n",
    "for k, v in ABC.items():\n",
    "    print(k, v)    \n"
   ]
  },
  {
   "cell_type": "markdown",
   "metadata": {},
   "source": [
    "★（４０）A:1, B:2, C:3のディクトを作り、Bのvalueを取得せよ"
   ]
  },
  {
   "cell_type": "code",
   "execution_count": 85,
   "metadata": {},
   "outputs": [
    {
     "name": "stdout",
     "output_type": "stream",
     "text": [
      "2\n"
     ]
    }
   ],
   "source": [
    "dic = dict(A=1, B=2, C=3)\n",
    "\n",
    "print(dic.get(\"B\"))"
   ]
  },
  {
   "cell_type": "markdown",
   "metadata": {},
   "source": [
    "★（４１）A:1, B:2, C:3のディクトを作り、Cのvalueを10倍せよ"
   ]
  },
  {
   "cell_type": "code",
   "execution_count": 84,
   "metadata": {},
   "outputs": [
    {
     "name": "stdout",
     "output_type": "stream",
     "text": [
      "9\n"
     ]
    }
   ],
   "source": [
    "dic = dict(A=1, B=2, C=3)\n",
    "\n",
    "print(dic.get(\"C\")*3)"
   ]
  },
  {
   "cell_type": "markdown",
   "metadata": {},
   "source": [
    "★（４２）A:1, B:2, C:3のディクトに対して、keyを引数で受け取り、valueが存在すればvalueを返し、存在しない場合は「存在しません」と表示する関数を作れ"
   ]
  },
  {
   "cell_type": "code",
   "execution_count": null,
   "metadata": {
    "collapsed": true
   },
   "outputs": [],
   "source": [
    "def func(key):\n",
    "    \n",
    "\n",
    "\n",
    "ABC = dict(A=1, B=2, C=3)\n",
    "\n"
   ]
  },
  {
   "cell_type": "markdown",
   "metadata": {},
   "source": [
    "★★（４３）リスト[1,2,3]の要素をkeyとし、値は各要素の２倍のdictを作れ"
   ]
  },
  {
   "cell_type": "code",
   "execution_count": 44,
   "metadata": {},
   "outputs": [
    {
     "data": {
      "text/plain": [
       "{1: 2, 2: 4, 3: 6}"
      ]
     },
     "execution_count": 44,
     "metadata": {},
     "output_type": "execute_result"
    }
   ],
   "source": [
    "lis = [1,2,3]\n",
    "dic={}\n",
    "\n",
    "for n in lis:\n",
    "    dic[n] = n*2\n",
    "\n",
    "dic\n",
    "\n",
    "dic = {i: i*2 for i in list(range(1, 4))}\n",
    "       \n",
    "dic"
   ]
  },
  {
   "cell_type": "markdown",
   "metadata": {},
   "source": [
    "★（４４）A:1, B:2, C:3のディクトを作り、for文でkeyを全てprintせよ"
   ]
  },
  {
   "cell_type": "code",
   "execution_count": 77,
   "metadata": {},
   "outputs": [
    {
     "name": "stdout",
     "output_type": "stream",
     "text": [
      "A\n",
      "B\n",
      "C\n"
     ]
    }
   ],
   "source": [
    "dic = dict(A=1, B=2, C=3)\n",
    "\n",
    "for i in dic:\n",
    "    print(i)\n",
    "          \n",
    "          "
   ]
  },
  {
   "cell_type": "markdown",
   "metadata": {},
   "source": [
    "★（４５）A:1, B:2, C:3のディクトを作り、for文でvalueを全てprintせよ"
   ]
  },
  {
   "cell_type": "code",
   "execution_count": 80,
   "metadata": {},
   "outputs": [
    {
     "name": "stdout",
     "output_type": "stream",
     "text": [
      "1\n",
      "2\n",
      "3\n"
     ]
    }
   ],
   "source": [
    "dic = dict(A=1, B=2, C=3)\n",
    "\n",
    "for i in dic.values():\n",
    "    print(i)\n",
    "          "
   ]
  },
  {
   "cell_type": "markdown",
   "metadata": {},
   "source": [
    "★（４６）A:1, B:2, C:3のディクトを作り、for文でkey,valueを全てprintせよ"
   ]
  },
  {
   "cell_type": "code",
   "execution_count": 81,
   "metadata": {},
   "outputs": [
    {
     "name": "stdout",
     "output_type": "stream",
     "text": [
      "('A', 1)\n",
      "('B', 2)\n",
      "('C', 3)\n"
     ]
    }
   ],
   "source": [
    "dic = dict(A=1, B=2, C=3)\n",
    "\n",
    "for i in dic.items():\n",
    "    print(i)\n",
    "          "
   ]
  },
  {
   "cell_type": "code",
   "execution_count": 50,
   "metadata": {},
   "outputs": [
    {
     "name": "stdout",
     "output_type": "stream",
     "text": [
      "Last name:Suzuki\n",
      "First name:Seiji\n",
      "Name:SeijiSuzuki\n"
     ]
    }
   ],
   "source": [
    "class Name:\n",
    "    \n",
    "    def __init__(self, x, y):\n",
    "        self.first = x\n",
    "        self.last =y\n",
    "    \n",
    "    def show_last_name(self):\n",
    "        print(\"Last name:\"+self.last)\n",
    "        \n",
    "    def show_first_name(self):\n",
    "        print(\"First name:\"+self.first)        \n",
    "        \n",
    "    def show_name(self):\n",
    "            print(\"Name:\"+self.first+self.last)\n",
    "            \n",
    "na = Name(\"Seiji\", \"Suzuki\")\n",
    "na.show_last_name()\n",
    "na.show_first_name()\n",
    "na.show_name()\n",
    "    "
   ]
  },
  {
   "cell_type": "markdown",
   "metadata": {},
   "source": [
    "★（４７）名字と名前を保持するNameという名前のクラスを作り、インスタンスを作成して各メソッドを実行せよ   \n",
    "・インスタンス変数にlast_nameとfirst_nameを持ち、コンストラクタで受け取る  \n",
    "・インスタンスメソッドでlast_nameを表示できるshow_last_nameという名前のメソッドを持つ  \n",
    "・インスタンスメソッドでfirst_nameを表示できるshow_last_nameという名前のメソッドを持つ  \n",
    "・インスタンスメソッドでlast_nameとfirst_nameを結合して表示できるshow_nameという名前のメソッドを持つ"
   ]
  },
  {
   "cell_type": "code",
   "execution_count": null,
   "metadata": {
    "collapsed": true
   },
   "outputs": [],
   "source": []
  },
  {
   "cell_type": "markdown",
   "metadata": {},
   "source": [
    "★（４８）Calcという名前のクラスを作り、インスタンスを作成して各メソッドを実行せよ  \n",
    "・インスタンスメソッドで2つの引数を受け取り、合計して表示するplusと言う名前のメソッドを持つ  \n",
    "・インスタンスメソッドでリストの引数を受け取り、要素を合計して表示するtotalと言う名前のメソッドを持つ\n"
   ]
  },
  {
   "cell_type": "code",
   "execution_count": 74,
   "metadata": {},
   "outputs": [
    {
     "name": "stdout",
     "output_type": "stream",
     "text": [
      "4\n",
      "8\n"
     ]
    }
   ],
   "source": [
    "class Calc:\n",
    "    \n",
    "        def __init__(self, x, y):\n",
    "            self.arg1 = x\n",
    "            self.arg2 = y\n",
    "        \n",
    "        def plus(self):\n",
    "            print((self.arg1 + self.arg2))\n",
    "            \n",
    "        def total(self):\n",
    "            tl = 0\n",
    "            for i in range(len(self.arg1)):\n",
    "             #   print(self.arg1[i])\n",
    "                  tl = tl + self.arg1[i-1]\n",
    "            print(tl)\n",
    "        \n",
    "        \n",
    "cal = Calc(2,2)\n",
    "cal.plus()\n",
    "    \n",
    "    \n",
    "lis = [1,3,4]\n",
    "cal2 = Calc(lis,0)\n",
    "cal2.total()\n",
    "    "
   ]
  },
  {
   "cell_type": "markdown",
   "metadata": {},
   "source": [
    "★★（４９）まとめ問題  \n",
    "以下の設計図を元に計算機クラスを実装せよ  \n",
    "\n",
    "クラス名 Calculator  \n",
    "\n",
    "クラス変数 OPERATORS  \n",
    "リスト[\"+\", \"-\", \"\\*\", \"/\"]を登録しておく\n",
    "\n",
    "コンストラクタ  \n",
    "・数字の引数があればインスタンス変数current_numに保存する  \n",
    "・数字以外を受け取った場合、\"エラー：引数は数字に限られます。0を保存しました。\"と表示してcurrent_numに0をセットする  \n",
    "・引数がない場合、current_numに0を保存する  \n",
    "・インスタンス変数has_operatorにFalseを保存する\n",
    "\n",
    "メソッド名 key  \n",
    "＜has_operatorがFalseの場合＞  \n",
    "・\"+\", \"-\", \"\\*\", \"/\"のどれかの文字列を受け取り、それ以外の値を受け取った場合、\"+,-,\\*,/を入力してください。\"と表示する  \n",
    "・\"+\", \"-\", \"\\*\", \"/\"のどれかの文字列を受け取った場合、インスタンス変数operatorに当該文字列を保存し、has_operatorをTrueにする  \n",
    "＜has_operatorがTrueの場合＞  \n",
    "・数字を受け取り、それ以外の値を受け取った場合、\"数字を入力してください。\"と表示する  \n",
    "・数字を受け取った場合、current_numと当該数字を登録されているoperatorで計算してcurrent_numに保存する。また、has_operatorをFalseにする  \n",
    "例：current_num=\"3\", operator=\"+\", 引数=5 → current_num=8\n",
    "\n",
    "メソッド名 result  \n",
    "current_numを出力する  \n",
    "\n",
    "メソッド名  clear  \n",
    "current_numを0にし、has_operatorをFalseにする  \n",
    "\n",
    "ヒント  \n",
    "引数が数字が否か判定する: isinstance(num, (int, float))"
   ]
  },
  {
   "cell_type": "code",
   "execution_count": null,
   "metadata": {
    "collapsed": true
   },
   "outputs": [],
   "source": [
    "class Calculator:\n",
    "    \n",
    "    OPERATORS = [\"+\", \"-\", \"*\", \"/\"]\n",
    "        \n",
    "    def __init__(self, arg1):\n",
    "        self.arg1 = arg1\n",
    "        \n",
    "        if self.arg1 == int():\n",
    "            current_num =  self.arg1\n",
    "        elif arg1 != int():\n",
    "            print(\"エラー：引数は数字に限られます。0を保存しました。\"):\n",
    "            current_num =  0\n",
    "        \n",
    "        current_num =  0    \n",
    "        has_operator = False\n",
    "        \n",
    "    def key(self):\n",
    "        if has_operator == False:\n",
    "            for i in OPERATORS:\n",
    "                if self.arg1 == OPERATORS[i-1]:\n",
    "                    opertor = self.arg1\n",
    "                    has_operator = True\n",
    "            if has_operator == False:\n",
    "                print(\"+,-,*,/を入力してください。\")\n",
    "                \n",
    "        if has_operator == True:\n",
    "            if self.arg1\n",
    "                \n",
    "    \n",
    "        "
   ]
  },
  {
   "cell_type": "markdown",
   "metadata": {},
   "source": [
    "★★★（５０）以下のRateDataManagerクラスはget_lastest_idメソッドがfor文ごとに呼び出され、無駄にreadが発生している。get_lastest_idをfor文の外に出して1度しか呼ばれないように改修せよ  "
   ]
  },
  {
   "cell_type": "code",
   "execution_count": 56,
   "metadata": {},
   "outputs": [
    {
     "data": {
      "text/plain": [
       "<bound method RateDataManager.run of <__main__.RateDataManager object at 0x11302d4a8>>"
      ]
     },
     "execution_count": 56,
     "metadata": {},
     "output_type": "execute_result"
    }
   ],
   "source": [
    "# 問題\n",
    "import os\n",
    "import requests\n",
    "import json\n",
    "\n",
    "class RateDataManager:\n",
    "    \"\"\"\n",
    "    APIでビットコインのレートを取得し、csvに保存する\n",
    "    https://coincheck.com/ja/documents/exchange/api\n",
    "    \"\"\"\n",
    "    \n",
    "    REQ_URL = \"https://coincheck.com/api/trades?pair=btc_jpy\"\n",
    "    DATA_DIR = \"./data\"\n",
    "    COLUMNS = \"pair,rate,amount,created_at,id,order_type\"\n",
    "    \n",
    "    def __init__(self):\n",
    "        self.initialize_data_dir()\n",
    "        self.update_rate_list()\n",
    "\n",
    "\n",
    "    def initialize_data_dir(self):\n",
    "        if not os.path.exists(self.DATA_DIR):\n",
    "            os.makedirs(self.DATA_DIR)\n",
    "            print(\"make dir: {}\".format(self.DATA_DIR))\n",
    "    \n",
    "    \n",
    "    def initialize_data_file(self, target_file):        \n",
    "        if not os.path.exists(\"{}/{}\".format(self.DATA_DIR, target_file)):\n",
    "                with open(\"{}/{}\".format(self.DATA_DIR, target_file), mode=\"w\") as f:\n",
    "                    f.write(self.COLUMNS + \"\\n\")\n",
    "                print(\"make file: {}/{}\".format(self.DATA_DIR, target_file))\n",
    "    \n",
    "    \n",
    "    def update_rate_list(self):    \n",
    "        self.current_rate_list =  json.loads(requests.get(self.REQ_URL).text)[\"data\"]    \n",
    "        \n",
    "    \n",
    "    def get_output_dict(self):\n",
    "        output_dict = {}\n",
    "        for rate in reversed(self.current_rate_list):\n",
    "            rate[\"created_at\"] = rate[\"created_at\"].replace(\"T\",\" \")[:19]\n",
    "            target_file = \"{}_{}.csv\".format(rate[\"pair\"],rate[\"created_at\"][:10])\n",
    "            if not output_dict.get(target_file):\n",
    "                output_dict[target_file] = []\n",
    "            output_dict[target_file].append(rate)\n",
    "        return output_dict\n",
    "    \n",
    "    \n",
    "    def get_lastest_id(self, target_file):        \n",
    "        with open(\"{}/{}\".format(self.DATA_DIR, target_file), mode=\"r\") as f:    \n",
    "            for row in f:\n",
    "                if row == \"\":\n",
    "                    break\n",
    "                last_row = row\n",
    "            latest_id = last_row.split(\",\")[4]\n",
    "            if latest_id == \"id\":\n",
    "                latest_id = 0\n",
    "            else: \n",
    "                latest_id = int(latest_id)        \n",
    "        return latest_id\n",
    "    \n",
    "\n",
    "    def run(self, update=True): \n",
    "        \n",
    "        if update:\n",
    "            self.update_rate_list()\n",
    "        \n",
    "        for target_file, rate_list in  self.get_output_dict().items():\n",
    "            \n",
    "            self.initialize_data_file(target_file)\n",
    "            \n",
    "            text = \"\"\n",
    "            for rate in rate_list:\n",
    "                if int(rate[\"id\"]) > self.get_lastest_id(target_file):  # 無駄にreadしている\n",
    "                    text += \",\".join([str(x) for x in rate.values()]) + \"\\n\"\n",
    "            \n",
    "            if text != \"\":\n",
    "                with open(\"{}/{}\".format(self.DATA_DIR, target_file), mode=\"a\") as f:\n",
    "                    f.write(text)\n",
    "                print(\"write text:\\n\" + text)\n",
    "\n",
    "rate = RateDataManager()\n",
    "rate.initialize_data_dir\n",
    "rate.update_rate_list\n",
    "rate.run\n",
    "\n",
    "\n",
    "                "
   ]
  },
  {
   "cell_type": "code",
   "execution_count": 57,
   "metadata": {},
   "outputs": [
    {
     "data": {
      "text/plain": [
       "<bound method RateDataManager.run of <__main__.RateDataManager object at 0x11292e320>>"
      ]
     },
     "execution_count": 57,
     "metadata": {},
     "output_type": "execute_result"
    }
   ],
   "source": [
    "class RateDataManager:\n",
    "    \"\"\"\n",
    "    APIでビットコインのレートを取得し、csvに保存する\n",
    "    https://coincheck.com/ja/documents/exchange/api\n",
    "    \"\"\"\n",
    "    \n",
    "    REQ_URL = \"https://coincheck.com/api/trades?pair=btc_jpy\"\n",
    "    DATA_DIR = \"./data\"\n",
    "    COLUMNS = \"pair,rate,amount,created_at,id,order_type\"\n",
    "    \n",
    "    def __init__(self):\n",
    "        self.initialize_data_dir()\n",
    "        self.update_rate_list()\n",
    "\n",
    "\n",
    "    def initialize_data_dir(self):\n",
    "        if not os.path.exists(self.DATA_DIR):\n",
    "            os.makedirs(self.DATA_DIR)\n",
    "            print(\"make dir: {}\".format(self.DATA_DIR))\n",
    "    \n",
    "    \n",
    "    def initialize_data_file(self, target_file):        \n",
    "        if not os.path.exists(\"{}/{}\".format(self.DATA_DIR, target_file)):\n",
    "                with open(\"{}/{}\".format(self.DATA_DIR, target_file), mode=\"w\") as f:\n",
    "                    f.write(self.COLUMNS + \"\\n\")\n",
    "                print(\"make file: {}/{}\".format(self.DATA_DIR, target_file))\n",
    "    \n",
    "    \n",
    "    def update_rate_list(self):    \n",
    "        self.current_rate_list =  json.loads(requests.get(self.REQ_URL).text)[\"data\"]    \n",
    "        \n",
    "    \n",
    "    def get_output_dict(self):\n",
    "        output_dict = {}\n",
    "        for rate in reversed(self.current_rate_list):\n",
    "            rate[\"created_at\"] = rate[\"created_at\"].replace(\"T\",\" \")[:19]\n",
    "            target_file = \"{}_{}.csv\".format(rate[\"pair\"],rate[\"created_at\"][:10])\n",
    "            if not output_dict.get(target_file):\n",
    "                output_dict[target_file] = []\n",
    "            output_dict[target_file].append(rate)\n",
    "        return output_dict\n",
    "    \n",
    "    \n",
    "    def get_lastest_id(self, target_file):        \n",
    "        with open(\"{}/{}\".format(self.DATA_DIR, target_file), mode=\"r\") as f:    \n",
    "            for row in f:\n",
    "                if row == \"\":\n",
    "                    break\n",
    "                last_row = row\n",
    "            latest_id = last_row.split(\",\")[4]\n",
    "            if latest_id == \"id\":\n",
    "                latest_id = 0\n",
    "            else: \n",
    "                latest_id = int(latest_id)        \n",
    "        return latest_id\n",
    "    \n",
    "\n",
    "    def run(self, update=True): \n",
    "        \n",
    "        if update:\n",
    "            self.update_rate_list()\n",
    "        \n",
    "        for target_file, rate_list in  self.get_output_dict().items():\n",
    "            \n",
    "            self.initialize_data_file(target_file)\n",
    "            self.get_lastest_id_target_file = self.get_lastest_id_(target_file) #for 文の外で定義\n",
    "            \n",
    "            text = \"\"\n",
    "            for rate in rate_list:\n",
    "                if int(rate[\"id\"]) > self.get_lastest_id_target_file:  \n",
    "                    text += \",\".join([str(x) for x in rate.values()]) + \"\\n\"\n",
    "            \n",
    "            if text != \"\":\n",
    "                with open(\"{}/{}\".format(self.DATA_DIR, target_file), mode=\"a\") as f:\n",
    "                    f.write(text)\n",
    "                print(\"write text:\\n\" + text)\n",
    "\n",
    "\n",
    "                \n",
    "rate = RateDataManager()\n",
    "rate.initialize_data_dir\n",
    "rate.update_rate_list\n",
    "rate.run\n"
   ]
  },
  {
   "cell_type": "code",
   "execution_count": null,
   "metadata": {},
   "outputs": [],
   "source": []
  }
 ],
 "metadata": {
  "anaconda-cloud": {},
  "kernelspec": {
   "display_name": "Python 3",
   "language": "python",
   "name": "python3"
  },
  "language_info": {
   "codemirror_mode": {
    "name": "ipython",
    "version": 3
   },
   "file_extension": ".py",
   "mimetype": "text/x-python",
   "name": "python",
   "nbconvert_exporter": "python",
   "pygments_lexer": "ipython3",
   "version": "3.7.2"
  }
 },
 "nbformat": 4,
 "nbformat_minor": 1
}
