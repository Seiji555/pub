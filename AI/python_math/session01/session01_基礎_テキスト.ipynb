{
 "cells": [
  {
   "cell_type": "markdown",
   "metadata": {},
   "source": [
    "## 基礎"
   ]
  },
  {
   "cell_type": "markdown",
   "metadata": {},
   "source": [
    "【全体目次】\n",
    "- 0: jupyter notebookの使い方\n",
    "- 1: データ型など\n",
    "- 2: 関数と名前空間\n",
    "- 3: 分岐・繰り返し処理\n",
    "- 4: 複数データの扱い\n",
    "- 5: クラスについて"
   ]
  },
  {
   "cell_type": "markdown",
   "metadata": {},
   "source": [
    "【優先度メモ】\n",
    "- ★: 初めてでも必ず覚える\n",
    "- ★★: ★まで把握していて、余力があれば覚える\n",
    "- ★★★: ★★まで把握していて、余力があれば覚える"
   ]
  },
  {
   "cell_type": "markdown",
   "metadata": {},
   "source": [
    "### 0. jupyter notebookの使い方"
   ]
  },
  {
   "cell_type": "markdown",
   "metadata": {},
   "source": [
    "セルを実行する： Shift + Enter  \n",
    "インデントしたい: Tabボタン  \n",
    "途中で止めたい： メニューの■ボタン  \n",
    "再起動したい： メニューのKernelボタン →　Restart  \n",
    "メモしたい: メニューで選択させているCodeをMarkdownに変更する"
   ]
  },
  {
   "cell_type": "markdown",
   "metadata": {},
   "source": [
    "### 1. データ型など"
   ]
  },
  {
   "cell_type": "code",
   "execution_count": 2,
   "metadata": {},
   "outputs": [],
   "source": [
    "# コメント文\n",
    "\"\"\"\n",
    "複数の\n",
    "コメント文\n",
    "\"\"\"\n",
    "a = 1 #　コメント11"
   ]
  },
  {
   "cell_type": "code",
   "execution_count": 3,
   "metadata": {},
   "outputs": [
    {
     "name": "stdout",
     "output_type": "stream",
     "text": [
      "1\n"
     ]
    }
   ],
   "source": [
    "# 表示\n",
    "print(a)"
   ]
  },
  {
   "cell_type": "code",
   "execution_count": 1,
   "metadata": {},
   "outputs": [],
   "source": [
    "print?"
   ]
  },
  {
   "cell_type": "code",
   "execution_count": 3,
   "metadata": {},
   "outputs": [
    {
     "name": "stdout",
     "output_type": "stream",
     "text": [
      "a\t \n"
     ]
    }
   ],
   "source": [
    "who"
   ]
  },
  {
   "cell_type": "code",
   "execution_count": 4,
   "metadata": {
    "scrolled": true
   },
   "outputs": [
    {
     "name": "stdout",
     "output_type": "stream",
     "text": [
      "Variable   Type    Data/Info\n",
      "----------------------------\n",
      "a          int     1\n"
     ]
    }
   ],
   "source": [
    "whos"
   ]
  },
  {
   "cell_type": "code",
   "execution_count": null,
   "metadata": {
    "collapsed": true
   },
   "outputs": [],
   "source": []
  },
  {
   "cell_type": "code",
   "execution_count": 7,
   "metadata": {},
   "outputs": [
    {
     "name": "stdout",
     "output_type": "stream",
     "text": [
      "a\t calc\t calc2\t n\t x\t \n"
     ]
    }
   ],
   "source": [
    "who"
   ]
  },
  {
   "cell_type": "markdown",
   "metadata": {},
   "source": [
    "#### ステートメント"
   ]
  },
  {
   "cell_type": "code",
   "execution_count": 5,
   "metadata": {},
   "outputs": [
    {
     "data": {
      "text/plain": [
       "55"
      ]
     },
     "execution_count": 5,
     "metadata": {},
     "output_type": "execute_result"
    }
   ],
   "source": [
    "# \" \\ \" で改行する ★★\n",
    "1 + 2 + 3 + 4 + 5 \\\n",
    "+ 6 + 7 + 8 + 9 \\\n",
    "+ 10"
   ]
  },
  {
   "cell_type": "code",
   "execution_count": 6,
   "metadata": {},
   "outputs": [
    {
     "name": "stdout",
     "output_type": "stream",
     "text": [
      "10\n",
      "100\n"
     ]
    }
   ],
   "source": [
    "# 大文字と小文字は区別される ★\n",
    "a = 10\n",
    "A = 100\n",
    "print(a)\n",
    "print(A)"
   ]
  },
  {
   "cell_type": "code",
   "execution_count": 7,
   "metadata": {},
   "outputs": [
    {
     "name": "stdout",
     "output_type": "stream",
     "text": [
      "Variable   Type    Data/Info\n",
      "----------------------------\n",
      "A          int     100\n",
      "a          int     10\n"
     ]
    }
   ],
   "source": [
    "whos"
   ]
  },
  {
   "cell_type": "markdown",
   "metadata": {},
   "source": [
    "#### 型 ★"
   ]
  },
  {
   "cell_type": "code",
   "execution_count": 8,
   "metadata": {},
   "outputs": [
    {
     "data": {
      "text/plain": [
       "int"
      ]
     },
     "execution_count": 8,
     "metadata": {},
     "output_type": "execute_result"
    }
   ],
   "source": [
    "type(1)"
   ]
  },
  {
   "cell_type": "code",
   "execution_count": 9,
   "metadata": {},
   "outputs": [
    {
     "data": {
      "text/plain": [
       "float"
      ]
     },
     "execution_count": 9,
     "metadata": {},
     "output_type": "execute_result"
    }
   ],
   "source": [
    "type(1.1)"
   ]
  },
  {
   "cell_type": "code",
   "execution_count": 10,
   "metadata": {},
   "outputs": [
    {
     "data": {
      "text/plain": [
       "str"
      ]
     },
     "execution_count": 10,
     "metadata": {},
     "output_type": "execute_result"
    }
   ],
   "source": [
    "type(\"aaa\")"
   ]
  },
  {
   "cell_type": "code",
   "execution_count": 11,
   "metadata": {
    "scrolled": true
   },
   "outputs": [
    {
     "data": {
      "text/plain": [
       "bool"
      ]
     },
     "execution_count": 11,
     "metadata": {},
     "output_type": "execute_result"
    }
   ],
   "source": [
    "type(True)"
   ]
  },
  {
   "cell_type": "code",
   "execution_count": 12,
   "metadata": {
    "scrolled": true
   },
   "outputs": [
    {
     "ename": "TypeError",
     "evalue": "unsupported operand type(s) for +: 'int' and 'str'",
     "output_type": "error",
     "traceback": [
      "\u001b[0;31m---------------------------------------------------------------------------\u001b[0m",
      "\u001b[0;31mTypeError\u001b[0m                                 Traceback (most recent call last)",
      "\u001b[0;32m<ipython-input-12-db0423a23ce2>\u001b[0m in \u001b[0;36m<module>\u001b[0;34m()\u001b[0m\n\u001b[0;32m----> 1\u001b[0;31m \u001b[0;36m1\u001b[0m \u001b[0;34m+\u001b[0m \u001b[0;34m\"1\"\u001b[0m\u001b[0;34m\u001b[0m\u001b[0m\n\u001b[0m",
      "\u001b[0;31mTypeError\u001b[0m: unsupported operand type(s) for +: 'int' and 'str'"
     ]
    }
   ],
   "source": [
    "1 + \"1\""
   ]
  },
  {
   "cell_type": "code",
   "execution_count": 13,
   "metadata": {
    "scrolled": true
   },
   "outputs": [
    {
     "data": {
      "text/plain": [
       "2"
      ]
     },
     "execution_count": 13,
     "metadata": {},
     "output_type": "execute_result"
    }
   ],
   "source": [
    "1 + int(\"1\")"
   ]
  },
  {
   "cell_type": "code",
   "execution_count": 14,
   "metadata": {},
   "outputs": [
    {
     "data": {
      "text/plain": [
       "'12'"
      ]
     },
     "execution_count": 14,
     "metadata": {},
     "output_type": "execute_result"
    }
   ],
   "source": [
    "str(1) + \"2\""
   ]
  },
  {
   "cell_type": "code",
   "execution_count": null,
   "metadata": {},
   "outputs": [],
   "source": []
  },
  {
   "cell_type": "markdown",
   "metadata": {},
   "source": [
    "#### 演算 ★"
   ]
  },
  {
   "cell_type": "code",
   "execution_count": 15,
   "metadata": {
    "scrolled": true
   },
   "outputs": [
    {
     "data": {
      "text/plain": [
       "-3.0"
      ]
     },
     "execution_count": 15,
     "metadata": {},
     "output_type": "execute_result"
    }
   ],
   "source": [
    "1 + 2 - 3 * 4 / 2"
   ]
  },
  {
   "cell_type": "code",
   "execution_count": 16,
   "metadata": {},
   "outputs": [
    {
     "data": {
      "text/plain": [
       "True"
      ]
     },
     "execution_count": 16,
     "metadata": {},
     "output_type": "execute_result"
    }
   ],
   "source": [
    "1 == 1"
   ]
  },
  {
   "cell_type": "code",
   "execution_count": 17,
   "metadata": {},
   "outputs": [
    {
     "data": {
      "text/plain": [
       "False"
      ]
     },
     "execution_count": 17,
     "metadata": {},
     "output_type": "execute_result"
    }
   ],
   "source": [
    "1 != 1"
   ]
  },
  {
   "cell_type": "code",
   "execution_count": 18,
   "metadata": {},
   "outputs": [
    {
     "data": {
      "text/plain": [
       "False"
      ]
     },
     "execution_count": 18,
     "metadata": {},
     "output_type": "execute_result"
    }
   ],
   "source": [
    "1 > 1"
   ]
  },
  {
   "cell_type": "code",
   "execution_count": 19,
   "metadata": {},
   "outputs": [
    {
     "data": {
      "text/plain": [
       "True"
      ]
     },
     "execution_count": 19,
     "metadata": {},
     "output_type": "execute_result"
    }
   ],
   "source": [
    "1 >= 1"
   ]
  },
  {
   "cell_type": "code",
   "execution_count": 7,
   "metadata": {},
   "outputs": [
    {
     "data": {
      "text/plain": [
       "True"
      ]
     },
     "execution_count": 7,
     "metadata": {},
     "output_type": "execute_result"
    }
   ],
   "source": [
    "1 <= 1"
   ]
  },
  {
   "cell_type": "code",
   "execution_count": 20,
   "metadata": {},
   "outputs": [
    {
     "data": {
      "text/plain": [
       "False"
      ]
     },
     "execution_count": 20,
     "metadata": {},
     "output_type": "execute_result"
    }
   ],
   "source": [
    "not True"
   ]
  },
  {
   "cell_type": "code",
   "execution_count": null,
   "metadata": {
    "collapsed": true
   },
   "outputs": [],
   "source": []
  },
  {
   "cell_type": "markdown",
   "metadata": {},
   "source": [
    "### 2. 関数と名前空間"
   ]
  },
  {
   "cell_type": "markdown",
   "metadata": {},
   "source": [
    "#### 関数（組み込み関数）★"
   ]
  },
  {
   "cell_type": "code",
   "execution_count": 21,
   "metadata": {},
   "outputs": [
    {
     "name": "stdout",
     "output_type": "stream",
     "text": [
      "hello\n"
     ]
    }
   ],
   "source": [
    "print(\"hello\")"
   ]
  },
  {
   "cell_type": "code",
   "execution_count": 22,
   "metadata": {},
   "outputs": [
    {
     "data": {
      "text/plain": [
       "3"
      ]
     },
     "execution_count": 22,
     "metadata": {},
     "output_type": "execute_result"
    }
   ],
   "source": [
    "max(1,2,3)"
   ]
  },
  {
   "cell_type": "code",
   "execution_count": 23,
   "metadata": {},
   "outputs": [
    {
     "data": {
      "text/plain": [
       "1"
      ]
     },
     "execution_count": 23,
     "metadata": {},
     "output_type": "execute_result"
    }
   ],
   "source": [
    "min(1,2,3)"
   ]
  },
  {
   "cell_type": "code",
   "execution_count": 24,
   "metadata": {},
   "outputs": [
    {
     "data": {
      "text/plain": [
       "1"
      ]
     },
     "execution_count": 24,
     "metadata": {},
     "output_type": "execute_result"
    }
   ],
   "source": [
    "abs(-1)"
   ]
  },
  {
   "cell_type": "code",
   "execution_count": 25,
   "metadata": {},
   "outputs": [
    {
     "data": {
      "text/plain": [
       "3"
      ]
     },
     "execution_count": 25,
     "metadata": {},
     "output_type": "execute_result"
    }
   ],
   "source": [
    "len(\"abc\")"
   ]
  },
  {
   "cell_type": "markdown",
   "metadata": {},
   "source": [
    "#### 関数（ユーザー定義関数）★"
   ]
  },
  {
   "cell_type": "code",
   "execution_count": 26,
   "metadata": {},
   "outputs": [
    {
     "name": "stdout",
     "output_type": "stream",
     "text": [
      "test\n"
     ]
    }
   ],
   "source": [
    "def func():\n",
    "    print(\"test\")\n",
    "    \n",
    "func()"
   ]
  },
  {
   "cell_type": "code",
   "execution_count": 27,
   "metadata": {},
   "outputs": [
    {
     "name": "stdout",
     "output_type": "stream",
     "text": [
      "引数はtest\n"
     ]
    }
   ],
   "source": [
    "def func(x):\n",
    "    print(\"引数は\" + x)\n",
    "    \n",
    "func(\"test\")"
   ]
  },
  {
   "cell_type": "code",
   "execution_count": 28,
   "metadata": {},
   "outputs": [
    {
     "name": "stdout",
     "output_type": "stream",
     "text": [
      "引数はtestだよ\n"
     ]
    }
   ],
   "source": [
    "def func(x, y):\n",
    "    print(\"引数は\" + x + y)\n",
    "    \n",
    "func(\"test\", \"だよ\")"
   ]
  },
  {
   "cell_type": "code",
   "execution_count": 29,
   "metadata": {},
   "outputs": [
    {
     "name": "stdout",
     "output_type": "stream",
     "text": [
      "3\n"
     ]
    }
   ],
   "source": [
    "def func(x, y):\n",
    "    \"\"\"\n",
    "    足し算する関数\n",
    "    \"\"\"\n",
    "    return x + y\n",
    "\n",
    "ret = func(1, 2)\n",
    "print(ret)"
   ]
  },
  {
   "cell_type": "code",
   "execution_count": 8,
   "metadata": {},
   "outputs": [
    {
     "name": "stdout",
     "output_type": "stream",
     "text": [
      "引数はテスト\n",
      "引数は未入力\n"
     ]
    }
   ],
   "source": [
    "def func(x=\"未入力\"):\n",
    "    \"\"\"\n",
    "    キーワード引数\n",
    "    \"\"\"\n",
    "    print(\"引数は\" + x)\n",
    "\n",
    "func(\"テスト\")\n",
    "func()"
   ]
  },
  {
   "cell_type": "code",
   "execution_count": 9,
   "metadata": {},
   "outputs": [
    {
     "name": "stdout",
     "output_type": "stream",
     "text": [
      "Variable   Type        Data/Info\n",
      "--------------------------------\n",
      "A          int         100\n",
      "a          int         10\n",
      "func       function    <function func at 0x10936d6a8>\n"
     ]
    }
   ],
   "source": [
    "whos"
   ]
  },
  {
   "cell_type": "markdown",
   "metadata": {},
   "source": [
    "#### 関数（無名関数＝lambda式）★★"
   ]
  },
  {
   "cell_type": "markdown",
   "metadata": {},
   "source": [
    "**関数を式として扱い変数に代入できるようにする手法**であり、プログラムのコードを簡潔にするメリットがある。 <br>\n",
    "https://www.sejuku.net/blog/23677    <br>\n"
   ]
  },
  {
   "cell_type": "code",
   "execution_count": null,
   "metadata": {},
   "outputs": [],
   "source": []
  },
  {
   "cell_type": "code",
   "execution_count": 31,
   "metadata": {},
   "outputs": [
    {
     "name": "stdout",
     "output_type": "stream",
     "text": [
      "引数はテスト\n"
     ]
    }
   ],
   "source": [
    "func = lambda x: print(\"引数は\" + x)\n",
    "func(\"テスト\")"
   ]
  },
  {
   "cell_type": "code",
   "execution_count": 32,
   "metadata": {},
   "outputs": [
    {
     "name": "stdout",
     "output_type": "stream",
     "text": [
      "引数はテスト\n",
      "引数は未入力\n"
     ]
    }
   ],
   "source": [
    "func = lambda x=\"未入力\": print(\"引数は\" + x)\n",
    "func(\"テスト\")\n",
    "func()"
   ]
  },
  {
   "cell_type": "markdown",
   "metadata": {},
   "source": [
    "x = \"未入力\" はxのデフォルト値"
   ]
  },
  {
   "cell_type": "code",
   "execution_count": 33,
   "metadata": {},
   "outputs": [
    {
     "name": "stdout",
     "output_type": "stream",
     "text": [
      "引数はテスト\n",
      "引数は未入力\n"
     ]
    }
   ],
   "source": [
    "(lambda x=\"未入力\": print(\"引数は\" + x))(\"テスト\")\n",
    "(lambda x=\"未入力\": print(\"引数は\" + x))()"
   ]
  },
  {
   "cell_type": "markdown",
   "metadata": {},
   "source": [
    "上の\"テスト\"みたいに、一番右の()に変数を代入して、処理した結果を返すことができる"
   ]
  },
  {
   "cell_type": "code",
   "execution_count": null,
   "metadata": {
    "collapsed": true
   },
   "outputs": [],
   "source": []
  },
  {
   "cell_type": "markdown",
   "metadata": {},
   "source": [
    "#### 名前空間 ★★"
   ]
  },
  {
   "cell_type": "markdown",
   "metadata": {},
   "source": [
    "名前 = 変数の名前そのもの、空間 = その名前をpythonが認識できる範囲"
   ]
  },
  {
   "cell_type": "code",
   "execution_count": 5,
   "metadata": {},
   "outputs": [
    {
     "name": "stdout",
     "output_type": "stream",
     "text": [
      "2\n",
      "2\n",
      "2\n",
      "1\n"
     ]
    }
   ],
   "source": [
    "x = 1 # xはグローバル変数\n",
    "\n",
    "def calc() :\n",
    "    ans = 2 * x\n",
    "    print(ans)\n",
    "\n",
    "def calc2(x) :\n",
    "    ans = 2 * x\n",
    "    print(ans)\n",
    "    \n",
    "    \n",
    "calc()\n",
    "calc2(1)\n",
    "calc2(x)\n",
    "print(x)"
   ]
  },
  {
   "cell_type": "code",
   "execution_count": 35,
   "metadata": {},
   "outputs": [
    {
     "name": "stdout",
     "output_type": "stream",
     "text": [
      "2\n"
     ]
    },
    {
     "ename": "NameError",
     "evalue": "name 'ans' is not defined",
     "output_type": "error",
     "traceback": [
      "\u001b[0;31m---------------------------------------------------------------------------\u001b[0m",
      "\u001b[0;31mNameError\u001b[0m                                 Traceback (most recent call last)",
      "\u001b[0;32m<ipython-input-35-6c83115b1464>\u001b[0m in \u001b[0;36m<module>\u001b[0;34m()\u001b[0m\n\u001b[1;32m      6\u001b[0m \u001b[0;34m\u001b[0m\u001b[0m\n\u001b[1;32m      7\u001b[0m \u001b[0mcalc\u001b[0m\u001b[0;34m(\u001b[0m\u001b[0;34m)\u001b[0m\u001b[0;34m\u001b[0m\u001b[0m\n\u001b[0;32m----> 8\u001b[0;31m \u001b[0mprint\u001b[0m\u001b[0;34m(\u001b[0m\u001b[0mans\u001b[0m\u001b[0;34m)\u001b[0m\u001b[0;34m\u001b[0m\u001b[0m\n\u001b[0m",
      "\u001b[0;31mNameError\u001b[0m: name 'ans' is not defined"
     ]
    }
   ],
   "source": [
    "x = 1\n",
    "\n",
    "def calc() :\n",
    "    ans = 2 * x # ansはローカル変数\n",
    "    print(ans)\n",
    "\n",
    "calc()\n",
    "print(ans)"
   ]
  },
  {
   "cell_type": "markdown",
   "metadata": {},
   "source": [
    "### 3. 分岐・繰り返し処理"
   ]
  },
  {
   "cell_type": "markdown",
   "metadata": {},
   "source": [
    "#### if文 ★"
   ]
  },
  {
   "cell_type": "code",
   "execution_count": 16,
   "metadata": {},
   "outputs": [
    {
     "name": "stdout",
     "output_type": "stream",
     "text": [
      "a is greater than 0\n"
     ]
    }
   ],
   "source": [
    "a = 1\n",
    "\n",
    "if a > 0:\n",
    "  print(\"a is greater than 0\")"
   ]
  },
  {
   "cell_type": "code",
   "execution_count": 37,
   "metadata": {},
   "outputs": [
    {
     "name": "stdout",
     "output_type": "stream",
     "text": [
      "a is not greater than 0\n"
     ]
    }
   ],
   "source": [
    "a = 0\n",
    "\n",
    "if a > 0:\n",
    "    print(\"a is greater than 0\")\n",
    "else:\n",
    "    print(\"a is not greater than 0\")"
   ]
  },
  {
   "cell_type": "code",
   "execution_count": 38,
   "metadata": {},
   "outputs": [
    {
     "name": "stdout",
     "output_type": "stream",
     "text": [
      "a is 0\n"
     ]
    }
   ],
   "source": [
    "a = 0\n",
    "\n",
    "if a > 0:\n",
    "    print(\"a is greater than 0\")\n",
    "elif a == 0:\n",
    "    print(\"a is 0\")    \n",
    "else:\n",
    "    print(\"a is less than 0\")"
   ]
  },
  {
   "cell_type": "code",
   "execution_count": 39,
   "metadata": {},
   "outputs": [
    {
     "name": "stdout",
     "output_type": "stream",
     "text": [
      "a is 0\n"
     ]
    }
   ],
   "source": [
    "# ネスト化（入れ子構造）にすることもできる ★\n",
    "a = 0\n",
    "\n",
    "if a >= 0:\n",
    "    if a > 0:\n",
    "        print(\"a is greater than 0\")\n",
    "    else:\n",
    "        print(\"a is 0\")            \n",
    "else:\n",
    "    print(\"a is less than 0\")"
   ]
  },
  {
   "cell_type": "code",
   "execution_count": null,
   "metadata": {
    "collapsed": true
   },
   "outputs": [],
   "source": []
  },
  {
   "cell_type": "markdown",
   "metadata": {},
   "source": [
    "#### for文 ★"
   ]
  },
  {
   "cell_type": "code",
   "execution_count": 1,
   "metadata": {},
   "outputs": [
    {
     "name": "stdout",
     "output_type": "stream",
     "text": [
      "range(0, 5)\n",
      "range(1, 5)\n",
      "range(1, 5, 2)\n"
     ]
    },
    {
     "data": {
      "text/plain": [
       "range(0, 5)"
      ]
     },
     "execution_count": 1,
     "metadata": {},
     "output_type": "execute_result"
    }
   ],
   "source": [
    "# range(開始, 終了, ステップ)\n",
    "print(range(5))\n",
    "print(range(1,5))\n",
    "print(range(1,5,2))\n",
    "range(5)"
   ]
  },
  {
   "cell_type": "code",
   "execution_count": 10,
   "metadata": {},
   "outputs": [
    {
     "data": {
      "text/plain": [
       "[1, 2, 3, 4]"
      ]
     },
     "execution_count": 10,
     "metadata": {},
     "output_type": "execute_result"
    }
   ],
   "source": [
    "list(range(1,5))"
   ]
  },
  {
   "cell_type": "code",
   "execution_count": 41,
   "metadata": {
    "scrolled": true
   },
   "outputs": [
    {
     "name": "stdout",
     "output_type": "stream",
     "text": [
      "0\n",
      "1\n",
      "2\n",
      "3\n",
      "4\n"
     ]
    }
   ],
   "source": [
    "# このnのことをダミー変数という\n",
    "for n in range(5):\n",
    "    print(n)"
   ]
  },
  {
   "cell_type": "code",
   "execution_count": 42,
   "metadata": {},
   "outputs": [
    {
     "name": "stdout",
     "output_type": "stream",
     "text": [
      "1\n",
      "3\n"
     ]
    }
   ],
   "source": [
    "for n in range(1,5,2):\n",
    "    print(n)"
   ]
  },
  {
   "cell_type": "code",
   "execution_count": 43,
   "metadata": {},
   "outputs": [
    {
     "name": "stdout",
     "output_type": "stream",
     "text": [
      "0\n",
      "1\n",
      "2\n"
     ]
    }
   ],
   "source": [
    "# break\n",
    "for i in range(5):\n",
    "    if i == 3:\n",
    "        break\n",
    "    print(i)"
   ]
  },
  {
   "cell_type": "code",
   "execution_count": 44,
   "metadata": {},
   "outputs": [
    {
     "name": "stdout",
     "output_type": "stream",
     "text": [
      "0\n",
      "1\n",
      "2\n",
      "4\n"
     ]
    }
   ],
   "source": [
    "# continue\n",
    "for n in range(5):\n",
    "    if n == 3:\n",
    "        continue\n",
    "    print(n)"
   ]
  },
  {
   "cell_type": "code",
   "execution_count": null,
   "metadata": {
    "collapsed": true
   },
   "outputs": [],
   "source": []
  },
  {
   "cell_type": "markdown",
   "metadata": {},
   "source": [
    "#### while文 ★★★"
   ]
  },
  {
   "cell_type": "code",
   "execution_count": 6,
   "metadata": {},
   "outputs": [
    {
     "name": "stdout",
     "output_type": "stream",
     "text": [
      "0\n",
      "1\n",
      "2\n",
      "最終結果\n",
      "3\n"
     ]
    }
   ],
   "source": [
    "n = 0\n",
    "while n < 3:\n",
    "    print(n)\n",
    "    n = n + 1\n",
    "print(\"最終結果\")\n",
    "print(n)"
   ]
  },
  {
   "cell_type": "code",
   "execution_count": 46,
   "metadata": {},
   "outputs": [
    {
     "name": "stdout",
     "output_type": "stream",
     "text": [
      "0\n",
      "1\n"
     ]
    }
   ],
   "source": [
    "n = 0\n",
    "while n < 3:\n",
    "    print(n)\n",
    "    if n == 1:\n",
    "        break\n",
    "    n = n + 1"
   ]
  },
  {
   "cell_type": "markdown",
   "metadata": {},
   "source": [
    "### 4. 複数データの扱い"
   ]
  },
  {
   "cell_type": "markdown",
   "metadata": {},
   "source": [
    "#### リスト ★"
   ]
  },
  {
   "cell_type": "code",
   "execution_count": 3,
   "metadata": {},
   "outputs": [
    {
     "data": {
      "text/plain": [
       "[1, 2, 3]"
      ]
     },
     "execution_count": 3,
     "metadata": {},
     "output_type": "execute_result"
    }
   ],
   "source": [
    "list_a = [1,2,3]\n",
    "list_a"
   ]
  },
  {
   "cell_type": "code",
   "execution_count": 4,
   "metadata": {},
   "outputs": [
    {
     "data": {
      "text/plain": [
       "1"
      ]
     },
     "execution_count": 4,
     "metadata": {},
     "output_type": "execute_result"
    }
   ],
   "source": [
    "list_a[0]"
   ]
  },
  {
   "cell_type": "code",
   "execution_count": 5,
   "metadata": {},
   "outputs": [
    {
     "data": {
      "text/plain": [
       "[1, 2]"
      ]
     },
     "execution_count": 5,
     "metadata": {},
     "output_type": "execute_result"
    }
   ],
   "source": [
    "# 0から2まで（2は含まない）★\n",
    "list_a[0:2]"
   ]
  },
  {
   "cell_type": "code",
   "execution_count": 50,
   "metadata": {
    "scrolled": true
   },
   "outputs": [
    {
     "data": {
      "text/plain": [
       "3"
      ]
     },
     "execution_count": 50,
     "metadata": {},
     "output_type": "execute_result"
    }
   ],
   "source": [
    "# 後ろから1番目★\n",
    "list_a[-1]"
   ]
  },
  {
   "cell_type": "code",
   "execution_count": 51,
   "metadata": {},
   "outputs": [
    {
     "data": {
      "text/plain": [
       "[2, 3]"
      ]
     },
     "execution_count": 51,
     "metadata": {},
     "output_type": "execute_result"
    }
   ],
   "source": [
    "# １番目から最後まで★\n",
    "list_a[1:]"
   ]
  },
  {
   "cell_type": "code",
   "execution_count": 52,
   "metadata": {},
   "outputs": [
    {
     "data": {
      "text/plain": [
       "[1, 2, 3]"
      ]
     },
     "execution_count": 52,
     "metadata": {},
     "output_type": "execute_result"
    }
   ],
   "source": [
    "# 全部★\n",
    "list_a[:]"
   ]
  },
  {
   "cell_type": "code",
   "execution_count": 53,
   "metadata": {},
   "outputs": [
    {
     "data": {
      "text/plain": [
       "[1, 100, 3]"
      ]
     },
     "execution_count": 53,
     "metadata": {},
     "output_type": "execute_result"
    }
   ],
   "source": [
    "# 代入★\n",
    "list_a[1] = 100\n",
    "list_a"
   ]
  },
  {
   "cell_type": "markdown",
   "metadata": {},
   "source": [
    "↑1番目 (左から2番め) の要素が上書きされる"
   ]
  },
  {
   "cell_type": "code",
   "execution_count": 54,
   "metadata": {},
   "outputs": [
    {
     "data": {
      "text/plain": [
       "[1, 'abc', 2.0]"
      ]
     },
     "execution_count": 54,
     "metadata": {},
     "output_type": "execute_result"
    }
   ],
   "source": [
    "# 型が混じって問題ない★\n",
    "list_b = [1, \"abc\", 2.0]\n",
    "list_b"
   ]
  },
  {
   "cell_type": "code",
   "execution_count": 55,
   "metadata": {},
   "outputs": [
    {
     "data": {
      "text/plain": [
       "[0, 1, 2, 3, 4]"
      ]
     },
     "execution_count": 55,
     "metadata": {},
     "output_type": "execute_result"
    }
   ],
   "source": [
    "# rangeからlistを作る★\n",
    "list_c = list(range(5))\n",
    "list_c"
   ]
  },
  {
   "cell_type": "code",
   "execution_count": 56,
   "metadata": {},
   "outputs": [
    {
     "data": {
      "text/plain": [
       "[[1, 2], [3, 4]]"
      ]
     },
     "execution_count": 56,
     "metadata": {},
     "output_type": "execute_result"
    }
   ],
   "source": [
    "# 多次元リスト★\n",
    "list_d = [[1,2],\n",
    "                 [3,4]]\n",
    "list_d"
   ]
  },
  {
   "cell_type": "code",
   "execution_count": 57,
   "metadata": {},
   "outputs": [
    {
     "data": {
      "text/plain": [
       "3"
      ]
     },
     "execution_count": 57,
     "metadata": {},
     "output_type": "execute_result"
    }
   ],
   "source": [
    "list_d[1][0]"
   ]
  },
  {
   "cell_type": "code",
   "execution_count": 58,
   "metadata": {},
   "outputs": [
    {
     "data": {
      "text/plain": [
       "[0, 1, 2, 3]"
      ]
     },
     "execution_count": 58,
     "metadata": {},
     "output_type": "execute_result"
    }
   ],
   "source": [
    "# 追加する ★\n",
    "list_e = [0, 1, 2]\n",
    "list_e.append(3)\n",
    "list_e"
   ]
  },
  {
   "cell_type": "code",
   "execution_count": 59,
   "metadata": {},
   "outputs": [
    {
     "data": {
      "text/plain": [
       "[0, 1, 2, 3, 4, 5]"
      ]
     },
     "execution_count": 59,
     "metadata": {},
     "output_type": "execute_result"
    }
   ],
   "source": [
    "# 結合する ★★\n",
    "list_f = [0, 1, 2]\n",
    "list_g = [3, 4, 5]\n",
    "list_f + list_g"
   ]
  },
  {
   "cell_type": "code",
   "execution_count": 14,
   "metadata": {},
   "outputs": [
    {
     "data": {
      "text/plain": [
       "[0, 1, 2]"
      ]
     },
     "execution_count": 14,
     "metadata": {},
     "output_type": "execute_result"
    }
   ],
   "source": [
    "# 複製する ★★★\n",
    "list_h = [0, 1, 2]\n",
    "list_i = list_h.copy()\n",
    "list_i\n",
    "list_k = list_i\n",
    "list_k"
   ]
  },
  {
   "cell_type": "code",
   "execution_count": 61,
   "metadata": {},
   "outputs": [
    {
     "data": {
      "text/plain": [
       "[1, 2, 3]"
      ]
     },
     "execution_count": 61,
     "metadata": {},
     "output_type": "execute_result"
    }
   ],
   "source": [
    "# 並び替える★\n",
    "list_j = [1, 3, 2]\n",
    "list_j.sort()\n",
    "list_j"
   ]
  },
  {
   "cell_type": "code",
   "execution_count": 62,
   "metadata": {},
   "outputs": [
    {
     "data": {
      "text/plain": [
       "[3, 2, 1]"
      ]
     },
     "execution_count": 62,
     "metadata": {},
     "output_type": "execute_result"
    }
   ],
   "source": [
    "list_j.sort(reverse=True)\n",
    "list_j"
   ]
  },
  {
   "cell_type": "code",
   "execution_count": 63,
   "metadata": {},
   "outputs": [
    {
     "data": {
      "text/plain": [
       "True"
      ]
     },
     "execution_count": 63,
     "metadata": {},
     "output_type": "execute_result"
    }
   ],
   "source": [
    "# リストに含まれているか確認する ★\n",
    "list_k = [0, 1, 2]\n",
    "1 in list_k"
   ]
  },
  {
   "cell_type": "code",
   "execution_count": 64,
   "metadata": {},
   "outputs": [
    {
     "data": {
      "text/plain": [
       "6"
      ]
     },
     "execution_count": 64,
     "metadata": {},
     "output_type": "execute_result"
    }
   ],
   "source": [
    "# 合計する ★\n",
    "list_l = [1, 2, 3]\n",
    "sum(list_l)"
   ]
  },
  {
   "cell_type": "code",
   "execution_count": 65,
   "metadata": {},
   "outputs": [
    {
     "data": {
      "text/plain": [
       "3"
      ]
     },
     "execution_count": 65,
     "metadata": {},
     "output_type": "execute_result"
    }
   ],
   "source": [
    "# 要素数の確認 ★\n",
    "list_m = [1, 2, 3]\n",
    "len(list_m)"
   ]
  },
  {
   "cell_type": "code",
   "execution_count": 66,
   "metadata": {},
   "outputs": [
    {
     "name": "stdout",
     "output_type": "stream",
     "text": [
      "1\n",
      "2\n",
      "3\n"
     ]
    }
   ],
   "source": [
    "# for文に用いる  ★\n",
    "for n in [1,2,3]:\n",
    "    print(n)"
   ]
  },
  {
   "cell_type": "code",
   "execution_count": 67,
   "metadata": {},
   "outputs": [
    {
     "name": "stdout",
     "output_type": "stream",
     "text": [
      "0 a\n",
      "1 b\n",
      "2 c\n"
     ]
    }
   ],
   "source": [
    "# enumerate ★★\n",
    "# zipの特殊バージョン\n",
    "for i, x in enumerate([\"a\", \"b\", \"c\"]):\n",
    "    print(i, x)"
   ]
  },
  {
   "cell_type": "code",
   "execution_count": 68,
   "metadata": {},
   "outputs": [
    {
     "name": "stdout",
     "output_type": "stream",
     "text": [
      "1 a\n",
      "2 b\n",
      "3 c\n"
     ]
    }
   ],
   "source": [
    "# zip ★★\n",
    "for i, x in zip([1, 2, 3], [\"a\", \"b\", \"c\"]):\n",
    "    print(i, x)"
   ]
  },
  {
   "cell_type": "code",
   "execution_count": 69,
   "metadata": {},
   "outputs": [
    {
     "name": "stdout",
     "output_type": "stream",
     "text": [
      "0 1 a\n",
      "1 2 b\n",
      "2 3 c\n"
     ]
    }
   ],
   "source": [
    "# zip（3つ以上も可能） ★★\n",
    "for r, i, x in zip(range(3), [1, 2, 3], [\"a\", \"b\", \"c\"]):\n",
    "    print(r, i, x)"
   ]
  },
  {
   "cell_type": "code",
   "execution_count": null,
   "metadata": {
    "collapsed": true
   },
   "outputs": [],
   "source": []
  },
  {
   "cell_type": "markdown",
   "metadata": {},
   "source": [
    "#### リスト内包表記  ★★"
   ]
  },
  {
   "cell_type": "markdown",
   "metadata": {},
   "source": [
    "ブラケットの中で、リストの要素をまとめて表現する方法。 <br>\n",
    "\n",
    "[メリット] <br>\n",
    "- **コードを簡略化して書くことができる。 **\n",
    "- **処理速度が早くなる** (https://qiita.com/y__sama/items/a2c458de97c4aa5a98e7)\n",
    "\n",
    "※知らなくても実装できるが、メリットも多いので、覚えておくとよい"
   ]
  },
  {
   "cell_type": "code",
   "execution_count": 1,
   "metadata": {},
   "outputs": [
    {
     "name": "stdout",
     "output_type": "stream",
     "text": [
      "[0, 2, 4]\n",
      "\n",
      "[0, 2, 4]\n"
     ]
    }
   ],
   "source": [
    "# 内包表記を用いない ★\n",
    "ret = []\n",
    "for i in [0, 1, 2]:\n",
    "    ret.append(i * 2)\n",
    "print(ret)\n",
    "print()\n",
    "\n",
    "# 内包表記を用いる ★★\n",
    "print([i * 2 for i in [0, 1, 2]])\n",
    "\n",
    "# 基本形: [カウント式 for ダミー変数 in イテレータ (変数の範囲)]"
   ]
  },
  {
   "cell_type": "code",
   "execution_count": 71,
   "metadata": {},
   "outputs": [
    {
     "name": "stdout",
     "output_type": "stream",
     "text": [
      "[0, 2]\n",
      "\n",
      "[0, 2]\n"
     ]
    }
   ],
   "source": [
    "# 内包表記を用いない\n",
    "ret = []\n",
    "for i in [0, 1, 2]:\n",
    "    if i != 1:\n",
    "        ret.append(i)\n",
    "print(ret)\n",
    "print()\n",
    "\n",
    "# 内包表記を用いる\n",
    "print([i for i in [0, 1, 2] if i != 1])\n",
    "# 後置if文 (pythonではこのときにしか使わない)"
   ]
  },
  {
   "cell_type": "code",
   "execution_count": 3,
   "metadata": {},
   "outputs": [
    {
     "data": {
      "text/plain": [
       "[0, '1', 4]"
      ]
     },
     "execution_count": 3,
     "metadata": {},
     "output_type": "execute_result"
    }
   ],
   "source": [
    "# if ~ elseで表現するときは、条件分岐を前に書く (ややこしい) ★★★\n",
    "[i * 2 if i % 2 == 0 else str(i) for i in range(3)]"
   ]
  },
  {
   "cell_type": "code",
   "execution_count": null,
   "metadata": {
    "collapsed": true
   },
   "outputs": [],
   "source": []
  },
  {
   "cell_type": "markdown",
   "metadata": {},
   "source": [
    "#### タプル ★★"
   ]
  },
  {
   "cell_type": "code",
   "execution_count": 72,
   "metadata": {},
   "outputs": [
    {
     "data": {
      "text/plain": [
       "(1, 2, 3)"
      ]
     },
     "execution_count": 72,
     "metadata": {},
     "output_type": "execute_result"
    }
   ],
   "source": [
    "tpl_1 = (1, 2, 3)\n",
    "tpl_1"
   ]
  },
  {
   "cell_type": "code",
   "execution_count": 73,
   "metadata": {},
   "outputs": [
    {
     "ename": "TypeError",
     "evalue": "'tuple' object does not support item assignment",
     "output_type": "error",
     "traceback": [
      "\u001b[0;31m---------------------------------------------------------------------------\u001b[0m",
      "\u001b[0;31mTypeError\u001b[0m                                 Traceback (most recent call last)",
      "\u001b[0;32m<ipython-input-73-6aba0dd906c8>\u001b[0m in \u001b[0;36m<module>\u001b[0;34m()\u001b[0m\n\u001b[1;32m      1\u001b[0m \u001b[0;31m# リストと異なり変更ができない\u001b[0m\u001b[0;34m\u001b[0m\u001b[0;34m\u001b[0m\u001b[0m\n\u001b[0;32m----> 2\u001b[0;31m \u001b[0mtpl_1\u001b[0m\u001b[0;34m[\u001b[0m\u001b[0;36m1\u001b[0m\u001b[0;34m]\u001b[0m \u001b[0;34m=\u001b[0m \u001b[0;36m100\u001b[0m\u001b[0;34m\u001b[0m\u001b[0m\n\u001b[0m",
      "\u001b[0;31mTypeError\u001b[0m: 'tuple' object does not support item assignment"
     ]
    }
   ],
   "source": [
    "# リストと異なり変更ができない\n",
    "tpl_1[1] = 100"
   ]
  },
  {
   "cell_type": "code",
   "execution_count": 23,
   "metadata": {},
   "outputs": [
    {
     "name": "stdout",
     "output_type": "stream",
     "text": [
      "1回目のtplのID\n",
      "4384087136\n",
      "2回目のtplのID\n",
      "4384082760\n"
     ]
    }
   ],
   "source": [
    "# タプルの本質はimmutableであるということ = idの変更なしに中身の変更ができない\n",
    "# タプルからタプルの代入はエラーにならない。新しいタプルになったとみなされるため。 (IDが変化するだけ)\n",
    "print(\"1回目のtplのID\")\n",
    "tpl = (1,2,3)\n",
    "print(id(tpl))\n",
    "tpl = (2 ,4)\n",
    "print(\"2回目のtplのID\")\n",
    "print(id(tpl))\n",
    "# idは変わる。けど、エラーを吐かない (同じ変数tplとしても、新しいタプルデータを宣言したことになる)"
   ]
  },
  {
   "cell_type": "code",
   "execution_count": 26,
   "metadata": {},
   "outputs": [
    {
     "name": "stdout",
     "output_type": "stream",
     "text": [
      "()表現のIDは常に変化する\n",
      "4384053896\n",
      "4384079176\n",
      "変数に入っているタプルは、何もしなければID保持\n",
      "4384082760\n",
      "4384082760\n"
     ]
    }
   ],
   "source": [
    "# ()型でタプルを表現する際、構成要素が同じでもIDは都度変わる。 (変数に格納しなければ、IDを保持できない)\n",
    "(a , b) = (5 ,6)\n",
    "print(\"()表現のIDは常に変化する\")\n",
    "print(id((a,b)))\n",
    "print(id((a,b)))\n",
    "# ↑同じ構成要素でも、都度新しいタプルを作ったとみなされる。なので、IDが変わる\n",
    "\n",
    "print(\"変数に入っているタプルは、何もしなければID保持\")\n",
    "print(id(tpl))\n",
    "print(id(tpl))\n"
   ]
  },
  {
   "cell_type": "code",
   "execution_count": 37,
   "metadata": {},
   "outputs": [
    {
     "name": "stdout",
     "output_type": "stream",
     "text": [
      "構成要素aとbのID\n",
      "a\n",
      "4336301392\n",
      "b\n",
      "4336301424\n",
      "構成要素aとbのIDもう一度\n",
      "aその2\n",
      "4336301392\n",
      "bその2\n",
      "4336301488\n",
      "同じ変数に同じタプルを入れる場合もIDは変化する\n",
      "4384071304\n",
      "4384037896\n"
     ]
    }
   ],
   "source": [
    "# したがって、タプルの更新でエラーを吐くのは、実質変数に入っているタプルの部分更新をしようとしたときだけとなる\n",
    "(a , b) = (1, 2)\n",
    "print(\"構成要素aとbのID\")\n",
    "print(\"a\")\n",
    "print(id(a))\n",
    "print(\"b\")\n",
    "print(id(b))\n",
    "# ↓の (a, b)自体は新しく宣言されたタプルとみなされる。a ,b という2つの変数は更新される\n",
    "(a,  b) = (1 ,4)\n",
    "# a は同じ数字が代入されたため、IDが変わらないはず (aがスカラ値のため。スカラ値 = 要素が1個だけのデータのこと)\n",
    "print(\"構成要素aとbのIDもう一度\")\n",
    "print(\"aその2\")\n",
    "print(id(a))\n",
    "print(\"bその2\")\n",
    "print(id(b))\n",
    "\n",
    "# ただし、タプル変数には同じタプルを入れてもIDが変化する\n",
    "tpl = (1,2)\n",
    "print(\"同じ変数に同じタプルを入れる場合もIDは変化する\")\n",
    "print(id(tpl))\n",
    "tpl = (1,2)\n",
    "print(id(tpl))"
   ]
  },
  {
   "cell_type": "code",
   "execution_count": 38,
   "metadata": {},
   "outputs": [],
   "source": [
    "# ちなみに中のスカラ変数に数値を代入する処理はリスト型でも可能\n",
    "[a , b] = (1, 2)\n"
   ]
  },
  {
   "cell_type": "code",
   "execution_count": 74,
   "metadata": {},
   "outputs": [
    {
     "data": {
      "text/plain": [
       "(1, 2, 3)"
      ]
     },
     "execution_count": 74,
     "metadata": {},
     "output_type": "execute_result"
    }
   ],
   "source": [
    "# リストからタプルを作成\n",
    "tpl_2 = tuple([1, 2, 3])\n",
    "tpl_2"
   ]
  },
  {
   "cell_type": "code",
   "execution_count": 7,
   "metadata": {},
   "outputs": [
    {
     "name": "stdout",
     "output_type": "stream",
     "text": [
      "1\n",
      "2\n",
      "aのデータ型↓\n",
      "<class 'int'>\n",
      "3\n",
      "4\n",
      "5\n",
      "6\n"
     ]
    }
   ],
   "source": [
    "# タプルを用いて一気に変数に代入\n",
    "(a, b) = (1, 2)\n",
    "print(a)\n",
    "print(b)\n",
    "\n",
    "# aやb自体はintなので、上書き可能\n",
    "print('aのデータ型↓')\n",
    "print(type(a))\n",
    "\n",
    "# 実は並べるだけでタプルとして処理される\n",
    "c, d = 3, 4\n",
    "print(c)\n",
    "print(d)\n",
    "\n",
    "# 実はリストでもできる\n",
    "e, f = [5, 6]\n",
    "print(e)\n",
    "print(f)"
   ]
  },
  {
   "cell_type": "code",
   "execution_count": 3,
   "metadata": {},
   "outputs": [
    {
     "data": {
      "text/plain": [
       "int"
      ]
     },
     "execution_count": 3,
     "metadata": {},
     "output_type": "execute_result"
    }
   ],
   "source": [
    "(a, b) = (1, 2)\n",
    "type(a)"
   ]
  },
  {
   "cell_type": "code",
   "execution_count": null,
   "metadata": {
    "collapsed": true
   },
   "outputs": [],
   "source": []
  },
  {
   "cell_type": "markdown",
   "metadata": {},
   "source": [
    "#### セット（集合）★★"
   ]
  },
  {
   "cell_type": "code",
   "execution_count": 76,
   "metadata": {},
   "outputs": [
    {
     "name": "stdout",
     "output_type": "stream",
     "text": [
      "{1, 2, 3, 4, 5}\n",
      "{3}\n"
     ]
    }
   ],
   "source": [
    "set_a = {1, 2, 3}\n",
    "set_b = {3, 4, 5}\n",
    "print(set_a | set_b) # 和集合\n",
    "print(set_a & set_b) # 積集合\n",
    "# 非常に数学的な動機から使われるデータ型といえる\n",
    "# https://www.yoheim.net/blog.php?q=20160605"
   ]
  },
  {
   "cell_type": "code",
   "execution_count": 77,
   "metadata": {},
   "outputs": [
    {
     "data": {
      "text/plain": [
       "{1, 2, 3}"
      ]
     },
     "execution_count": 77,
     "metadata": {},
     "output_type": "execute_result"
    }
   ],
   "source": [
    "# リストやタプルから作成する\n",
    "set_c = set([1,2,3])\n",
    "set_c"
   ]
  },
  {
   "cell_type": "code",
   "execution_count": 78,
   "metadata": {},
   "outputs": [
    {
     "data": {
      "text/plain": [
       "{1, 2, 3}"
      ]
     },
     "execution_count": 78,
     "metadata": {},
     "output_type": "execute_result"
    }
   ],
   "source": [
    "# 重複は除去される\n",
    "# また、順序は保持されない \n",
    "set_d = {3, 3, 2, 2, 2, 1, 1}\n",
    "set_d"
   ]
  },
  {
   "cell_type": "code",
   "execution_count": 5,
   "metadata": {},
   "outputs": [
    {
     "name": "stdout",
     "output_type": "stream",
     "text": [
      "False\n"
     ]
    }
   ],
   "source": [
    "# メリット: inによる検索がめちゃ早い\n",
    "set_e = {1,2,3}\n",
    "print (4 in set_e)"
   ]
  },
  {
   "cell_type": "code",
   "execution_count": 4,
   "metadata": {},
   "outputs": [
    {
     "data": {
      "text/plain": [
       "dict"
      ]
     },
     "execution_count": 4,
     "metadata": {},
     "output_type": "execute_result"
    }
   ],
   "source": [
    "# 空の波括弧は辞書型として認識される\n",
    "type({})"
   ]
  },
  {
   "cell_type": "markdown",
   "metadata": {},
   "source": [
    "#### ディクト（辞書）★"
   ]
  },
  {
   "cell_type": "code",
   "execution_count": 2,
   "metadata": {},
   "outputs": [
    {
     "data": {
      "text/plain": [
       "{'L': 300, 'M': 2000, 'S': 1200}"
      ]
     },
     "execution_count": 2,
     "metadata": {},
     "output_type": "execute_result"
    }
   ],
   "source": [
    "# {key:value}形式でデータを保持する ★\n",
    "# 順序は保持されない\n",
    "# keyはIDみたいなもの (SQLのインデックスのようなイメージ。辞書型データも検索がめちゃ早い)\n",
    "# https://qiita.com/cof/items/05f6ffc6d4e5b062aaa9\n",
    "size = {\"S\": 1200, \"M\": 2000, \"L\": 300}\n",
    "size"
   ]
  },
  {
   "cell_type": "code",
   "execution_count": 80,
   "metadata": {},
   "outputs": [
    {
     "data": {
      "text/plain": [
       "1200"
      ]
     },
     "execution_count": 80,
     "metadata": {},
     "output_type": "execute_result"
    }
   ],
   "source": [
    "size[\"S\"]"
   ]
  },
  {
   "cell_type": "code",
   "execution_count": 81,
   "metadata": {},
   "outputs": [
    {
     "data": {
      "text/plain": [
       "1200"
      ]
     },
     "execution_count": 81,
     "metadata": {},
     "output_type": "execute_result"
    }
   ],
   "source": [
    "size.get(\"S\")"
   ]
  },
  {
   "cell_type": "code",
   "execution_count": 82,
   "metadata": {},
   "outputs": [
    {
     "ename": "KeyError",
     "evalue": "'P'",
     "output_type": "error",
     "traceback": [
      "\u001b[0;31m---------------------------------------------------------------------------\u001b[0m",
      "\u001b[0;31mKeyError\u001b[0m                                  Traceback (most recent call last)",
      "\u001b[0;32m<ipython-input-82-dad5019ad0a4>\u001b[0m in \u001b[0;36m<module>\u001b[0;34m()\u001b[0m\n\u001b[0;32m----> 1\u001b[0;31m \u001b[0msize\u001b[0m\u001b[0;34m[\u001b[0m\u001b[0;34m\"P\"\u001b[0m\u001b[0;34m]\u001b[0m\u001b[0;34m\u001b[0m\u001b[0m\n\u001b[0m",
      "\u001b[0;31mKeyError\u001b[0m: 'P'"
     ]
    }
   ],
   "source": [
    "size[\"P\"]"
   ]
  },
  {
   "cell_type": "code",
   "execution_count": 3,
   "metadata": {},
   "outputs": [],
   "source": [
    "size.get(\"P\")"
   ]
  },
  {
   "cell_type": "code",
   "execution_count": 84,
   "metadata": {},
   "outputs": [
    {
     "name": "stdout",
     "output_type": "stream",
     "text": [
      "None\n"
     ]
    }
   ],
   "source": [
    "print(size.get(\"P\"))"
   ]
  },
  {
   "cell_type": "code",
   "execution_count": 85,
   "metadata": {},
   "outputs": [
    {
     "data": {
      "text/plain": [
       "{'blue': 6, 'green': 5, 'yellow': 3}"
      ]
     },
     "execution_count": 85,
     "metadata": {},
     "output_type": "execute_result"
    }
   ],
   "source": [
    "# dict() のキーワード引数を利用して作る ★\n",
    "color = dict(yellow=3, blue=6, green=5)\n",
    "color"
   ]
  },
  {
   "cell_type": "code",
   "execution_count": 86,
   "metadata": {},
   "outputs": [
    {
     "data": {
      "text/plain": [
       "{'black': 9, 'blue': 6, 'green': 5, 'yellow': 3}"
      ]
     },
     "execution_count": 86,
     "metadata": {},
     "output_type": "execute_result"
    }
   ],
   "source": [
    "# 追加する ★\n",
    "color[\"black\"] = 9\n",
    "color"
   ]
  },
  {
   "cell_type": "code",
   "execution_count": 87,
   "metadata": {},
   "outputs": [
    {
     "data": {
      "text/plain": [
       "dict_keys(['black', 'green', 'blue', 'yellow'])"
      ]
     },
     "execution_count": 87,
     "metadata": {},
     "output_type": "execute_result"
    }
   ],
   "source": [
    "# keyを取り出す ★\n",
    "color.keys()"
   ]
  },
  {
   "cell_type": "code",
   "execution_count": 88,
   "metadata": {},
   "outputs": [
    {
     "data": {
      "text/plain": [
       "['black', 'green', 'blue', 'yellow']"
      ]
     },
     "execution_count": 88,
     "metadata": {},
     "output_type": "execute_result"
    }
   ],
   "source": [
    "list(color.keys()) # リストに変換できる ★"
   ]
  },
  {
   "cell_type": "code",
   "execution_count": 89,
   "metadata": {},
   "outputs": [
    {
     "data": {
      "text/plain": [
       "dict_values([9, 5, 6, 3])"
      ]
     },
     "execution_count": 89,
     "metadata": {},
     "output_type": "execute_result"
    }
   ],
   "source": [
    "# valueを取り出す ★\n",
    "color.values()"
   ]
  },
  {
   "cell_type": "code",
   "execution_count": 90,
   "metadata": {},
   "outputs": [
    {
     "data": {
      "text/plain": [
       "dict_items([('black', 9), ('green', 5), ('blue', 6), ('yellow', 3)])"
      ]
     },
     "execution_count": 90,
     "metadata": {},
     "output_type": "execute_result"
    }
   ],
   "source": [
    "# key,valueを取り出す ★\n",
    "color.items()"
   ]
  },
  {
   "cell_type": "code",
   "execution_count": 91,
   "metadata": {},
   "outputs": [
    {
     "data": {
      "text/plain": [
       "{'black': 9, 'blue': 6, 'green': 5, 'yellow': 3}"
      ]
     },
     "execution_count": 91,
     "metadata": {},
     "output_type": "execute_result"
    }
   ],
   "source": [
    "color"
   ]
  },
  {
   "cell_type": "code",
   "execution_count": 92,
   "metadata": {},
   "outputs": [
    {
     "name": "stdout",
     "output_type": "stream",
     "text": [
      "black\n",
      "green\n",
      "blue\n",
      "yellow\n",
      "\n",
      "9\n",
      "5\n",
      "6\n",
      "3\n",
      "\n",
      "black 9\n",
      "green 5\n",
      "blue 6\n",
      "yellow 3\n"
     ]
    }
   ],
   "source": [
    "# for文で用いる ★\n",
    "for k in color: # デフォルトではkeyが取り出される\n",
    "    print(k)\n",
    "print()\n",
    "    \n",
    "for v in color.values():\n",
    "    print(v)\n",
    "print()\n",
    "    \n",
    "for k, v in color.items():\n",
    "    print(k, v)    "
   ]
  },
  {
   "cell_type": "markdown",
   "metadata": {},
   "source": [
    "### 5. クラスについて"
   ]
  },
  {
   "cell_type": "markdown",
   "metadata": {},
   "source": [
    "#### クラス ★★★"
   ]
  },
  {
   "cell_type": "code",
   "execution_count": 93,
   "metadata": {},
   "outputs": [
    {
     "data": {
      "text/plain": [
       "3"
      ]
     },
     "execution_count": 93,
     "metadata": {},
     "output_type": "execute_result"
    }
   ],
   "source": [
    "class MyClass: #クラスを定義\n",
    "\n",
    "    def plus(self, a, b): #メソッドを定義、第1引数にselfを指定\n",
    "        return a + b    \n",
    "    \n",
    "    def minus(self, a, b):\n",
    "        return a - b\n",
    "    \n",
    "cls = MyClass() # クラスをインスタンス化\n",
    "cls.plus(1, 2) # plusメソッドを使用"
   ]
  },
  {
   "cell_type": "code",
   "execution_count": 1,
   "metadata": {},
   "outputs": [
    {
     "name": "stdout",
     "output_type": "stream",
     "text": [
      "name: テスト\n",
      "age: 30\n"
     ]
    }
   ],
   "source": [
    "class Member:\n",
    "\n",
    "    def __init__(self, x, y): # コンストラクタ（インスタンス化時に自動的に呼ばれるメソッド。インスタンスを呼ぶごとに作動する。）\n",
    "        self.name = x # インスタンス変数に登録\n",
    "        self.age = y\n",
    "        \n",
    "    def dump(self): # メソッド\n",
    "        print(\"name: \" + self.name)\n",
    "        print(\"age: \" + str(self.age))\n",
    "        \n",
    "mbr = Member(\"テスト\" , 30) # クラスをインスタンス化\n",
    "mbr.dump()\n",
    "\n",
    "# selfはインスタンス自身のこと。クラスのメソッド内で自動的に第1引数に入ってくる\n",
    "# selfのないメソッド -> インスタンスに複製されない。実行には、クラスに直接問い合わせる必要がある。"
   ]
  },
  {
   "cell_type": "code",
   "execution_count": 2,
   "metadata": {},
   "outputs": [
    {
     "name": "stdout",
     "output_type": "stream",
     "text": [
      "name: テスト\n",
      "age: 30\n"
     ]
    }
   ],
   "source": [
    "Member(\"テスト\" , 30)"
   ]
  },
  {
   "cell_type": "code",
   "execution_count": 20,
   "metadata": {},
   "outputs": [
    {
     "name": "stdout",
     "output_type": "stream",
     "text": [
      "6\n"
     ]
    }
   ],
   "source": [
    "class Test:\n",
    "        def __init__(self, _x):\n",
    "                self.x = _x\n",
    "        x = 8\n",
    "        def ts(y):\n",
    "            print(y)\n",
    "\n",
    "a = Test(7)\n",
    "Test.ts(6)"
   ]
  },
  {
   "cell_type": "code",
   "execution_count": 56,
   "metadata": {},
   "outputs": [
    {
     "name": "stdout",
     "output_type": "stream",
     "text": [
      "名前はテストです。\n"
     ]
    }
   ],
   "source": [
    "class Name:\n",
    "\n",
    "    # クラス変数\n",
    "#     クラス変数を宣言するときはインスタンス変数と違い self は付けずにクラス内に宣言する。\n",
    "# https://uxmilk.jp/41600\n",
    "    PREFIX = \"名前は\"\n",
    "    SUFFIX = \"です。\"\n",
    "    \n",
    "    def show_name(self, name): # メソッド\n",
    "        print(self.PREFIX + name + self.SUFFIX)\n",
    "#         クラス変数を呼ぶ (アクセスする) ときは、self.をつける\n",
    "        #print(Name.PREFIX + name + Name.SUFFIX) # クラス変数はこのように呼び出すこともできる \n",
    "        \n",
    "name = Name() # クラスをインスタンス化\n",
    "name.show_name(\"テスト\")"
   ]
  },
  {
   "cell_type": "code",
   "execution_count": 7,
   "metadata": {},
   "outputs": [
    {
     "name": "stdout",
     "output_type": "stream",
     "text": [
      "/Users/murtomon/Analysis/AIJC/aijci05/session01\n",
      "Hello テスト\n"
     ]
    }
   ],
   "source": [
    "# クラスをインポートして利用する\n",
    "\n",
    "# binディレクトリに以下のクラスを記述したgreet.pyというファイルを置いておく\n",
    "\"\"\"\n",
    "class Greet:\n",
    "    def hello(self, name):\n",
    "        print(\"Hello \" + name)\n",
    "\"\"\"\n",
    "# カレントディレクトリのチェック\n",
    "import os\n",
    "print(os.getcwd())\n",
    "# もしも配下にbinディレクトリがなければ、os.chdir(path) で新たに指定する。\n",
    "\n",
    "import bin.greet as greet\n",
    "instance = greet.Greet()\n",
    "instance.hello(\"テスト\")"
   ]
  },
  {
   "cell_type": "code",
   "execution_count": 97,
   "metadata": {},
   "outputs": [
    {
     "name": "stdout",
     "output_type": "stream",
     "text": [
      "Hello テスト\n"
     ]
    }
   ],
   "source": [
    "# 直接クラスをインポートする\n",
    "from bin.greet import Greet\n",
    "instance = Greet()\n",
    "instance.hello(\"テスト\")"
   ]
  },
  {
   "cell_type": "code",
   "execution_count": 98,
   "metadata": {},
   "outputs": [
    {
     "data": {
      "text/plain": [
       "[3, 2, 4, 1, 5]"
      ]
     },
     "execution_count": 98,
     "metadata": {},
     "output_type": "execute_result"
    }
   ],
   "source": [
    "# ライブラリをインポートして利用する\n",
    "import random\n",
    "shuffle_list = [1,2,3,4,5]\n",
    "# randomというクラスにshuffleというメソッドが入っている\n",
    "random.shuffle(shuffle_list)\n",
    "shuffle_list"
   ]
  },
  {
   "cell_type": "code",
   "execution_count": 61,
   "metadata": {},
   "outputs": [],
   "source": [
    "import requests\n",
    "from bs4 import BeautifulSoup"
   ]
  },
  {
   "cell_type": "code",
   "execution_count": 62,
   "metadata": {},
   "outputs": [],
   "source": [
    "url = \"https://headlines.yahoo.co.jp/article?a=20181006-00239909-toyo-soci\"\n",
    "response = requests.get(url)\n",
    "response.encoding = response.apparent_encoding"
   ]
  },
  {
   "cell_type": "code",
   "execution_count": 70,
   "metadata": {},
   "outputs": [],
   "source": [
    "bs = BeautifulSoup(response.text, 'html.parser')\n",
    "bs_p = bs.find_all(\"p\", class_=\"ynDetailText yjDirectSLinkTarget\")\n"
   ]
  },
  {
   "cell_type": "code",
   "execution_count": 71,
   "metadata": {},
   "outputs": [
    {
     "name": "stdout",
     "output_type": "stream",
     "text": [
      "\n",
      "「なんだか眠れない……」「なんとなく胃の調子が悪い……」「なぜか胸が苦しい……」こういった不調は、自律神経乱れが原因かもしれません。自律神経の乱れは、長引くとうつ病をはじめとするさまざまな疾患を引き起こすおそれがあります。本稿では、『忙しいビジネスパーソンのための自律神経整え方BOOK』から抜粋し、自律神経を整える「考え方」の習慣を紹介します。\n",
      "\n",
      "■ストレスを感じたときは、脳を意識的に切り替える\n",
      "\n",
      "　自律神経失調の症状がある方の多くは、そもそもストレスを抱えていて、悩みが頭の中でグルグルと回っています。あなたも、ふと気がつくとストレスになっている仕事や人間関係などで頭がいっぱい――そんな経験はありませんか？　\n",
      "\n",
      "　どうせなら、楽しいこと、好きなこと、リラックスできることを思い浮かべる癖をつけましょう。ストレスになることが頭に思い浮かんできたら「よくないことを思い浮かべているな」と思い、楽しいこと、好きなこと、リラックスできることを頭に思い浮かべてください。\n",
      "\n",
      "　普段からでも、楽しいことや好きなこと、リラックスできることを思い浮かべていいのです。\n",
      "\n",
      "　こう言うと、皆さんはそんなにすぐに楽しいことなんて考えられないし、考えたって楽しくなんてならない、と思うかもしれませんが、このエクササイズは無理矢理考えても大丈夫です。\n",
      "\n",
      "　これにはしっかりとした理由があるのです。というのも、脳は見ているものを自分の実体験だと勘違いする性質があるからです。\n",
      "\n",
      "　自分の頭の中で、楽しい情景や、リラックスできることをなるべく鮮明に思い浮かべると、しだいに自分が今、実際にやっているのだと勘違いしてくれます。\n",
      "\n",
      "　楽しいこと、好きなこと、リラックスできることというのは、副交感神経を働かせてくれる状況なので、考え方を変えるだけで、体をリラックスする状況に切り替えることができるのです。\n",
      "\n",
      "　「認知の歪み」という言葉をご存じですか？　\n",
      "\n",
      "　これは、ストレスを溜めやすい方が陥りがちな考え方のパターンを表しているもので、アメリカの精神科医デビッド・D・バーンズ博士が提唱している新しい認知療法です。これをビジネスパーソンでストレスを溜めやすい方の考え方のパターンに当てはめると、2つに分けられます。\n",
      "\n",
      "　1つ目は、完璧主義の考え方で、100点を取らないと気が済まない、「～しなければならない、といった思考」がその典型です。\n"
     ]
    }
   ],
   "source": [
    "for tg in bs_p:\n",
    "    print(tg.text)"
   ]
  },
  {
   "cell_type": "code",
   "execution_count": 73,
   "metadata": {},
   "outputs": [
    {
     "name": "stdout",
     "output_type": "stream",
     "text": [
      "utf-8\n"
     ]
    }
   ],
   "source": [
    "print(response.encoding)"
   ]
  }
 ],
 "metadata": {
  "anaconda-cloud": {},
  "kernelspec": {
   "display_name": "Python 3",
   "language": "python",
   "name": "python3"
  },
  "language_info": {
   "codemirror_mode": {
    "name": "ipython",
    "version": 3
   },
   "file_extension": ".py",
   "mimetype": "text/x-python",
   "name": "python",
   "nbconvert_exporter": "python",
   "pygments_lexer": "ipython3",
   "version": "3.7.2"
  }
 },
 "nbformat": 4,
 "nbformat_minor": 1
}
