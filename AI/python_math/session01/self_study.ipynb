{
 "cells": [
  {
   "cell_type": "markdown",
   "metadata": {},
   "source": [
    "## 基礎"
   ]
  },
  {
   "cell_type": "markdown",
   "metadata": {},
   "source": [
    "### 1. データ型など"
   ]
  },
  {
   "cell_type": "markdown",
   "metadata": {},
   "source": [
    "Q1.1  \n",
    "★ 1 + 2 × 3 ÷ 2 - 1を計算せよ"
   ]
  },
  {
   "cell_type": "code",
   "execution_count": 1,
   "metadata": {},
   "outputs": [
    {
     "data": {
      "text/plain": [
       "4.0"
      ]
     },
     "execution_count": 1,
     "metadata": {},
     "output_type": "execute_result"
    }
   ],
   "source": [
    "1+2*3/2"
   ]
  },
  {
   "cell_type": "markdown",
   "metadata": {},
   "source": [
    "Q1.2  \n",
    "★ 以下の型を確認せよ  \n",
    "1  \n",
    "\"1\"  \n",
    "'1'  \n",
    "1.0  \n",
    "True"
   ]
  },
  {
   "cell_type": "code",
   "execution_count": 13,
   "metadata": {},
   "outputs": [
    {
     "name": "stdout",
     "output_type": "stream",
     "text": [
      "<class 'int'>\n",
      "<class 'str'>\n",
      "<class 'str'>\n",
      "<class 'float'>\n",
      "<class 'bool'>\n"
     ]
    }
   ],
   "source": [
    "print(type(1) )\n",
    "print(type(\"1\") )\n",
    "print(type('1'))\n",
    "print(type(1.0))\n",
    "print(type(True))"
   ]
  },
  {
   "cell_type": "markdown",
   "metadata": {},
   "source": [
    "Q1.3 (推奨)  \n",
    "★ 整数に変換して計算せよ  \n",
    "\"1\"  + 2 + '3'"
   ]
  },
  {
   "cell_type": "code",
   "execution_count": 2,
   "metadata": {},
   "outputs": [
    {
     "data": {
      "text/plain": [
       "6"
      ]
     },
     "execution_count": 2,
     "metadata": {},
     "output_type": "execute_result"
    }
   ],
   "source": [
    "int(\"1\") + 2 + int('3')"
   ]
  },
  {
   "cell_type": "markdown",
   "metadata": {},
   "source": [
    "Q1.4  \n",
    "★ aとbが等しい値か判定する式を書け  \n",
    "a = 10  \n",
    "b = 5 * 5 / 5 + 5"
   ]
  },
  {
   "cell_type": "code",
   "execution_count": 12,
   "metadata": {},
   "outputs": [
    {
     "data": {
      "text/plain": [
       "True"
      ]
     },
     "execution_count": 12,
     "metadata": {},
     "output_type": "execute_result"
    }
   ],
   "source": [
    "a = 10 \n",
    "b = 5 * 5 / 5 + 5 \n",
    "\n",
    "a == b"
   ]
  },
  {
   "cell_type": "markdown",
   "metadata": {},
   "source": [
    "### 2. 関数と名前空間"
   ]
  },
  {
   "cell_type": "markdown",
   "metadata": {},
   "source": [
    "Q2.1   \n",
    "★ 実行すると\"hello!\"と表示される関数を作れ"
   ]
  },
  {
   "cell_type": "code",
   "execution_count": 3,
   "metadata": {},
   "outputs": [
    {
     "name": "stdout",
     "output_type": "stream",
     "text": [
      "hello!\n"
     ]
    }
   ],
   "source": [
    "def func():\n",
    "    print(\"hello!\")\n",
    "    \n",
    "func()"
   ]
  },
  {
   "cell_type": "markdown",
   "metadata": {},
   "source": [
    "Q2.2 (推奨)  \n",
    "★ ２つの引数を取り合計を返す関数を作れ"
   ]
  },
  {
   "cell_type": "code",
   "execution_count": 15,
   "metadata": {},
   "outputs": [
    {
     "name": "stdout",
     "output_type": "stream",
     "text": [
      "2\n"
     ]
    }
   ],
   "source": [
    "def add(x, y):\n",
    "    return(x+y)\n",
    "\n",
    "print(add(1, 1))\n"
   ]
  },
  {
   "cell_type": "markdown",
   "metadata": {},
   "source": [
    "Q2.3 (推奨)  \n",
    "★ 整数を引数に取り、100以上の場合はTrueを、それ以外の場合はFalseを返す関数を作れ"
   ]
  },
  {
   "cell_type": "code",
   "execution_count": 5,
   "metadata": {},
   "outputs": [
    {
     "data": {
      "text/plain": [
       "False"
      ]
     },
     "execution_count": 5,
     "metadata": {},
     "output_type": "execute_result"
    }
   ],
   "source": [
    "def func(x):\n",
    "    if x == 100:\n",
    "        return True\n",
    "    return False\n",
    "\n",
    "func(10)"
   ]
  },
  {
   "cell_type": "markdown",
   "metadata": {},
   "source": [
    "Q2.4  \n",
    "★ 引数をprintする関数を作れ。もし引数がない場合は、「引数がないです」と表示せよ"
   ]
  },
  {
   "cell_type": "code",
   "execution_count": 10,
   "metadata": {},
   "outputs": [
    {
     "name": "stdout",
     "output_type": "stream",
     "text": [
      "引数はテスト\n",
      "引数は引数がないです\n"
     ]
    }
   ],
   "source": [
    "def func(x=\"引数がないです\"):\n",
    "    \"\"\"\n",
    "    キーワード引数\n",
    "    \"\"\"\n",
    "    print(\"引数は\" + x)\n",
    "\n",
    "func(\"テスト\")\n",
    "func()\n",
    "        "
   ]
  },
  {
   "cell_type": "markdown",
   "metadata": {},
   "source": [
    "Q2.5  \n",
    "★★ 文字列または整数を引数に取り、文字列の場合は文字列の長さを、整数の場合は桁数を返す関数を作れ"
   ]
  },
  {
   "cell_type": "code",
   "execution_count": 13,
   "metadata": {},
   "outputs": [
    {
     "data": {
      "text/plain": [
       "4"
      ]
     },
     "execution_count": 13,
     "metadata": {},
     "output_type": "execute_result"
    }
   ],
   "source": [
    "def func(arg):\n",
    "    return len(str(arg))\n",
    "\n",
    "func(1234)"
   ]
  },
  {
   "cell_type": "markdown",
   "metadata": {},
   "source": [
    "Q2.6   \n",
    "★ ２つの引数を取り合計を返す関数をlambda式を用いて作れ"
   ]
  },
  {
   "cell_type": "code",
   "execution_count": 22,
   "metadata": {},
   "outputs": [
    {
     "data": {
      "text/plain": [
       "4"
      ]
     },
     "execution_count": 22,
     "metadata": {},
     "output_type": "execute_result"
    }
   ],
   "source": [
    "func = lambda x, y: x+y\n",
    "\n",
    "func(1,2)\n",
    "\n",
    "(lambda x,y: x+y)(1,3)"
   ]
  },
  {
   "cell_type": "markdown",
   "metadata": {},
   "source": [
    "Q2.7  \n",
    "★ xが100以上の場合に100と、それ以下の場合はxの値を出力するコードを書け"
   ]
  },
  {
   "cell_type": "code",
   "execution_count": 26,
   "metadata": {},
   "outputs": [
    {
     "name": "stdout",
     "output_type": "stream",
     "text": [
      "90\n"
     ]
    }
   ],
   "source": [
    "x =90\n",
    "\n",
    "if x >= 100:\n",
    "    print(100)\n",
    "else:\n",
    "    print(x)\n"
   ]
  },
  {
   "cell_type": "markdown",
   "metadata": {},
   "source": [
    "Q2.8  \n",
    "★★ f(0) = 0, f(1) = 1, f(n) = f(n-1) + f(n-2), n>=2 を満たす数列をフィボナッチ数列と言う。引数としてnを取り、フィボナッチ数列のn番目を返す関数を作れ  \n",
    "ヒント  \n",
    "f(2) = 1 + 0 = 1  \n",
    "f(3) = 1 + 1 = 2  \n",
    "f(4) = 2 + 1 = 3  \n",
    "f(5) = 3 + 2 = 5"
   ]
  },
  {
   "cell_type": "code",
   "execution_count": null,
   "metadata": {
    "collapsed": true
   },
   "outputs": [],
   "source": []
  },
  {
   "cell_type": "markdown",
   "metadata": {},
   "source": [
    "Q2.9  \n",
    "★xを引数として受け取り、xが100以上の場合にAと、xが80以上の場合はBと、それ以下の場合はCと出力する関数を作れ"
   ]
  },
  {
   "cell_type": "code",
   "execution_count": 28,
   "metadata": {},
   "outputs": [
    {
     "name": "stdout",
     "output_type": "stream",
     "text": [
      "A\n"
     ]
    }
   ],
   "source": [
    "x = 100\n",
    "\n",
    "if x >= 100:\n",
    "    print(\"A\")\n",
    "elif x >=80:\n",
    "    print(\"B\")\n",
    "else:\n",
    "    print(\"C\")\n",
    "    "
   ]
  },
  {
   "cell_type": "markdown",
   "metadata": {},
   "source": [
    "### 3. 分岐・繰り返し処理"
   ]
  },
  {
   "cell_type": "markdown",
   "metadata": {},
   "source": [
    "Q3.1  \n",
    "★0から4まで表示するfor文を書け"
   ]
  },
  {
   "cell_type": "code",
   "execution_count": 30,
   "metadata": {},
   "outputs": [
    {
     "name": "stdout",
     "output_type": "stream",
     "text": [
      "0\n",
      "1\n",
      "2\n",
      "3\n",
      "4\n"
     ]
    }
   ],
   "source": [
    "for n in range(5):\n",
    "    print(n)\n",
    "    "
   ]
  },
  {
   "cell_type": "markdown",
   "metadata": {},
   "source": [
    "Q3.2  \n",
    "★1から5まで表示するfor文を書け"
   ]
  },
  {
   "cell_type": "code",
   "execution_count": null,
   "metadata": {
    "collapsed": true
   },
   "outputs": [],
   "source": []
  },
  {
   "cell_type": "markdown",
   "metadata": {},
   "source": [
    "Q3.3  \n",
    "★ 0から4まで表示するfor文を書け。ただし、2の時は表示しないようにせよ"
   ]
  },
  {
   "cell_type": "code",
   "execution_count": 37,
   "metadata": {},
   "outputs": [
    {
     "name": "stdout",
     "output_type": "stream",
     "text": [
      "0\n",
      "1\n",
      "3\n",
      "4\n"
     ]
    }
   ],
   "source": [
    "for n in range(5):\n",
    "    if n == 2:\n",
    "        continue\n",
    "    else:\n",
    "        print(n)\n"
   ]
  },
  {
   "cell_type": "markdown",
   "metadata": {},
   "source": [
    "### 4. 複数データの扱い"
   ]
  },
  {
   "cell_type": "markdown",
   "metadata": {},
   "source": [
    "Q4.1  \n",
    "★　0から4までのリストを作成せよ"
   ]
  },
  {
   "cell_type": "code",
   "execution_count": 38,
   "metadata": {},
   "outputs": [
    {
     "data": {
      "text/plain": [
       "[0, 1, 2, 3, 4]"
      ]
     },
     "execution_count": 38,
     "metadata": {},
     "output_type": "execute_result"
    }
   ],
   "source": [
    "list = [0, 1, 2, 3, 4]\n",
    "list"
   ]
  },
  {
   "cell_type": "markdown",
   "metadata": {},
   "source": [
    "Q4.2  \n",
    "★　0から4までのリストを作成し、1番目（インデックス0）の要素を切り出せ"
   ]
  },
  {
   "cell_type": "code",
   "execution_count": 39,
   "metadata": {},
   "outputs": [
    {
     "data": {
      "text/plain": [
       "0"
      ]
     },
     "execution_count": 39,
     "metadata": {},
     "output_type": "execute_result"
    }
   ],
   "source": [
    "list = [0, 1, 2, 3, 4]\n",
    "list[0]"
   ]
  },
  {
   "cell_type": "markdown",
   "metadata": {},
   "source": [
    "Q4.3 (推奨)  \n",
    "★　0から4までのリストを作成し、2番目と3番目の要素を切り出せ"
   ]
  },
  {
   "cell_type": "code",
   "execution_count": 47,
   "metadata": {},
   "outputs": [
    {
     "ename": "TypeError",
     "evalue": "list indices must be integers or slices, not tuple",
     "output_type": "error",
     "traceback": [
      "\u001b[0;31m---------------------------------------------------------------------------\u001b[0m",
      "\u001b[0;31mTypeError\u001b[0m                                 Traceback (most recent call last)",
      "\u001b[0;32m<ipython-input-47-b732ecbc97ca>\u001b[0m in \u001b[0;36m<module>\u001b[0;34m\u001b[0m\n\u001b[1;32m      1\u001b[0m \u001b[0mlist\u001b[0m \u001b[0;34m=\u001b[0m \u001b[0;34m[\u001b[0m\u001b[0;36m0\u001b[0m\u001b[0;34m,\u001b[0m \u001b[0;36m1\u001b[0m\u001b[0;34m,\u001b[0m \u001b[0;36m2\u001b[0m\u001b[0;34m,\u001b[0m \u001b[0;36m3\u001b[0m\u001b[0;34m,\u001b[0m \u001b[0;36m4\u001b[0m\u001b[0;34m]\u001b[0m\u001b[0;34m\u001b[0m\u001b[0;34m\u001b[0m\u001b[0m\n\u001b[0;32m----> 2\u001b[0;31m \u001b[0mlist\u001b[0m\u001b[0;34m[\u001b[0m\u001b[0;36m2\u001b[0m\u001b[0;34m,\u001b[0m \u001b[0;36m3\u001b[0m\u001b[0;34m]\u001b[0m\u001b[0;34m\u001b[0m\u001b[0;34m\u001b[0m\u001b[0m\n\u001b[0m",
      "\u001b[0;31mTypeError\u001b[0m: list indices must be integers or slices, not tuple"
     ]
    }
   ],
   "source": [
    "list = [0, 1, 2, 3, 4]\n",
    "list[2, 3]"
   ]
  },
  {
   "cell_type": "markdown",
   "metadata": {},
   "source": [
    "Q4.4  \n",
    "★　0から4までのリストを作成し、その後、最後に5を追加せよ"
   ]
  },
  {
   "cell_type": "code",
   "execution_count": 45,
   "metadata": {},
   "outputs": [
    {
     "ename": "IndexError",
     "evalue": "list assignment index out of range",
     "output_type": "error",
     "traceback": [
      "\u001b[0;31m---------------------------------------------------------------------------\u001b[0m",
      "\u001b[0;31mIndexError\u001b[0m                                Traceback (most recent call last)",
      "\u001b[0;32m<ipython-input-45-d20b30a37d15>\u001b[0m in \u001b[0;36m<module>\u001b[0;34m\u001b[0m\n\u001b[1;32m      1\u001b[0m \u001b[0mlist\u001b[0m \u001b[0;34m=\u001b[0m \u001b[0;34m[\u001b[0m\u001b[0;36m0\u001b[0m\u001b[0;34m,\u001b[0m \u001b[0;36m1\u001b[0m\u001b[0;34m,\u001b[0m \u001b[0;36m2\u001b[0m\u001b[0;34m,\u001b[0m \u001b[0;36m3\u001b[0m\u001b[0;34m,\u001b[0m \u001b[0;36m4\u001b[0m\u001b[0;34m]\u001b[0m\u001b[0;34m\u001b[0m\u001b[0;34m\u001b[0m\u001b[0m\n\u001b[0;32m----> 2\u001b[0;31m \u001b[0mlist\u001b[0m\u001b[0;34m[\u001b[0m\u001b[0;36m6\u001b[0m\u001b[0;34m]\u001b[0m\u001b[0;34m=\u001b[0m\u001b[0;36m5\u001b[0m\u001b[0;34m\u001b[0m\u001b[0;34m\u001b[0m\u001b[0m\n\u001b[0m\u001b[1;32m      3\u001b[0m \u001b[0mlist\u001b[0m\u001b[0;34m\u001b[0m\u001b[0;34m\u001b[0m\u001b[0m\n",
      "\u001b[0;31mIndexError\u001b[0m: list assignment index out of range"
     ]
    }
   ],
   "source": [
    "list = [0, 1, 2, 3, 4]\n",
    "list[6]=5\n",
    "list"
   ]
  },
  {
   "cell_type": "markdown",
   "metadata": {},
   "source": [
    "Q4.5 (推奨)  \n",
    "★　0から4までのリストを作成し、後ろから２つの要素を切り出せ"
   ]
  },
  {
   "cell_type": "code",
   "execution_count": null,
   "metadata": {
    "collapsed": true
   },
   "outputs": [],
   "source": []
  },
  {
   "cell_type": "markdown",
   "metadata": {},
   "source": [
    "Q4.6 (推奨)  \n",
    "★　0から4までのリストを作成し、リストの要素数を表示せよ"
   ]
  },
  {
   "cell_type": "code",
   "execution_count": null,
   "metadata": {
    "collapsed": true
   },
   "outputs": [],
   "source": []
  },
  {
   "cell_type": "markdown",
   "metadata": {},
   "source": [
    "Q4.7  \n",
    "★　0から4までのリストを作成し、2が含まれるか確認せよ"
   ]
  },
  {
   "cell_type": "code",
   "execution_count": null,
   "metadata": {
    "collapsed": true
   },
   "outputs": [],
   "source": []
  },
  {
   "cell_type": "markdown",
   "metadata": {},
   "source": [
    "Q4.8  \n",
    "★　1から100までの合計を求めよ"
   ]
  },
  {
   "cell_type": "code",
   "execution_count": null,
   "metadata": {
    "collapsed": true
   },
   "outputs": [],
   "source": []
  },
  {
   "cell_type": "markdown",
   "metadata": {},
   "source": [
    "Q4.9    \n",
    "★ リスト[1,3,2,4,5]を昇順に並べ替えよ"
   ]
  },
  {
   "cell_type": "code",
   "execution_count": null,
   "metadata": {
    "collapsed": true
   },
   "outputs": [],
   "source": []
  },
  {
   "cell_type": "markdown",
   "metadata": {},
   "source": [
    "Q4.10 (推奨)  \n",
    "★ リスト[1,3,2,4,5]を降順に並べ替えよ"
   ]
  },
  {
   "cell_type": "code",
   "execution_count": null,
   "metadata": {
    "collapsed": true
   },
   "outputs": [],
   "source": []
  },
  {
   "cell_type": "markdown",
   "metadata": {},
   "source": [
    "Q4.11  \n",
    "★　enumerateを使ったfor文を作れ"
   ]
  },
  {
   "cell_type": "code",
   "execution_count": null,
   "metadata": {
    "collapsed": true
   },
   "outputs": [],
   "source": []
  },
  {
   "cell_type": "markdown",
   "metadata": {},
   "source": [
    "Q4.12  \n",
    "★　zipを使ったfor文を作れ"
   ]
  },
  {
   "cell_type": "code",
   "execution_count": null,
   "metadata": {
    "collapsed": true
   },
   "outputs": [],
   "source": []
  },
  {
   "cell_type": "markdown",
   "metadata": {},
   "source": [
    "Q4.13  \n",
    "★★★　リストを引数に与えると昇順に並び替える自作関数を実装せよ（組み込み関数のsortは用いてはならない）"
   ]
  },
  {
   "cell_type": "code",
   "execution_count": null,
   "metadata": {},
   "outputs": [],
   "source": []
  },
  {
   "cell_type": "markdown",
   "metadata": {},
   "source": [
    "Q4.14  \n",
    "★　リストを与えると、全ての要素を3倍して返す関数を作れ（ただし、リスト内包表記を用いないこと）  \n",
    "例:[1,2,3]→[3,6,9]"
   ]
  },
  {
   "cell_type": "code",
   "execution_count": null,
   "metadata": {
    "collapsed": true
   },
   "outputs": [],
   "source": []
  },
  {
   "cell_type": "markdown",
   "metadata": {},
   "source": [
    "Q4.15  \n",
    "★　リストを与えると、全ての要素を3倍して返す関数を作れ（ただし、リスト内包表記を用いること） "
   ]
  },
  {
   "cell_type": "code",
   "execution_count": null,
   "metadata": {
    "collapsed": true
   },
   "outputs": [],
   "source": []
  },
  {
   "cell_type": "markdown",
   "metadata": {},
   "source": [
    "Q4.16  \n",
    "★　整数と整数の文字列の混じる要素のリストを与えると、全ての要素を整数にして返す関数を作れ（ただし、リスト内包表記を用いないこと）  \n",
    "例:[1,\"2\",3]→[1,2,3]"
   ]
  },
  {
   "cell_type": "code",
   "execution_count": null,
   "metadata": {
    "collapsed": true
   },
   "outputs": [],
   "source": []
  },
  {
   "cell_type": "markdown",
   "metadata": {},
   "source": [
    "Q4.17  \n",
    "★　整数と整数の文字列の混じる要素のリストを与えると、全ての要素を整数にして返す関数を作れ（ただし、リスト内包表記を用いること）  "
   ]
  },
  {
   "cell_type": "code",
   "execution_count": null,
   "metadata": {
    "collapsed": true
   },
   "outputs": [],
   "source": []
  },
  {
   "cell_type": "markdown",
   "metadata": {},
   "source": [
    "Q4.18 (推奨)  \n",
    "★　整数と整数の文字列の混じる要素のリストを与えると、文字列を取り除いたリストを返す関数を作れ（ただし、リスト内包表記を用いないこと）   \n",
    "例:[1,\"2\",3]→[1,3]  \n",
    "ヒント:文字列の判別はisinstance(\"a\", str)でできる"
   ]
  },
  {
   "cell_type": "code",
   "execution_count": null,
   "metadata": {
    "collapsed": true
   },
   "outputs": [],
   "source": []
  },
  {
   "cell_type": "markdown",
   "metadata": {},
   "source": [
    "Q4.19 (推奨)    \n",
    "★　整数と整数の文字列の混じる要素のリストを与えると、文字列を取り除いたリストを返す関数を作れ（ただし、リスト内包表記を用いること）  "
   ]
  },
  {
   "cell_type": "code",
   "execution_count": null,
   "metadata": {
    "collapsed": true
   },
   "outputs": [],
   "source": []
  },
  {
   "cell_type": "markdown",
   "metadata": {},
   "source": [
    "Q5.1  \n",
    "★ リストを与えるとタプルに変換して返す関数を作れ"
   ]
  },
  {
   "cell_type": "code",
   "execution_count": null,
   "metadata": {
    "collapsed": true
   },
   "outputs": [],
   "source": []
  },
  {
   "cell_type": "markdown",
   "metadata": {},
   "source": [
    "Q5.2  \n",
    "★　リスト[1,2,3]とリスト[3,4,5]の重複する要素をセットを用いて出力せよ"
   ]
  },
  {
   "cell_type": "code",
   "execution_count": null,
   "metadata": {
    "collapsed": true
   },
   "outputs": [],
   "source": []
  },
  {
   "cell_type": "markdown",
   "metadata": {},
   "source": [
    "Q5.3   \n",
    "★★ リストを与えると重複要素を削除して返す関数を作れ。なお、出力するリストは昇順に並び替えるものとする"
   ]
  },
  {
   "cell_type": "code",
   "execution_count": null,
   "metadata": {
    "collapsed": true
   },
   "outputs": [],
   "source": []
  },
  {
   "cell_type": "markdown",
   "metadata": {},
   "source": [
    "Q5.4  \n",
    "★ A:1, B:2, C:3のディクトを作れ"
   ]
  },
  {
   "cell_type": "code",
   "execution_count": null,
   "metadata": {
    "collapsed": true
   },
   "outputs": [],
   "source": []
  },
  {
   "cell_type": "markdown",
   "metadata": {},
   "source": [
    "Q5.5  \n",
    "★ A:1, B:2, C:3のディクトを作り、Bのvalueを取得せよ"
   ]
  },
  {
   "cell_type": "code",
   "execution_count": null,
   "metadata": {
    "collapsed": true
   },
   "outputs": [],
   "source": []
  },
  {
   "cell_type": "markdown",
   "metadata": {},
   "source": [
    "Q5.6  \n",
    "★ A:1, B:2, C:3のディクトを作り、Cのvalueを10倍せよ"
   ]
  },
  {
   "cell_type": "code",
   "execution_count": null,
   "metadata": {
    "collapsed": true
   },
   "outputs": [],
   "source": []
  },
  {
   "cell_type": "markdown",
   "metadata": {},
   "source": [
    "Q5.7  \n",
    "★ A:1, B:2, C:3のディクトに対して、keyを引数で受け取り、valueが存在すればvalueを返し、存在しない場合は「存在しません」と表示する関数を作れ"
   ]
  },
  {
   "cell_type": "code",
   "execution_count": null,
   "metadata": {
    "collapsed": true
   },
   "outputs": [],
   "source": []
  },
  {
   "cell_type": "markdown",
   "metadata": {},
   "source": [
    "Q5.8 (推奨)  \n",
    "★★ リスト[1,2,3]の要素をkeyとし、値は各要素の２倍のdictを作れ"
   ]
  },
  {
   "cell_type": "code",
   "execution_count": null,
   "metadata": {
    "collapsed": true
   },
   "outputs": [],
   "source": []
  },
  {
   "cell_type": "markdown",
   "metadata": {},
   "source": [
    "Q5.9  \n",
    "★ A:1, B:2, C:3のディクトを作り、for文でkeyを全てprintせよ"
   ]
  },
  {
   "cell_type": "code",
   "execution_count": null,
   "metadata": {
    "collapsed": true
   },
   "outputs": [],
   "source": []
  },
  {
   "cell_type": "markdown",
   "metadata": {},
   "source": [
    "Q5.10  \n",
    "★ A:1, B:2, C:3のディクトを作り、for文でvalueを全てprintせよ"
   ]
  },
  {
   "cell_type": "code",
   "execution_count": null,
   "metadata": {
    "collapsed": true
   },
   "outputs": [],
   "source": []
  },
  {
   "cell_type": "markdown",
   "metadata": {},
   "source": [
    "Q5.11 (推奨)  \n",
    "★ A:1, B:2, C:3のディクトを作り、for文でkey,valueを全てprintせよ"
   ]
  },
  {
   "cell_type": "code",
   "execution_count": null,
   "metadata": {
    "collapsed": true
   },
   "outputs": [],
   "source": []
  },
  {
   "cell_type": "markdown",
   "metadata": {},
   "source": [
    "### 5. クラスについて"
   ]
  },
  {
   "cell_type": "markdown",
   "metadata": {},
   "source": [
    "Q6.1 (推奨)  \n",
    "★名字と名前を保持するNameという名前のクラスを作り、インスタンスを作成して各メソッドを実行せよ   \n",
    "・インスタンス変数にlast_nameとfirst_nameを持ち、コンストラクタで受け取る  \n",
    "・インスタンスメソッドでlast_nameを表示できるshow_last_nameという名前のメソッドを持つ  \n",
    "・インスタンスメソッドでfirst_nameを表示できるshow_last_nameという名前のメソッドを持つ  \n",
    "・インスタンスメソッドでlast_nameとfirst_nameを結合して表示できるshow_nameという名前のメソッドを持つ"
   ]
  },
  {
   "cell_type": "code",
   "execution_count": null,
   "metadata": {
    "collapsed": true
   },
   "outputs": [],
   "source": []
  },
  {
   "cell_type": "markdown",
   "metadata": {},
   "source": [
    "Q6.2  \n",
    "★Calcという名前のクラスを作り、インスタンスを作成して各メソッドを実行せよ  \n",
    "・インスタンスメソッドで2つの引数を受け取り、合計して表示するplusと言う名前のメソッドを持つ  \n",
    "・インスタンスメソッドでリストの引数を受け取り、要素を合計して表示するtotalと言う名前のメソッドを持つ\n"
   ]
  },
  {
   "cell_type": "code",
   "execution_count": null,
   "metadata": {
    "collapsed": true
   },
   "outputs": [],
   "source": []
  },
  {
   "cell_type": "markdown",
   "metadata": {},
   "source": [
    "Q6.3  \n",
    "★★ まとめ問題  \n",
    "以下の設計図を元に計算機クラスを実装せよ  \n",
    "\n",
    "クラス名 Calculator  \n",
    "\n",
    "クラス変数 OPERATORS  \n",
    "リスト[\"+\", \"-\", \"\\*\", \"/\"]を登録しておく\n",
    "\n",
    "コンストラクタ  \n",
    "・数字の引数があればインスタンス変数current_numに保存する  \n",
    "・数字以外を受け取った場合、\"エラー：引数は数字に限られます。0を保存しました。\"と表示してcurrent_numに0をセットする  \n",
    "・引数がない場合、current_numに0を保存する  \n",
    "・インスタンス変数has_operatorにFalseを保存する\n",
    "\n",
    "メソッド名 key  \n",
    "＜has_operatorがFalseの場合＞  \n",
    "・\"+\", \"-\", \"\\*\", \"/\"のどれかの文字列を受け取り、それ以外の値を受け取った場合、\"+,-,\\*,/を入力してください。\"と表示する  \n",
    "・\"+\", \"-\", \"\\*\", \"/\"のどれかの文字列を受け取った場合、インスタンス変数operatorに当該文字列を保存し、has_operatorをTrueにする  \n",
    "＜has_operatorがTrueの場合＞  \n",
    "・数字を受け取り、それ以外の値を受け取った場合、\"数字を入力してください。\"と表示する  \n",
    "・数字を受け取った場合、current_numと当該数字を登録されているoperatorで計算してcurrent_numに保存する。また、has_operatorをFalseにする  \n",
    "例：current_num=\"3\", operator=\"+\", 引数=5 → current_num=8\n",
    "\n",
    "メソッド名 result  \n",
    "current_numを出力する  \n",
    "\n",
    "メソッド名  clear  \n",
    "current_numを0にし、has_operatorをFalseにする  \n",
    "\n",
    "ヒント  \n",
    "引数が数字か否か判定する: isinstance(num, (int, float))"
   ]
  },
  {
   "cell_type": "code",
   "execution_count": null,
   "metadata": {
    "collapsed": true
   },
   "outputs": [],
   "source": []
  },
  {
   "cell_type": "markdown",
   "metadata": {},
   "source": [
    "Q6.4  \n",
    "★★★ 以下のRateDataManagerクラスはget_lastest_idメソッドがfor文ごとに呼び出され、無駄にreadが発生している。get_lastest_idをfor文の外に出して1度しか呼ばれないように改修せよ  "
   ]
  },
  {
   "cell_type": "code",
   "execution_count": 53,
   "metadata": {
    "collapsed": true
   },
   "outputs": [],
   "source": [
    "# 問題\n",
    "import os\n",
    "import requests\n",
    "import json\n",
    "\n",
    "class RateDataManager:\n",
    "    \"\"\"\n",
    "    APIでビットコインのレートを取得し、csvに保存する\n",
    "    https://coincheck.com/ja/documents/exchange/api\n",
    "    \"\"\"\n",
    "    \n",
    "    REQ_URL = \"https://coincheck.com/api/trades?pair=btc_jpy\"\n",
    "    DATA_DIR = \"./data\"\n",
    "    COLUMNS = \"pair,rate,amount,created_at,id,order_type\"\n",
    "    \n",
    "    def __init__(self):\n",
    "        self.initialize_data_dir()\n",
    "        self.update_rate_list()\n",
    "\n",
    "\n",
    "    def initialize_data_dir(self):\n",
    "        if not os.path.exists(self.DATA_DIR):\n",
    "            os.makedirs(self.DATA_DIR)\n",
    "            print(\"make dir: {}\".format(self.DATA_DIR))\n",
    "    \n",
    "    \n",
    "    def initialize_data_file(self, target_file):\n",
    "#         既存のファイルを上書きしないようにする。 (存在しなかったら、書き込み用のファイルを生成する)\n",
    "        if not os.path.exists(\"{}/{}\".format(self.DATA_DIR, target_file)):\n",
    "                with open(\"{}/{}\".format(self.DATA_DIR, target_file), mode=\"w\") as f:\n",
    "#                 まずヘッダーを書き込む\n",
    "                    f.write(self.COLUMNS + \"\\n\")\n",
    "                print(\"make file: {}/{}\".format(self.DATA_DIR, target_file))\n",
    "    \n",
    "    \n",
    "    def update_rate_list(self):    \n",
    "        self.current_rate_list =  json.loads(requests.get(self.REQ_URL).text)[\"data\"]    \n",
    "        \n",
    "    \n",
    "    def get_output_dict(self):\n",
    "        output_dict = {}\n",
    "        for rate in reversed(self.current_rate_list):\n",
    "            rate[\"created_at\"] = rate[\"created_at\"].replace(\"T\",\" \")[:19]\n",
    "            target_file = \"{}_{}.csv\".format(rate[\"pair\"],rate[\"created_at\"][:10])\n",
    "            if not output_dict.get(target_file):\n",
    "                output_dict[target_file] = []\n",
    "            output_dict[target_file].append(rate)\n",
    "        return output_dict\n",
    "    \n",
    "    \n",
    "    def get_lastest_id(self, target_file):        \n",
    "        with open(\"{}/{}\".format(self.DATA_DIR, target_file), mode=\"r\") as f:    \n",
    "            for row in f:\n",
    "                if row == \"\":\n",
    "                    break\n",
    "                last_row = row\n",
    "            latest_id = last_row.split(\",\")[4]\n",
    "            if latest_id == \"id\":\n",
    "                latest_id = 0\n",
    "            else: \n",
    "                latest_id = int(latest_id)        \n",
    "        return latest_id\n",
    "    \n",
    "\n",
    "    def run(self, update=True): \n",
    "        \n",
    "        if update:\n",
    "            self.update_rate_list()\n",
    "#         ここの target_file と rate_list はダミー変数\n",
    "        for target_file, rate_list in  self.get_output_dict().items():\n",
    "            \n",
    "            self.initialize_data_file(target_file)\n",
    "            \n",
    "            text = \"\"\n",
    "            for rate in rate_list:\n",
    "                if int(rate[\"id\"]) > self.get_lastest_id(target_file):  # 無駄にreadしている\n",
    "                    text += \",\".join([str(x) for x in rate.values()]) + \"\\n\"\n",
    "            \n",
    "            if text != \"\":\n",
    "                with open(\"{}/{}\".format(self.DATA_DIR, target_file), mode=\"a\") as f:\n",
    "                    f.write(text)\n",
    "                print(\"write text:\\n\" + text)\n"
   ]
  },
  {
   "cell_type": "code",
   "execution_count": null,
   "metadata": {
    "collapsed": true
   },
   "outputs": [],
   "source": []
  }
 ],
 "metadata": {
  "anaconda-cloud": {},
  "kernelspec": {
   "display_name": "Python 3",
   "language": "python",
   "name": "python3"
  },
  "language_info": {
   "codemirror_mode": {
    "name": "ipython",
    "version": 3
   },
   "file_extension": ".py",
   "mimetype": "text/x-python",
   "name": "python",
   "nbconvert_exporter": "python",
   "pygments_lexer": "ipython3",
   "version": "3.7.2"
  }
 },
 "nbformat": 4,
 "nbformat_minor": 1
}
