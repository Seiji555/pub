{
 "cells": [
  {
   "cell_type": "markdown",
   "metadata": {},
   "source": [
    "## まとめ\n",
    "\n",
    "機械学習を行うまでのデータの取得、前処理、可視化、加工までを行います。"
   ]
  },
  {
   "cell_type": "markdown",
   "metadata": {},
   "source": [
    "Q.1.1  \n",
    "★　./data/stock_8308.tsvを読み込め。"
   ]
  },
  {
   "cell_type": "code",
   "execution_count": null,
   "metadata": {
    "collapsed": true
   },
   "outputs": [],
   "source": []
  },
  {
   "cell_type": "markdown",
   "metadata": {},
   "source": [
    "Q.2.1    \n",
    "★session=0とsession=1に絞った別のデータフレームをそれぞれ作成せよ。  "
   ]
  },
  {
   "cell_type": "code",
   "execution_count": null,
   "metadata": {
    "collapsed": true
   },
   "outputs": [],
   "source": []
  },
  {
   "cell_type": "markdown",
   "metadata": {},
   "source": [
    "Q.2.2    \n",
    "★　Q2.1で作ったそれぞれのデータフレームの列名を被らないように変更せよ。（ただし、結合キーとしてdate列の名前は変更しない。）"
   ]
  },
  {
   "cell_type": "code",
   "execution_count": null,
   "metadata": {
    "collapsed": true
   },
   "outputs": [],
   "source": []
  },
  {
   "cell_type": "markdown",
   "metadata": {},
   "source": [
    "Q.2.3    \n",
    "★ Q2.2で作ったそれぞれのデータフレームをdate列をキーとして結合せよ。"
   ]
  },
  {
   "cell_type": "code",
   "execution_count": null,
   "metadata": {
    "collapsed": true
   },
   "outputs": [],
   "source": []
  },
  {
   "cell_type": "markdown",
   "metadata": {},
   "source": [
    "Q.2.4    \n",
    "★ Q2.3で作ったデータフレームの欠損を確認した上、除去せよ。"
   ]
  },
  {
   "cell_type": "code",
   "execution_count": null,
   "metadata": {
    "collapsed": true
   },
   "outputs": [],
   "source": []
  },
  {
   "cell_type": "markdown",
   "metadata": {},
   "source": [
    "Q.2.5    \n",
    "★ Q2.4で作ったデータフレームに以下の列を追加せよ。  \n",
    "open : session=0のopen  \n",
    "high : session=0とsession=1のhighの大きい方  \n",
    "low : session=0とsession=1のlowの小さい方  \n",
    "close : session=1のclose   \n",
    "volume: session=0とsession=1のvolumeの合計  \n",
    "value: session=0とsession=1のvalueの合計  "
   ]
  },
  {
   "cell_type": "code",
   "execution_count": null,
   "metadata": {
    "collapsed": true
   },
   "outputs": [],
   "source": []
  },
  {
   "cell_type": "markdown",
   "metadata": {},
   "source": [
    "Q.2.6  \n",
    "★ Q2.5で作ったデータフレームの列を削除して以下の列のみに絞れ。   \n",
    "date,open,high,low,close,volume,value"
   ]
  },
  {
   "cell_type": "code",
   "execution_count": null,
   "metadata": {
    "collapsed": true
   },
   "outputs": [],
   "source": []
  },
  {
   "cell_type": "markdown",
   "metadata": {},
   "source": [
    "Q.3.1  \n",
    "★ Q2.6で作ったデータフレームのclose列を折れ線グラフで表示せよ。  "
   ]
  },
  {
   "cell_type": "code",
   "execution_count": null,
   "metadata": {
    "collapsed": true
   },
   "outputs": [],
   "source": []
  },
  {
   "cell_type": "markdown",
   "metadata": {},
   "source": [
    "Q.3.2  \n",
    "★ Q3.1で作ったデータフレームのcloseが大きすぎる区間を除外した新しいデータフレームを作成し、折れ線グラフで表示せよ。"
   ]
  },
  {
   "cell_type": "code",
   "execution_count": null,
   "metadata": {
    "collapsed": true
   },
   "outputs": [],
   "source": []
  },
  {
   "cell_type": "markdown",
   "metadata": {},
   "source": [
    "Q.4.1  \n",
    "★ Q3.2で作ったデータフレームにy列を作成し、１つ前の行のclose列がopen列より大きい場合に1、それ以外の場合に0を入力せよ。  \n",
    "また、先頭行は値を埋められないため、除去せよ。"
   ]
  },
  {
   "cell_type": "code",
   "execution_count": null,
   "metadata": {
    "collapsed": true
   },
   "outputs": [],
   "source": []
  },
  {
   "cell_type": "markdown",
   "metadata": {},
   "source": [
    "Q.4.2  \n",
    "★ Q4.1で作ったデータフレームを先頭8割の行と残り2割の行に分割し、さらに、y列とそれ以外の列に分割せよ。  \n",
    "その際、４つデータフレームはnumpyのarray型に変更し、y列のarrayは1次元配列に変更せよ。  \n",
    "また、４つの変数名はそれぞれ以下にせよ。   \n",
    "・先頭８割、y列以外 : X_train  \n",
    "・先頭８割、y列 : y_train  \n",
    "・残り2割、y列以外 : X_test  \n",
    "・残り2割、y列 : y_test"
   ]
  },
  {
   "cell_type": "code",
   "execution_count": null,
   "metadata": {
    "collapsed": true
   },
   "outputs": [],
   "source": []
  }
 ],
 "metadata": {
  "anaconda-cloud": {},
  "kernelspec": {
   "display_name": "Python 3",
   "language": "python",
   "name": "python3"
  },
  "language_info": {
   "codemirror_mode": {
    "name": "ipython",
    "version": 3
   },
   "file_extension": ".py",
   "mimetype": "text/x-python",
   "name": "python",
   "nbconvert_exporter": "python",
   "pygments_lexer": "ipython3",
   "version": "3.7.0"
  }
 },
 "nbformat": 4,
 "nbformat_minor": 1
}
